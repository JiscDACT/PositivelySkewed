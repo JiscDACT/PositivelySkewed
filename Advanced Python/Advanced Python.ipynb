{
  "nbformat": 4,
  "nbformat_minor": 0,
  "metadata": {
    "colab": {
      "name": "Stats 101.ipynb",
      "provenance": [],
      "collapsed_sections": [],
      "toc_visible": true,
      "include_colab_link": true
    },
    "kernelspec": {
      "name": "python3",
      "display_name": "Python 3"
    },
    "language_info": {
      "name": "python"
    }
  },
  "cells": [
    {
      "cell_type": "markdown",
      "metadata": {
        "id": "view-in-github",
        "colab_type": "text"
      },
      "source": [
        "<a href=\"https://colab.research.google.com/github/JiscDACT/PositivelySkewed/blob/main/Advanced%20Python/Advanced%20Python.ipynb\" target=\"_parent\"><img src=\"https://colab.research.google.com/assets/colab-badge.svg\" alt=\"Open In Colab\"/></a>"
      ]
    },
    {
      "cell_type": "markdown",
      "source": [
        "# Stats 101\n",
        "\n",
        "This is the second workbook in the series, last time we covered; Importing libraries, Importing data, Data types and functions, Dataframes, Dropping nulls/duplicates, and Filtering data. \n",
        "\n",
        "This workbook will introduce statistical coding in Python including the following:\n",
        "\n",
        "* Data types\n",
        "* Averages\n",
        "* Standard deviation\n",
        "* Boxplots\n",
        "* Feature engineering\n",
        "\n",
        "\n",
        "We will be using the following libraries: \n",
        "```\n",
        "- pandas\n",
        "- seaborn\n",
        "- matplotlib\n",
        "- numpy\n",
        "- sklearn\n",
        "```"
      ],
      "metadata": {
        "id": "ooxn9k6xhoo3"
      }
    },
    {
      "cell_type": "code",
      "execution_count": null,
      "metadata": {
        "id": "CRVDEID_CCQQ"
      },
      "outputs": [],
      "source": [
        "import seaborn as sns\n",
        "import pandas as pd\n",
        "import matplotlib.pyplot as plt \n",
        "import numpy as np\n",
        "from sklearn import preprocessing"
      ]
    },
    {
      "cell_type": "markdown",
      "source": [
        "##Load the data"
      ],
      "metadata": {
        "id": "CNVmIRKv-OtI"
      }
    },
    {
      "cell_type": "markdown",
      "source": [
        "We will utilise the Seaborn tips dataset for our examples. "
      ],
      "metadata": {
        "id": "_zAKQ3zR9wMm"
      }
    },
    {
      "cell_type": "code",
      "source": [
        "tips = sns.load_dataset(\"tips\")"
      ],
      "metadata": {
        "id": "Iia856aE0YM-"
      },
      "execution_count": null,
      "outputs": []
    },
    {
      "cell_type": "markdown",
      "source": [
        "The Tips dataset is a built in dataset supplied with the seaborn library. The Tips dataset is a data frame with 244 rows and 7 variables which represents some tipping data where one waiter recorded information about each tip he received over a period of a few months working in one restaurant. In all the waiter recorded 244 tips."
      ],
      "metadata": {
        "id": "FLLkSbMqVnPi"
      }
    },
    {
      "cell_type": "markdown",
      "source": [
        "##Data types\n",
        "Data can be split into three categories: discrete, continuous and categorical.\n",
        "\n",
        "\n",
        "*   **Discrete data**: numerical data that can only take specific values. Generally these take an integer form but can sometimes be a float.\n",
        "  \n",
        "  Examples include number of dependants, shoe size and test scores.\n",
        "*   **Continuous data**: numerical data that can take any value. This generally is in the form of a float.\n",
        "\n",
        "  Examples include height of a person, temperature and time.\n",
        "\n",
        "*   **Categorical data**: data whose values describe some characteristic or category. This can be in the form of category, object or string.\n",
        "\n",
        "  Examples include eye colour, race and age group.\n",
        "\n",
        "\n",
        "\n"
      ],
      "metadata": {
        "id": "ZxxJCqIz-K8D"
      }
    },
    {
      "cell_type": "markdown",
      "source": [
        "Let's view the top 5 rows of data to gain a better understanding of the dataset's content."
      ],
      "metadata": {
        "id": "Vj09Hq6n-VV3"
      }
    },
    {
      "cell_type": "code",
      "source": [
        "tips.head(5) "
      ],
      "metadata": {
        "colab": {
          "base_uri": "https://localhost:8080/",
          "height": 206
        },
        "id": "8qWomqZT0iqI",
        "outputId": "71872bd9-d065-400e-afe1-df7f2eaba923"
      },
      "execution_count": null,
      "outputs": [
        {
          "output_type": "execute_result",
          "data": {
            "text/plain": [
              "   total_bill   tip     sex smoker  day    time  size\n",
              "0       16.99  1.01  Female     No  Sun  Dinner     2\n",
              "1       10.34  1.66    Male     No  Sun  Dinner     3\n",
              "2       21.01  3.50    Male     No  Sun  Dinner     3\n",
              "3       23.68  3.31    Male     No  Sun  Dinner     2\n",
              "4       24.59  3.61  Female     No  Sun  Dinner     4"
            ],
            "text/html": [
              "\n",
              "  <div id=\"df-7175f9ff-afc0-4d9e-927f-3244e3402420\">\n",
              "    <div class=\"colab-df-container\">\n",
              "      <div>\n",
              "<style scoped>\n",
              "    .dataframe tbody tr th:only-of-type {\n",
              "        vertical-align: middle;\n",
              "    }\n",
              "\n",
              "    .dataframe tbody tr th {\n",
              "        vertical-align: top;\n",
              "    }\n",
              "\n",
              "    .dataframe thead th {\n",
              "        text-align: right;\n",
              "    }\n",
              "</style>\n",
              "<table border=\"1\" class=\"dataframe\">\n",
              "  <thead>\n",
              "    <tr style=\"text-align: right;\">\n",
              "      <th></th>\n",
              "      <th>total_bill</th>\n",
              "      <th>tip</th>\n",
              "      <th>sex</th>\n",
              "      <th>smoker</th>\n",
              "      <th>day</th>\n",
              "      <th>time</th>\n",
              "      <th>size</th>\n",
              "    </tr>\n",
              "  </thead>\n",
              "  <tbody>\n",
              "    <tr>\n",
              "      <th>0</th>\n",
              "      <td>16.99</td>\n",
              "      <td>1.01</td>\n",
              "      <td>Female</td>\n",
              "      <td>No</td>\n",
              "      <td>Sun</td>\n",
              "      <td>Dinner</td>\n",
              "      <td>2</td>\n",
              "    </tr>\n",
              "    <tr>\n",
              "      <th>1</th>\n",
              "      <td>10.34</td>\n",
              "      <td>1.66</td>\n",
              "      <td>Male</td>\n",
              "      <td>No</td>\n",
              "      <td>Sun</td>\n",
              "      <td>Dinner</td>\n",
              "      <td>3</td>\n",
              "    </tr>\n",
              "    <tr>\n",
              "      <th>2</th>\n",
              "      <td>21.01</td>\n",
              "      <td>3.50</td>\n",
              "      <td>Male</td>\n",
              "      <td>No</td>\n",
              "      <td>Sun</td>\n",
              "      <td>Dinner</td>\n",
              "      <td>3</td>\n",
              "    </tr>\n",
              "    <tr>\n",
              "      <th>3</th>\n",
              "      <td>23.68</td>\n",
              "      <td>3.31</td>\n",
              "      <td>Male</td>\n",
              "      <td>No</td>\n",
              "      <td>Sun</td>\n",
              "      <td>Dinner</td>\n",
              "      <td>2</td>\n",
              "    </tr>\n",
              "    <tr>\n",
              "      <th>4</th>\n",
              "      <td>24.59</td>\n",
              "      <td>3.61</td>\n",
              "      <td>Female</td>\n",
              "      <td>No</td>\n",
              "      <td>Sun</td>\n",
              "      <td>Dinner</td>\n",
              "      <td>4</td>\n",
              "    </tr>\n",
              "  </tbody>\n",
              "</table>\n",
              "</div>\n",
              "      <button class=\"colab-df-convert\" onclick=\"convertToInteractive('df-7175f9ff-afc0-4d9e-927f-3244e3402420')\"\n",
              "              title=\"Convert this dataframe to an interactive table.\"\n",
              "              style=\"display:none;\">\n",
              "        \n",
              "  <svg xmlns=\"http://www.w3.org/2000/svg\" height=\"24px\"viewBox=\"0 0 24 24\"\n",
              "       width=\"24px\">\n",
              "    <path d=\"M0 0h24v24H0V0z\" fill=\"none\"/>\n",
              "    <path d=\"M18.56 5.44l.94 2.06.94-2.06 2.06-.94-2.06-.94-.94-2.06-.94 2.06-2.06.94zm-11 1L8.5 8.5l.94-2.06 2.06-.94-2.06-.94L8.5 2.5l-.94 2.06-2.06.94zm10 10l.94 2.06.94-2.06 2.06-.94-2.06-.94-.94-2.06-.94 2.06-2.06.94z\"/><path d=\"M17.41 7.96l-1.37-1.37c-.4-.4-.92-.59-1.43-.59-.52 0-1.04.2-1.43.59L10.3 9.45l-7.72 7.72c-.78.78-.78 2.05 0 2.83L4 21.41c.39.39.9.59 1.41.59.51 0 1.02-.2 1.41-.59l7.78-7.78 2.81-2.81c.8-.78.8-2.07 0-2.86zM5.41 20L4 18.59l7.72-7.72 1.47 1.35L5.41 20z\"/>\n",
              "  </svg>\n",
              "      </button>\n",
              "      \n",
              "  <style>\n",
              "    .colab-df-container {\n",
              "      display:flex;\n",
              "      flex-wrap:wrap;\n",
              "      gap: 12px;\n",
              "    }\n",
              "\n",
              "    .colab-df-convert {\n",
              "      background-color: #E8F0FE;\n",
              "      border: none;\n",
              "      border-radius: 50%;\n",
              "      cursor: pointer;\n",
              "      display: none;\n",
              "      fill: #1967D2;\n",
              "      height: 32px;\n",
              "      padding: 0 0 0 0;\n",
              "      width: 32px;\n",
              "    }\n",
              "\n",
              "    .colab-df-convert:hover {\n",
              "      background-color: #E2EBFA;\n",
              "      box-shadow: 0px 1px 2px rgba(60, 64, 67, 0.3), 0px 1px 3px 1px rgba(60, 64, 67, 0.15);\n",
              "      fill: #174EA6;\n",
              "    }\n",
              "\n",
              "    [theme=dark] .colab-df-convert {\n",
              "      background-color: #3B4455;\n",
              "      fill: #D2E3FC;\n",
              "    }\n",
              "\n",
              "    [theme=dark] .colab-df-convert:hover {\n",
              "      background-color: #434B5C;\n",
              "      box-shadow: 0px 1px 3px 1px rgba(0, 0, 0, 0.15);\n",
              "      filter: drop-shadow(0px 1px 2px rgba(0, 0, 0, 0.3));\n",
              "      fill: #FFFFFF;\n",
              "    }\n",
              "  </style>\n",
              "\n",
              "      <script>\n",
              "        const buttonEl =\n",
              "          document.querySelector('#df-7175f9ff-afc0-4d9e-927f-3244e3402420 button.colab-df-convert');\n",
              "        buttonEl.style.display =\n",
              "          google.colab.kernel.accessAllowed ? 'block' : 'none';\n",
              "\n",
              "        async function convertToInteractive(key) {\n",
              "          const element = document.querySelector('#df-7175f9ff-afc0-4d9e-927f-3244e3402420');\n",
              "          const dataTable =\n",
              "            await google.colab.kernel.invokeFunction('convertToInteractive',\n",
              "                                                     [key], {});\n",
              "          if (!dataTable) return;\n",
              "\n",
              "          const docLinkHtml = 'Like what you see? Visit the ' +\n",
              "            '<a target=\"_blank\" href=https://colab.research.google.com/notebooks/data_table.ipynb>data table notebook</a>'\n",
              "            + ' to learn more about interactive tables.';\n",
              "          element.innerHTML = '';\n",
              "          dataTable['output_type'] = 'display_data';\n",
              "          await google.colab.output.renderOutput(dataTable, element);\n",
              "          const docLink = document.createElement('div');\n",
              "          docLink.innerHTML = docLinkHtml;\n",
              "          element.appendChild(docLink);\n",
              "        }\n",
              "      </script>\n",
              "    </div>\n",
              "  </div>\n",
              "  "
            ]
          },
          "metadata": {},
          "execution_count": 3
        }
      ]
    },
    {
      "cell_type": "markdown",
      "source": [
        "There are two ways we can view the data types of the dataset. We can use `info()` to view all fields data types or we can use dtypes to view specific field datatypes."
      ],
      "metadata": {
        "id": "Ya-xfT3K-de1"
      }
    },
    {
      "cell_type": "code",
      "source": [
        "tips.info()"
      ],
      "metadata": {
        "colab": {
          "base_uri": "https://localhost:8080/"
        },
        "id": "mFTLUP5C-aPW",
        "outputId": "37cb8a20-1468-4555-dd91-290738bd597a"
      },
      "execution_count": null,
      "outputs": [
        {
          "output_type": "stream",
          "name": "stdout",
          "text": [
            "<class 'pandas.core.frame.DataFrame'>\n",
            "RangeIndex: 244 entries, 0 to 243\n",
            "Data columns (total 7 columns):\n",
            " #   Column      Non-Null Count  Dtype   \n",
            "---  ------      --------------  -----   \n",
            " 0   total_bill  244 non-null    float64 \n",
            " 1   tip         244 non-null    float64 \n",
            " 2   sex         244 non-null    category\n",
            " 3   smoker      244 non-null    category\n",
            " 4   day         244 non-null    category\n",
            " 5   time        244 non-null    category\n",
            " 6   size        244 non-null    int64   \n",
            "dtypes: category(4), float64(2), int64(1)\n",
            "memory usage: 7.4 KB\n"
          ]
        }
      ]
    },
    {
      "cell_type": "code",
      "source": [
        "tips['smoker'].dtypes"
      ],
      "metadata": {
        "colab": {
          "base_uri": "https://localhost:8080/"
        },
        "id": "jHZLZL7t-ol_",
        "outputId": "c2206127-cc00-4c30-fb33-7129c952c2b2"
      },
      "execution_count": null,
      "outputs": [
        {
          "output_type": "execute_result",
          "data": {
            "text/plain": [
              "CategoricalDtype(categories=['Yes', 'No'], ordered=False)"
            ]
          },
          "metadata": {},
          "execution_count": 5
        }
      ]
    },
    {
      "cell_type": "markdown",
      "source": [
        "From this, we can see that the data types are: \n",
        "\n",
        "*   Categorical: sex, smoker, day and time\n",
        "*   Discrete: size, total_bill and tip\n",
        "\n",
        "You may have thought that total_bill and tip are continuous data however money  comes in clear steps of one penny therefore it is a discrete variable.\n",
        "\n",
        "\n",
        "\n"
      ],
      "metadata": {
        "id": "h-x_F3VZCvBg"
      }
    },
    {
      "cell_type": "markdown",
      "source": [
        "If, as part of our data cleansing, we required to change the data types of a column in the dataframe, we could do it as so:"
      ],
      "metadata": {
        "id": "aLU_DR7dJRLB"
      }
    },
    {
      "cell_type": "code",
      "source": [
        "#We are creating a separate column so we are not changing our base data\n",
        "tips['total_bill_2']= tips['total_bill']"
      ],
      "metadata": {
        "id": "_IDZnVHnKNQX"
      },
      "execution_count": null,
      "outputs": []
    },
    {
      "cell_type": "code",
      "source": [
        "tips['total_bill_2'] = tips['total_bill_2'].astype(int)"
      ],
      "metadata": {
        "id": "rXU5FOULJC6m"
      },
      "execution_count": null,
      "outputs": []
    },
    {
      "cell_type": "code",
      "source": [
        "tips.head(5)"
      ],
      "metadata": {
        "colab": {
          "base_uri": "https://localhost:8080/",
          "height": 206
        },
        "id": "uqdY_OX-JlHP",
        "outputId": "940f24b3-a437-42fc-fa12-d85f222db81f"
      },
      "execution_count": null,
      "outputs": [
        {
          "output_type": "execute_result",
          "data": {
            "text/plain": [
              "   total_bill   tip     sex smoker  day    time  size  total_bill_2\n",
              "0       16.99  1.01  Female     No  Sun  Dinner     2            16\n",
              "1       10.34  1.66    Male     No  Sun  Dinner     3            10\n",
              "2       21.01  3.50    Male     No  Sun  Dinner     3            21\n",
              "3       23.68  3.31    Male     No  Sun  Dinner     2            23\n",
              "4       24.59  3.61  Female     No  Sun  Dinner     4            24"
            ],
            "text/html": [
              "\n",
              "  <div id=\"df-3d1d9e80-f3c6-49f5-bf38-78b786e6ebce\">\n",
              "    <div class=\"colab-df-container\">\n",
              "      <div>\n",
              "<style scoped>\n",
              "    .dataframe tbody tr th:only-of-type {\n",
              "        vertical-align: middle;\n",
              "    }\n",
              "\n",
              "    .dataframe tbody tr th {\n",
              "        vertical-align: top;\n",
              "    }\n",
              "\n",
              "    .dataframe thead th {\n",
              "        text-align: right;\n",
              "    }\n",
              "</style>\n",
              "<table border=\"1\" class=\"dataframe\">\n",
              "  <thead>\n",
              "    <tr style=\"text-align: right;\">\n",
              "      <th></th>\n",
              "      <th>total_bill</th>\n",
              "      <th>tip</th>\n",
              "      <th>sex</th>\n",
              "      <th>smoker</th>\n",
              "      <th>day</th>\n",
              "      <th>time</th>\n",
              "      <th>size</th>\n",
              "      <th>total_bill_2</th>\n",
              "    </tr>\n",
              "  </thead>\n",
              "  <tbody>\n",
              "    <tr>\n",
              "      <th>0</th>\n",
              "      <td>16.99</td>\n",
              "      <td>1.01</td>\n",
              "      <td>Female</td>\n",
              "      <td>No</td>\n",
              "      <td>Sun</td>\n",
              "      <td>Dinner</td>\n",
              "      <td>2</td>\n",
              "      <td>16</td>\n",
              "    </tr>\n",
              "    <tr>\n",
              "      <th>1</th>\n",
              "      <td>10.34</td>\n",
              "      <td>1.66</td>\n",
              "      <td>Male</td>\n",
              "      <td>No</td>\n",
              "      <td>Sun</td>\n",
              "      <td>Dinner</td>\n",
              "      <td>3</td>\n",
              "      <td>10</td>\n",
              "    </tr>\n",
              "    <tr>\n",
              "      <th>2</th>\n",
              "      <td>21.01</td>\n",
              "      <td>3.50</td>\n",
              "      <td>Male</td>\n",
              "      <td>No</td>\n",
              "      <td>Sun</td>\n",
              "      <td>Dinner</td>\n",
              "      <td>3</td>\n",
              "      <td>21</td>\n",
              "    </tr>\n",
              "    <tr>\n",
              "      <th>3</th>\n",
              "      <td>23.68</td>\n",
              "      <td>3.31</td>\n",
              "      <td>Male</td>\n",
              "      <td>No</td>\n",
              "      <td>Sun</td>\n",
              "      <td>Dinner</td>\n",
              "      <td>2</td>\n",
              "      <td>23</td>\n",
              "    </tr>\n",
              "    <tr>\n",
              "      <th>4</th>\n",
              "      <td>24.59</td>\n",
              "      <td>3.61</td>\n",
              "      <td>Female</td>\n",
              "      <td>No</td>\n",
              "      <td>Sun</td>\n",
              "      <td>Dinner</td>\n",
              "      <td>4</td>\n",
              "      <td>24</td>\n",
              "    </tr>\n",
              "  </tbody>\n",
              "</table>\n",
              "</div>\n",
              "      <button class=\"colab-df-convert\" onclick=\"convertToInteractive('df-3d1d9e80-f3c6-49f5-bf38-78b786e6ebce')\"\n",
              "              title=\"Convert this dataframe to an interactive table.\"\n",
              "              style=\"display:none;\">\n",
              "        \n",
              "  <svg xmlns=\"http://www.w3.org/2000/svg\" height=\"24px\"viewBox=\"0 0 24 24\"\n",
              "       width=\"24px\">\n",
              "    <path d=\"M0 0h24v24H0V0z\" fill=\"none\"/>\n",
              "    <path d=\"M18.56 5.44l.94 2.06.94-2.06 2.06-.94-2.06-.94-.94-2.06-.94 2.06-2.06.94zm-11 1L8.5 8.5l.94-2.06 2.06-.94-2.06-.94L8.5 2.5l-.94 2.06-2.06.94zm10 10l.94 2.06.94-2.06 2.06-.94-2.06-.94-.94-2.06-.94 2.06-2.06.94z\"/><path d=\"M17.41 7.96l-1.37-1.37c-.4-.4-.92-.59-1.43-.59-.52 0-1.04.2-1.43.59L10.3 9.45l-7.72 7.72c-.78.78-.78 2.05 0 2.83L4 21.41c.39.39.9.59 1.41.59.51 0 1.02-.2 1.41-.59l7.78-7.78 2.81-2.81c.8-.78.8-2.07 0-2.86zM5.41 20L4 18.59l7.72-7.72 1.47 1.35L5.41 20z\"/>\n",
              "  </svg>\n",
              "      </button>\n",
              "      \n",
              "  <style>\n",
              "    .colab-df-container {\n",
              "      display:flex;\n",
              "      flex-wrap:wrap;\n",
              "      gap: 12px;\n",
              "    }\n",
              "\n",
              "    .colab-df-convert {\n",
              "      background-color: #E8F0FE;\n",
              "      border: none;\n",
              "      border-radius: 50%;\n",
              "      cursor: pointer;\n",
              "      display: none;\n",
              "      fill: #1967D2;\n",
              "      height: 32px;\n",
              "      padding: 0 0 0 0;\n",
              "      width: 32px;\n",
              "    }\n",
              "\n",
              "    .colab-df-convert:hover {\n",
              "      background-color: #E2EBFA;\n",
              "      box-shadow: 0px 1px 2px rgba(60, 64, 67, 0.3), 0px 1px 3px 1px rgba(60, 64, 67, 0.15);\n",
              "      fill: #174EA6;\n",
              "    }\n",
              "\n",
              "    [theme=dark] .colab-df-convert {\n",
              "      background-color: #3B4455;\n",
              "      fill: #D2E3FC;\n",
              "    }\n",
              "\n",
              "    [theme=dark] .colab-df-convert:hover {\n",
              "      background-color: #434B5C;\n",
              "      box-shadow: 0px 1px 3px 1px rgba(0, 0, 0, 0.15);\n",
              "      filter: drop-shadow(0px 1px 2px rgba(0, 0, 0, 0.3));\n",
              "      fill: #FFFFFF;\n",
              "    }\n",
              "  </style>\n",
              "\n",
              "      <script>\n",
              "        const buttonEl =\n",
              "          document.querySelector('#df-3d1d9e80-f3c6-49f5-bf38-78b786e6ebce button.colab-df-convert');\n",
              "        buttonEl.style.display =\n",
              "          google.colab.kernel.accessAllowed ? 'block' : 'none';\n",
              "\n",
              "        async function convertToInteractive(key) {\n",
              "          const element = document.querySelector('#df-3d1d9e80-f3c6-49f5-bf38-78b786e6ebce');\n",
              "          const dataTable =\n",
              "            await google.colab.kernel.invokeFunction('convertToInteractive',\n",
              "                                                     [key], {});\n",
              "          if (!dataTable) return;\n",
              "\n",
              "          const docLinkHtml = 'Like what you see? Visit the ' +\n",
              "            '<a target=\"_blank\" href=https://colab.research.google.com/notebooks/data_table.ipynb>data table notebook</a>'\n",
              "            + ' to learn more about interactive tables.';\n",
              "          element.innerHTML = '';\n",
              "          dataTable['output_type'] = 'display_data';\n",
              "          await google.colab.output.renderOutput(dataTable, element);\n",
              "          const docLink = document.createElement('div');\n",
              "          docLink.innerHTML = docLinkHtml;\n",
              "          element.appendChild(docLink);\n",
              "        }\n",
              "      </script>\n",
              "    </div>\n",
              "  </div>\n",
              "  "
            ]
          },
          "metadata": {},
          "execution_count": 8
        }
      ]
    },
    {
      "cell_type": "code",
      "source": [
        "tips['total_bill_2'].dtypes"
      ],
      "metadata": {
        "colab": {
          "base_uri": "https://localhost:8080/"
        },
        "id": "TQUolGZ_KkOB",
        "outputId": "f450d5e3-b441-4e8f-8a3d-2d42a2b79bf5"
      },
      "execution_count": null,
      "outputs": [
        {
          "output_type": "execute_result",
          "data": {
            "text/plain": [
              "dtype('int64')"
            ]
          },
          "metadata": {},
          "execution_count": 9
        }
      ]
    },
    {
      "cell_type": "markdown",
      "source": [
        "We can see that the float data for total_bill_3 has now been transformed into an integer. This does not perform any rounding on the data - it simply removes any numbers to the right of the decimal point. "
      ],
      "metadata": {
        "id": "eLxDjIF0JqJ_"
      }
    },
    {
      "cell_type": "code",
      "source": [
        "#Drop the column\n",
        "tips = tips.drop('total_bill_2', 1)"
      ],
      "metadata": {
        "colab": {
          "base_uri": "https://localhost:8080/"
        },
        "id": "b3qJEhJNKuwC",
        "outputId": "77551fe3-a519-4063-dccf-84c4bfef2d00"
      },
      "execution_count": null,
      "outputs": [
        {
          "output_type": "stream",
          "name": "stderr",
          "text": [
            "/usr/local/lib/python3.7/dist-packages/ipykernel_launcher.py:2: FutureWarning: In a future version of pandas all arguments of DataFrame.drop except for the argument 'labels' will be keyword-only\n",
            "  \n"
          ]
        }
      ]
    },
    {
      "cell_type": "code",
      "source": [
        "tips.head(5)"
      ],
      "metadata": {
        "colab": {
          "base_uri": "https://localhost:8080/",
          "height": 215
        },
        "id": "sKnoE_SqK8-M",
        "outputId": "5860a789-56d0-4a03-aeed-00fb60db8897"
      },
      "execution_count": null,
      "outputs": [
        {
          "output_type": "execute_result",
          "data": {
            "text/plain": [
              "   total_bill   tip     sex smoker  day    time  size\n",
              "0       16.99  1.01  Female     No  Sun  Dinner     2\n",
              "1       10.34  1.66    Male     No  Sun  Dinner     3\n",
              "2       21.01  3.50    Male     No  Sun  Dinner     3\n",
              "3       23.68  3.31    Male     No  Sun  Dinner     2\n",
              "4       24.59  3.61  Female     No  Sun  Dinner     4"
            ],
            "text/html": [
              "\n",
              "  <div id=\"df-20af63af-c965-40fb-b727-a24c5d2e2646\">\n",
              "    <div class=\"colab-df-container\">\n",
              "      <div>\n",
              "<style scoped>\n",
              "    .dataframe tbody tr th:only-of-type {\n",
              "        vertical-align: middle;\n",
              "    }\n",
              "\n",
              "    .dataframe tbody tr th {\n",
              "        vertical-align: top;\n",
              "    }\n",
              "\n",
              "    .dataframe thead th {\n",
              "        text-align: right;\n",
              "    }\n",
              "</style>\n",
              "<table border=\"1\" class=\"dataframe\">\n",
              "  <thead>\n",
              "    <tr style=\"text-align: right;\">\n",
              "      <th></th>\n",
              "      <th>total_bill</th>\n",
              "      <th>tip</th>\n",
              "      <th>sex</th>\n",
              "      <th>smoker</th>\n",
              "      <th>day</th>\n",
              "      <th>time</th>\n",
              "      <th>size</th>\n",
              "    </tr>\n",
              "  </thead>\n",
              "  <tbody>\n",
              "    <tr>\n",
              "      <th>0</th>\n",
              "      <td>16.99</td>\n",
              "      <td>1.01</td>\n",
              "      <td>Female</td>\n",
              "      <td>No</td>\n",
              "      <td>Sun</td>\n",
              "      <td>Dinner</td>\n",
              "      <td>2</td>\n",
              "    </tr>\n",
              "    <tr>\n",
              "      <th>1</th>\n",
              "      <td>10.34</td>\n",
              "      <td>1.66</td>\n",
              "      <td>Male</td>\n",
              "      <td>No</td>\n",
              "      <td>Sun</td>\n",
              "      <td>Dinner</td>\n",
              "      <td>3</td>\n",
              "    </tr>\n",
              "    <tr>\n",
              "      <th>2</th>\n",
              "      <td>21.01</td>\n",
              "      <td>3.50</td>\n",
              "      <td>Male</td>\n",
              "      <td>No</td>\n",
              "      <td>Sun</td>\n",
              "      <td>Dinner</td>\n",
              "      <td>3</td>\n",
              "    </tr>\n",
              "    <tr>\n",
              "      <th>3</th>\n",
              "      <td>23.68</td>\n",
              "      <td>3.31</td>\n",
              "      <td>Male</td>\n",
              "      <td>No</td>\n",
              "      <td>Sun</td>\n",
              "      <td>Dinner</td>\n",
              "      <td>2</td>\n",
              "    </tr>\n",
              "    <tr>\n",
              "      <th>4</th>\n",
              "      <td>24.59</td>\n",
              "      <td>3.61</td>\n",
              "      <td>Female</td>\n",
              "      <td>No</td>\n",
              "      <td>Sun</td>\n",
              "      <td>Dinner</td>\n",
              "      <td>4</td>\n",
              "    </tr>\n",
              "  </tbody>\n",
              "</table>\n",
              "</div>\n",
              "      <button class=\"colab-df-convert\" onclick=\"convertToInteractive('df-20af63af-c965-40fb-b727-a24c5d2e2646')\"\n",
              "              title=\"Convert this dataframe to an interactive table.\"\n",
              "              style=\"display:none;\">\n",
              "        \n",
              "  <svg xmlns=\"http://www.w3.org/2000/svg\" height=\"24px\"viewBox=\"0 0 24 24\"\n",
              "       width=\"24px\">\n",
              "    <path d=\"M0 0h24v24H0V0z\" fill=\"none\"/>\n",
              "    <path d=\"M18.56 5.44l.94 2.06.94-2.06 2.06-.94-2.06-.94-.94-2.06-.94 2.06-2.06.94zm-11 1L8.5 8.5l.94-2.06 2.06-.94-2.06-.94L8.5 2.5l-.94 2.06-2.06.94zm10 10l.94 2.06.94-2.06 2.06-.94-2.06-.94-.94-2.06-.94 2.06-2.06.94z\"/><path d=\"M17.41 7.96l-1.37-1.37c-.4-.4-.92-.59-1.43-.59-.52 0-1.04.2-1.43.59L10.3 9.45l-7.72 7.72c-.78.78-.78 2.05 0 2.83L4 21.41c.39.39.9.59 1.41.59.51 0 1.02-.2 1.41-.59l7.78-7.78 2.81-2.81c.8-.78.8-2.07 0-2.86zM5.41 20L4 18.59l7.72-7.72 1.47 1.35L5.41 20z\"/>\n",
              "  </svg>\n",
              "      </button>\n",
              "      \n",
              "  <style>\n",
              "    .colab-df-container {\n",
              "      display:flex;\n",
              "      flex-wrap:wrap;\n",
              "      gap: 12px;\n",
              "    }\n",
              "\n",
              "    .colab-df-convert {\n",
              "      background-color: #E8F0FE;\n",
              "      border: none;\n",
              "      border-radius: 50%;\n",
              "      cursor: pointer;\n",
              "      display: none;\n",
              "      fill: #1967D2;\n",
              "      height: 32px;\n",
              "      padding: 0 0 0 0;\n",
              "      width: 32px;\n",
              "    }\n",
              "\n",
              "    .colab-df-convert:hover {\n",
              "      background-color: #E2EBFA;\n",
              "      box-shadow: 0px 1px 2px rgba(60, 64, 67, 0.3), 0px 1px 3px 1px rgba(60, 64, 67, 0.15);\n",
              "      fill: #174EA6;\n",
              "    }\n",
              "\n",
              "    [theme=dark] .colab-df-convert {\n",
              "      background-color: #3B4455;\n",
              "      fill: #D2E3FC;\n",
              "    }\n",
              "\n",
              "    [theme=dark] .colab-df-convert:hover {\n",
              "      background-color: #434B5C;\n",
              "      box-shadow: 0px 1px 3px 1px rgba(0, 0, 0, 0.15);\n",
              "      filter: drop-shadow(0px 1px 2px rgba(0, 0, 0, 0.3));\n",
              "      fill: #FFFFFF;\n",
              "    }\n",
              "  </style>\n",
              "\n",
              "      <script>\n",
              "        const buttonEl =\n",
              "          document.querySelector('#df-20af63af-c965-40fb-b727-a24c5d2e2646 button.colab-df-convert');\n",
              "        buttonEl.style.display =\n",
              "          google.colab.kernel.accessAllowed ? 'block' : 'none';\n",
              "\n",
              "        async function convertToInteractive(key) {\n",
              "          const element = document.querySelector('#df-20af63af-c965-40fb-b727-a24c5d2e2646');\n",
              "          const dataTable =\n",
              "            await google.colab.kernel.invokeFunction('convertToInteractive',\n",
              "                                                     [key], {});\n",
              "          if (!dataTable) return;\n",
              "\n",
              "          const docLinkHtml = 'Like what you see? Visit the ' +\n",
              "            '<a target=\"_blank\" href=https://colab.research.google.com/notebooks/data_table.ipynb>data table notebook</a>'\n",
              "            + ' to learn more about interactive tables.';\n",
              "          element.innerHTML = '';\n",
              "          dataTable['output_type'] = 'display_data';\n",
              "          await google.colab.output.renderOutput(dataTable, element);\n",
              "          const docLink = document.createElement('div');\n",
              "          docLink.innerHTML = docLinkHtml;\n",
              "          element.appendChild(docLink);\n",
              "        }\n",
              "      </script>\n",
              "    </div>\n",
              "  </div>\n",
              "  "
            ]
          },
          "metadata": {},
          "execution_count": 11
        }
      ]
    },
    {
      "cell_type": "markdown",
      "source": [
        "### Exercise 1\n",
        "We will be using the Iris dataset."
      ],
      "metadata": {
        "id": "rmhX5QrGCmYa"
      }
    },
    {
      "cell_type": "code",
      "source": [
        "iris = sns.load_dataset('iris')"
      ],
      "metadata": {
        "id": "gTDPu8e6rOde"
      },
      "execution_count": null,
      "outputs": []
    },
    {
      "cell_type": "markdown",
      "source": [
        "View the top 7 rows of the dataset."
      ],
      "metadata": {
        "id": "x2hLWClCrNma"
      }
    },
    {
      "cell_type": "code",
      "source": [
        "#Insert answer here\n",
        "\n"
      ],
      "metadata": {
        "id": "rjtpZ7lurbQS"
      },
      "execution_count": null,
      "outputs": []
    },
    {
      "cell_type": "code",
      "source": [
        "#@markdown Click here for answer\n",
        "iris.head(7)"
      ],
      "metadata": {
        "cellView": "form",
        "id": "P--HRg_grb9S"
      },
      "execution_count": null,
      "outputs": []
    },
    {
      "cell_type": "markdown",
      "source": [
        "### Exercise 2\n",
        "Identify the data types for each of the fields in the iris dataset."
      ],
      "metadata": {
        "id": "TXyYDXUnrv8V"
      }
    },
    {
      "cell_type": "code",
      "source": [
        "#Insert answer here\n"
      ],
      "metadata": {
        "id": "T_Y3PfrrtMP9"
      },
      "execution_count": null,
      "outputs": []
    },
    {
      "cell_type": "code",
      "source": [
        "#@markdown Click here for answer\n",
        "iris.info()\n",
        "\n",
        "#Continuous: sepal_length, sepal_width, petal_length, petal_width\n",
        "#Categorical: species\n"
      ],
      "metadata": {
        "cellView": "form",
        "id": "NfYCITeatNpr"
      },
      "execution_count": null,
      "outputs": []
    },
    {
      "cell_type": "markdown",
      "source": [
        "##Averages, standard deviation and other useful statistics"
      ],
      "metadata": {
        "id": "JM2zknGuF3tM"
      }
    },
    {
      "cell_type": "markdown",
      "source": [
        "###Averages\n",
        "\n",
        "There are three main types of average:\n",
        "\n",
        "**Mean**: The most common average. \n",
        "\n",
        "- Add all the values and divide by the number of values\n",
        "\n",
        "**Median**: The middle value\n",
        "\n",
        "- Put numbers in ascending order and choose the middle value. If there is an even number, take the mean of the two middle values.\n",
        "\n",
        "**Mode**: Most common value\n",
        "\n",
        "- Look for the most frequently occurring value\n",
        "\n"
      ],
      "metadata": {
        "id": "_Zxqd_zV_gQc"
      }
    },
    {
      "cell_type": "markdown",
      "source": [
        "When calculating the averages of the following dataset, the results differ depending on the different type of average.\n",
        "\n",
        "![image.png](data:image/png;base64,iVBORw0KGgoAAAANSUhEUgAABAgAAAHUCAYAAAC3XRrpAAAgAElEQVR4nOzdfXQb9Z0v/rf8bOdxLKA0ZVPqMbtkC3UKctJNnd2b7AaJ0MOFswEpwOnh3HBw5HI4Z2GbBDu55+6vJEUmtPdywQ/c5N78urSSIXfh19MYO7lN9iItSxIla1FYKIlUCi0FakVJHD/b+v7+GGmskWQ9WU923q9zdKyRRzMfzYxG8/3M90EnhBAgIiIiIiIioqtaSaEDICIiIiIiIqLCY4KAiIiIiIiIiJggICIiIiIiIiImCIiIiIiIiIgITBAQEREREREREZggICIiIiIiIiIwQUBEREREREREYIKAiIiIiIiIiMAEARERERERERGBCQIiIiIiIiIiAhMERERERERERAQmCIiIiIiIiIgITBAQEREREREREZggICIiIiIiIiIwQUBEREREREREYIKAiIiIiIiIiMAEARERERERERGBCQIiIiIiIiIiAhMEREQF5XK5UF9fD51OB51Oh+7u7kKHpOHxeNDW1gaTyaTGqNPpUF9fD4vFAofDUegQAQB+vx8OhwMWiwWNjY1FHWs8xX4chEVu58h4o7ez3+/Pa1w+nw+1tbWaeFJ5NDY25jXOaJHfr+j4TSYT2tra4PP5ChrjbHw+n+a8YLFYChqPxWJJe/9HP2pra4t2exMR5Y0gIqK8GxwcFFarVQDQPGw2W6FDE0Io8RmNxpj44j0MBoMYGBgoWJw2m01IklT0scZT7MdBpK6urpS3s9FozGtsNpstpbjiPQrB6XSm/P0qxuMh3ncu3/s8WjrbM9HD6XQW9HMQERVaWQY5BSIimoPe3l489NBDCAQChQ4lLo/Hgw0bNqQcn9vtxoYNG3DixAk0NDTkODqtBx98EP39/SnPH47V7Xajrq4uh5ElV+zHQZjf7097O6czbyHJspz3dbpcLqxfvz6t9+zcuROXLl3C3r17cxRVajweDx555BG43e6CxkFERLnDBAERUZ74fD60tLQUdeHJ7/fjb//2bzWFVoPBgH/4h3/A2rVrodfr4ff7cezYMTz33HNqQSEQCOCRRx7B6dOn8xpv5LY0m8245557sGnTJuj1egBKgaa7uxudnZ3qfIFAAPv370dHR0deYw2bD8dBpOjkgCRJsFqtuPPOO9HU1KS+7nK58N577+HAgQMFTXoYDAb8+Mc/TmneFStW5DiaWG+99Zb6XJZlmM1m3H///WpyLfz92r17N7xerzrvvn37sG3btoIktvx+P370ox9h3759eV93qjo6OvDpp5+m/b67775bPV4lSdIc00REV6VCV2EgIroa2O32uFVynU5nUVUljq6qbTabZ513cHBQGAwGzfx2uz2P0QohSZKwWq3C6/UmnK+rqyumKvHg4GCeopwxX46DsOjjwWAwJN3WhRAZZ6GruifT1dUlZFlO+l0ZHBwUsixrtn9ra2ueopwxMDAQE0c4/shq/cW+3eOJ/t4VYvsSERUbdlJIRJQHhw4dUu9SybIMu92Ovr6+ortb9cwzz6jPJUnCiy++OOu8er0ePT09mteee+65nMUWz4ULF9DR0ZH0rmpzc3NMdfL3338/l6HFNV+OA0C5axx5PMiyjL6+voI3zZjvmpubcf78+aSd+un1ejz99NOa186cOZPL0OLq7+9XazJIkgSbzYaTJ08WvFPCbIjevtu2bStQJERExYMJAiKiPAlfXKdSOCgEj8ejqRputVrVqvqzqaurg9lsVqfdbnfR9gJuMBgKHQKA4j8Owg4ePKg5Hg4dOpT0eKDsWrVqVaFDUFmtVpw7dw47duxYEMeBz+eLaaLE5BcREfsgICLKi46ODixbtqyoL6yj76h/+9vfTul9GzZs0NQk+OCDD4ryQru2trbQIcyL4yDspZdeUp8bjcairOWw0C1ZsqTQIWDbtm3YsmVLUX6n52L//v2a6ccee6xAkRARFRfWICAiyoO6urqiLxR+/PHHmumlS5em9L6vf/3rmul33303azFlU3QHioXooG4+HAeAUpsksoO8hx9+uIDRXL0++OADzXQhCul6vX7BJQf8fr+m41JZlpkAIyIKYYKAiIjmJPrC+uzZswWKZHYul0szNJvBYFhwhZ5sevvttzXTa9asKVAkV7fnn39eM/2d73ynQJEsLAcPHtRMR/dFQER0NWOCgIiIAADLli3TTL/33nsZLefixYvZCCdrPB4P7r77bs1rqQ6Dd7XyeDyaaSZT8i96KEyj0YjNmzcXMKKFI7oz1k2bNhUwGiKi4sIEARERAYhtKvDaa68VKJLscLlcaGlpwerVqzWd7dntdlYnTiKyo0mj0QhAqZbtcDhgsVhQX18PnU6nPhobG9HW1haTWCiEU6dOaWKLjNFiscDhcMDv9xc6zLh8Ph8cDgfq6+s1VeANBgN++tOfFjCyhcPhcGjOB7t27ZoXzX6IiPKFnRQSEREApamAJEnqxXN/f79aIEykt7c3H+ElZDKZNHdb4zGbzXjssceYHEhBZAHa7/ejpaVFU2CN5na74Xa7sW/fPpjNZrz44osFK3RFFv4ihWPs6emBJEnYtWsXduzYkefoZrhcLqxfvz7hPLIs49FHH8W2bdtYiM2S3bt3a6a3bNlSoEiIiIoTaxAQEZFq165dmumtW7eipaUl5s6wy+VCd3c36uvrcdddd+UzxLiSJQcMBgNkWc5TNPNfZH8Nbrc7YXIgWk9PDx588MFchDWrlStXpjV/IBDAzp070dLSkqOIknvrrbcS/l+SJBgMhpimP5Q5l8ul6XzTarWy+QwRURQmCIiISLVt2zYYDAbNa52dnVi9erWmuvb69euxfft2zcV2IYWrwc8mfHd7/fr1MJlMRVvFvJjJsoyuri44nU4IIdSH0+mE1WrVzBuufZIvFosFTqcTTqcTXq9XE9/g4CCcTidsNltMkqizsxPt7e15izPSunXrEv4/EAigp6cH27dvx0033ZTX7blQRXdG+MADDxQoEiKi4sUEARERqfR6Pfr6+mA2m1N+T3ThsBD6+vo0hUIhBLxeL+x2e0zyoL+/HzfddJOmnT3NTpIk2O12nD9/Hs3NzTFNNJqamtDR0YGuri7N688991w+w0RTUxOamppi7gjr9Xo0NTVhx44dOHnyZMzxunPnzoIkjJqammKO2XDCpbW1FZIkqfMGAgFs3boVbW1teY9zofD5fJqaRgaDgc2NiIjiYIKAiIg09Ho9HA6Hemc4ukaBJEkwGo3o6uqC1+tFR0eH5v+33357PsOdVV1dHSwWC/r6+uB0OmMKXIWsXj6frFmzJmk/FADQ3NysuUPvdruLrqaGXq9HR0dHTE2Cw4cPFyiiWE1NTdi7dy/OnTsXk8zYt28fXC5XgSKb3/bv36+ZfvLJJwsUCRFRcWOCgIiI4grfGT59+rTmDueFCxfQ19eH5uZm1NXVxRQCi7HNdFNTE37+859rXuvv7y+KXveLUab9NUTXPHn//fezEU7Wff/739dMF+NxEE5mRNeAeeGFFwoU0fzl9/s1/WhIkpRS0ouI6GrEBAEREc1JdCEwWdvqQmlqaoqpDZGsc8OrVX19vfr81KlTKb+vGJND8UQP6VnMzU0ef/xxzXRPT0+BIpm/Dh48qJmO7oyViIhmMEFARERz8sYbb2imi7ld73333aeZPnv2bIEimT9mGzaQ8mPz5s0xrxVjjYdi9swzz2imt23bVqBIiIiKHxMEREQ0J5F3NNPp3LAYcOjD+DZu3KiZzrTd+5IlS7IRTs4VS78ZqbrhhhsKHcK84XA4NEkuq9UKvV5fwIiIiIobEwRERJSx7u5uzVCH3/3udwsYTXLRNQbmS5X4fLvllls00++9915K73v11Vc10w0NDVmLKZuia73ceuutBYokuXi1BVjATd3u3bs1083NzQWKhIhofmCCgIiIMuLxePDUU0+p07Isx60OXSx8Ph+OHj2qeS26AzhSrF27VjP97LPPJn2Py+WC2+1Wp4u1Nkl0h3UAsGnTpgJFk9wrr7yimS7W7VqMXC6XJoFpNBqLNmlFRFQsmCAgIprHfD4f6uvrodPpUFtbi97e3rys1+VyYcOGDZqqu4cOHUr6PpPJBJ1OB51Oh/b29jnFYLFYYDKZUqr+7vf7YTabNfEmKyz09vaitrYWOp0O9fX1Rd2RXbaPA71erxliz+v1oq2tLeH6H374Yc1rjz322KzzZ/s4sFgsKe0fn88Hk8mkOQ5aW1sT3pHP5nHg8XhQW1uL9vb2lIaAdDgc2Ldvn+a1RNu1UOeDTGXzOIjn6aef1kxHH6NERBSHICKiggKgPmw2W1rv7erq0rzfaDTOKRar1SpkWRatra3iyJEjwuv1qv8bHBwUR44cEVarVbPOVOMeGBiIed9cGI1GdTkGg0HYbDbhdDpj1tnV1SVkWY5Z98DAQMLlm83mOe2bdBXTcSCEEF6vN2abmc1mzTb2er3CZrMJSZI087W2ts663FweB2azWdjtds1xK4QQTqdTtLa2xsRpMBjE4OBgwuVn8zhwOp3qciRJElarNSbeRN8zs9mccPm5OA4Sidz26a4r28dBtOjjV5blrC6fiGihKptrgoGIiJLr7u7G9u3bk863c+dO7Ny5M+b1gYGBuHe7L126lJX4wnw+H7xeb8xdy0RsNht27NiRdL6hoaG5hBZj+fLl6nO3262p3p6M3W5PWtX44sWLGcc2m/lyHABAXV0d7HY7tm7dqr7W09OTdJg9q9WKvXv3zvr/bB8HkVKJL8xgMKCvry9pe/5sHgeRnTYGAgF0dnbGNHeYjcFgwIsvvphwnlwcBx6PB6tXr046X39/P3Q6XczrXV1dcdv95/I4AID9+/drph999NGcro+IaKFgEwMiojx47bXX5vT+/v7+lOaba2/s0b3XJyLLMpxOZ0rJgXgMBkNG7wt78cUXNdXgU2E0GjEwMACLxZL2+qI77svEfDkOwiwWC+x2OyRJSjqvJEmw2Wzo6OhIax1zPQ5sNlvao1HYbLaUkgPxzOU4aGhowJEjR9KKN7xdT58+nXa82TgOUj3mZpPqMT/X4yBSdD8TkiRxaEMiohSxBgERUR7ce++9c7rQTrUzvTvvvDPjdQDAjh07sG7dOrzxxhs4c+ZMTMxGoxG333477rzzTjQ1Nc1pXffdd9+c3q/X69HR0YEf/OAHOHbsGN58802cPn06piZBOOb7778/4w7KJEmK6bgvE/PlOIhksViwadMmHD58GK+99pomfkmSsGbNGtx7773YsmVLRgXuuR4HDQ0NOH/+PDweD/r7+3H8+HGcOnVK08+AwWCALMu45557sGnTpoxHAcjGcbB582Zs3rw5YbyyLMNgMMw53mwcB0ajMW5tllTde++9Kc031+Mg0vvvv6+Z3rVrF0d+ICJKkU4IIQodBBERZaa+vl7tpdtoNKKvr6/AEc2upaVFvasnSRLOnTtXtBftPp9Pc5c31WYUhcLjIDd4HOTOfDoOiIiuJmxiQEQ0TzkcDrUwIElS2lW788nn82mq/L788stFXRiIbL9sMBiKulDI4yB3eBzkxnw7DoiIriZMEBARzVO7d+9Wn//whz9EXV1dAaNJLLKgZTabsXnz5gJGk1h04eXAgQMFjCY5Hge5weMgd+bTcUBEdLVhgoCIaB6KvFtoNBrj9hJeLCILWpIkJe2JvdAiCy82my3jfgvygcdB7vA4yI35dhwQEV1t2AcBEdE8FG5rLEkS3G53Ud8tjGxrfOTIkaK+WxjZ5txgMOD06dMFjigxHge5weMgd+bTcUBEdDViDQIionnG5XKphYGOjo6iLgwAUAsDra2tRV8YOHz4MAClF/lir1LO4yB3eBzkznw6DoiIrkasQUBERERERERErEFAREREREREREwQEBERERERERGYICAiIiIiIiIiMEFARERERERERGCCgIiIiIiIiIjABAERERERERERgQkCIiIiIiIiIgITBEREREREREQEJgiIiIiIiIiICEwQEBERERERERGYICAiIiIiIiIiMEFARERERERERGCCgIiIiIiIiIjABAERERERERERgQkCIiIiIiIiIgITBEREREREREQEJgiIiIiIiIiICEwQEBERERERERGYICAiIiIiIiIiMEFARERERERERGCCgIiIiIiIiIjABAERERERERERgQkCIiIiIiIiIgITBEREREREREQEJgiIiIiIiIiICEwQEBERERERERGYICAiIiIiIiIiMEFARERERERERGCCgIiIiIiIiIjABAERERERERERgQkCIiIiIiIiIgITBEREREREREQEJgiIiIiIiIiICEwQEBERERERERGYICAiIiIiIiIiMEFARERERERERGCCgIiIiIiIiIjABAERERERERERgQkCIiIiIiIiIgITBEREREREREQEJgiIiIiIiIiICEwQEBERERERERGYICAiIiIiIiIiMEFARERERERERGCCgIiIiIiIiIjABAERERERERERgQkCIiIiIiIiIgITBEREREREREQEJgiIiIiIiIiICEwQEBERERERERGYICAiIiIiIiIiMEFARERERERERGCCgIiIiIiIiIjABAERERERERERgQkCIiIiIiIiIgITBEREREREREQEJgiIiIiIiIiICEwQEBERERERERGYICAiIiIiIiIiMEFARERERERERGCCgIiIiIgoq9rb26HT6dSHyWQqdEhERCkpygRBb28vamtrNSdWnU6H2tpatLS0wO/3p73M9vb2WZfpcDhy8CmIiIiIrk4mkynmmkun06GxsRG9vb1pL8/j8cy6TJPJlNG1YS4dP35cM93f3x8zj8vlQn19fVF/DiK6+uiEEKLQQUQzmUxxT6RhRqMRfX19KS/P5XJh/fr1s/5flmWcP38+rRiJiIiIKFay6y4AcDqdaGpqSnmZya4N7XY7LBZLysvLtXjxRl9yNzY2wu12a17r6upCc3NzzuMjIppNUdYgSKa/vx8ejyfl+V944YWE//d6vXMNiYiIiIhSlOzaLJLH40mYHACAjz/+eK4h5V10cgAALl26VIBIiIhmzMsEAQC88sorKc3n8/nQ09OT42iIiIiIKFU9PT0pV6fv7u7OcTSFIctyzGvLli0rQCRERDPmTYLAYDBoplMt9B87dkwzHe9kTERERES5E30dB8Reo80muq+ohXIt9/TTT2s+i9lsxpYtWwoYERHRPEoQPPLII5ppr9cLl8uV9H3PPvusZtpsNmc1LiIiIiJK7L777oMkSZrXDh06lPR9DocDgUBA89pCuZazWCw4f/48hBAQQsDhcECv1xc6LCK6ys2bBMGmTZtiXvvZz36W8D0ejyemf4H7778/q3ERERERUXLRnQj29/fD5/MlfM/rr7+umTabzayGT0SUQ/MmQVBXVxdTPS3Z8ITR/RTIsoyGhoaM1u/z+dDW1hYzxE5jYyNaWlpSqs3g8/nQ3d2NlpaWuEP11NfXw2KxwOFwJGyX53A4NO+L3A4OhwMWiyVm+J9UhnJ0OBzqUJD19fUc/pGIiIiy5jvf+U7Ma4maGfj9/pgmpffcc0/G6w9fI0UOLVhbWwuTyYTu7u6U+0Tw+/1ob29HY2Oj5hqupaUlacIjUvSw3vX19bO+v7e3F+3t7TCZTJr4I6/12traknbi3dLSovns4fn9fj+6u7s1n6m2thYWiyWla1wiWkBEETIajQKA5iGEEF1dXTGvHzlyZNblSJKkmbe1tVUIIWKWkWgzDA4OitbW1rjviX6YzWYxODgYdzlHjhxJaRnhhyzLYmBgIO6ybDabZl6bzSYGBgaELMsJl2k0GmeNL952kSRp1nmJiIiI4nE6nTHXFDabTQgRe21mMBhmXU68677BwcGY66DI5c8WT7JrpPB1T6LryvCyoj9D9KOrq2vWa9lI8T6H0+mMmc9gMKR1DRm+3o0nOi6n0ynsdnvSz5RomUS0sMybGgRA/GYGP/nJT+LO29vbG9Nmbdu2bWmtz+/3w2QyYd++fSnN39PTA5PJFPd/zz//fFrr9nq92LBhQ0rZ7FdffRWrV69OOlxjf38/9uzZE/d/8bLD0duPiIiIaC6imxm43e5Z73ofOHBAM221WtNuo+9wOLB+/fqUhrQOBAK466670NvbG/f/Ho8Hd999d9Lro+3btycdljFVLpcr7nCIiezbtw/t7e0pzft3f/d32Lp1a9LPtG/fPtYsJbpKzKsEQV1dHYxGo+a12YbJiU4cGAwG1NXVpbW+H/3oR2mflN1ud9yT8vLly9NaDqD8UB0+fDildaaqs7MzrepvRERERNnywAMPxLwWb+hqj8cTc30Tr4lCIj6fDy0tLekFCOChhx6Ke235yCOP5P3myZIlSzJ63zPPPJPSfOlcQ+7evTujWIhofplXCQIAePjhh2Nei26/Fq/NWvQoCMn4fL6YmgOSJMFut2NwcBBCCAwODsJut8f0yhvvpLxhwwZIkgSz2Yyuri44nU6111ohBLxeL7q6umLe99prr6UcsyRJ6OrqUuOLtzwgfnu/VatWxV0eERERUbY0NTXFDFMYb+jq6KSBJEnYvHlzWuvav39/3BEQBgYG1OuvgYGBmFER4t2g6e3tjVuYbm1tVa+7nE5nzI2suWpoaIAkSTAYDGhtbcWRI0fg9Xo115BOpzOmn65AIJBW3wGyLOPIkSPq9a3Vao2Zx+v1Ju3jgIjmv3mXIIjXzCB6mJx4BeB470vk4MGDMa/9/Oc/h8ViUau36fV6WCwWvPzyy5r54p2Um5ubceHCBTgcDjQ3N6OpqUnz/7q6OjQ3N6cVYyRJknDixAk0Nzer8TU3N6O1tTVm3o8//jjmNb1ej66uLjUpIEkSOjo6Mo6HiIiIKJ7oAnm8oaujkwbRTROS8fv96Ozs1LxmNBrhcDg0HVY3NDTA4XDEFLCjb9D84he/iFmH2WzG3r171euupqYm9PX1xS1cz8WFCxdw+vRp7N27F5s3b46pEdvU1IT77rsv4+UbDAacPHlSTcDo9Xp0dHTEbBMA+P3vf5/xeohofph3CQK9Xh/zwxI9TM5zzz2n+X8mzQvOnDmjmZZlOaZQHxYvo/3WW2/Fndfv98PhcMw6kkG08+fPpxTvyy+/HHeEhjvvvDPmtejPFhZOYgghcOHChbR/jImIiIiSiTfkdOTQ1b29vTF9BqTbvOD999+PeS1eLdSw6AJ2dB8Cp0+fjnnPU089FXdZsxWu58rj8cw6ksHOnTtj5v/d736X0nL7+vri9u0QL+nw7rvvph84Ec0rZYUOIBP33HNPTGb52LFjaG5uhs/ni6kC9uSTT6a9jugfBq/XG7cAn45wYiCd9mupdKoDAEuXLs00LCIiIqK8aWhogCzLmmsch8Oh1lyMvlsvy3LazQvi3ajZunUrtm7dmkHE8dvqJxo6O93OFBPx+/148MEH0+74MF6N0XiyGSsRzX/zrgYBEL+5QLin23hNA9JtXpANH330kWa6u7s7pV5iiYiIiBa6eO3+e3t74zYNiJ43XxJ16pztvgZm4/f7sXbt2qyNikBElMy8TBDEa2YQHiYnumaB2WwuSGY0soM/n8+H7du35z0GIiIiomIUr5nBT37yk7j9SMWbNx+WLVtWkPVG2rNnT8q1SYmIsmFeJggApZlBtJ07d8acROPNl2uSJOHb3/62Oh3vx85gMMBut8f0REtERES00IWbGUTq6emJ6XhaluWEVflzxWg0JrzBlK87+g6HI+a11tbWmNGwbDZbXuIhooVv3iYI4jUbiD5ZS5KUcfOC6B8tg8GgOREnely4cEHTVu7SpUsxy+/p6YHFYkm780QiIiKihSBe04Hoa7lHH300o2WvXLky5rXwMH6pPPr6+jTvjb4uBBI3QfD7/RnFHS26aarVasXevXtn7TibiGiu5m2CIF4zg2iRQxKmK7r3WbfbndZ4ssnEq7ZW6LFlu7u7UVtbC51Oh9ra2rhZayIiIqJsSKXpwJYtWzJa9qpVq2Jee/755zNaFhB7XQgA+/fvjztvS0tL3E4NsyGyCWuks2fP5mR9RHT1mbcJAiB584F0h8RJtuy7774b7e3tMQV5n8+H3t5etLW1ob6+PqXhAffs2aNmnn0+H9rb27F69eqM482G7du3q5nqQCCAlpaWgsZDREREC1e8ZgaRMhmmOtGy+/v7YTKZ1M4QI7lcLnR3d8NisUCn08Vc68W7Luzs7ER7e7u6LJfLhcbGxphOFrOps7MTvb296nRvby8aGxtj+uAiIsrUvBzmMCxR8wFJktIeEieSxWLBc889p8kABwIB7Ny5M+5Ys5Hq6+s100ajMeY9nZ2dOf0BSVe82hEccYGIiIhyyWw2Y9++fXH/98gjj8xp2c8//zzuuusuzWv9/f0p9R8wNDSkmd60aRMkSYq5NkrlunAuzGazpvAfCARiPhMRUTbN6xoEiZoZpHIXP5kDBw7MWpUrHQ0NDXkbDoeIiIhovkjUzGCuw1Rv3rwZVqt1TssI0+v16OjoSHn+bK33sccey8pyiIhSNa8TBMDszQweeOCBOS+7oaEBJ06cSLtwH6863E9/+tO47dciSZKE1tbWtNaVLfHa6mUjOUJEREQ0m9maGRiNxqx05NzR0QGbzZb2Nc2KFStiXrNYLLDb7QnfJ0kSurq60komJNLU1JR0nYBS0yDZdSYRUSqKMkGwceNGzXSiAvqmTZti/m80GhP27hqd1U20/IaGBvT19cHpdKK1tTXuvAaDAUajETabDU6nM+6Pgl6vx+nTp2G32+PG29raCrfbjW3btml+xOLVkFi5cqVmHlmW4/6QAUrBP/qHN3r7huPr6upSlytJUtZ+3IiIiOjqsWLFCs21hyRJuOWWW2ad/+mnn9Zc10iShMcff3zW+detW5fW8nfs2IFz586hq6sLZrM55rpIkiQYjUZYrVZ1COrZkhMWiwVerxdWq1WzHIPBoF7LNTc3A9COfBAvCTw7WbsAACAASURBVJLq9dxs65RlGWazGXa7HQ6HA3fccYfmM61bty5mWbfffrtmOtE18Lp162L2S6LtTEQLg04IIQodBBERERERUcqEACBCf9Og0wHQhf4SUbR53UkhERERERFdJdSkQBAITisPEURKiQI1MVAClJQqD10JmCwg0mKCgIiIiIiIilNMUmBKeUxNANPjwPSk8noqSkqB0nKgtBIoqwBKykIPJguIwpggICIiIiKi4iJCSQExDUxPAcFJJSkwNQZMjgGTo8pjajyUIEjW1ECnJALKKoHy6tCjCiirCiULyoHSMkAXShYwUUBXKSYIiIiIiIioiAglMRBOCEyMzCQEJsPPx0LJgUlgehpIVp4XAEpLlURAWaWSHCivBsprZhIGFTUzCQNdKZIvlGjhYYKAiIiIiIgKL7LWwOSYkgwYuwyMXgImhmcSA9MTM00NRBAIBmfK8kIgODYMACipWjRTE0AAKCkJ9UEQalpQWjGTKKhYBFQvA6qWAsEa5XXWJqCrEBMERERERERUWOHkwPSEkggYu6w8RgLA+GXltenJUGJA6Zxw+vIfMfGZD1NXAhBjwwiODSM4dkWz2JKqxSipWgRd1SKULZZQcX0dSpdeG0oUhJIQpeVKkmBiRElAVC1VHuXVShIBTBLQ1YPDHBIRERERUeGEkwNT48D4FWDsopIYGLsEjA0BU6NqZ4TTQ35MfObD5Oe/wdTlQZRUL0HZsutQUr0IJVVLUFK9GCVViwEAwdErCI5dQXBsCMHRYUxd+gLB0SGULb0G5V/6mpIsWKKf6bywrBqoWgJULQNqJKBqOVC5WGmSwJoEdJVggoCIiIiIiApEKDUCpiaA8SFgNABcGVT+Tgwrd/TFNKYufYHRD09h8ovfoqRqkVrAL9ffEH/owvCyo4ZEnPT/Tk0wBMeGUX7dV1H9p2tQtuw6pUlBeVWouYEELL5G+Vu5JNSRIfsloIWPCQIiIiIiIsqv6P4GJoaVWgPDoeTA2JDS3GB6EiMfnsSYbwBl0vUov+5GVNd9M9SfQOjOf7g/gbLK0HSpso7gtFLzYGp8pt+C6UllncEgxn/zbxj//CNMBT5DVd1q1Pzp2tAwiBVKTYJqCVh0jVKboGIR+yWgqwITBERERERElF/hwvvkiFJzYORiKDFwUWlmMDmO8d+/j9FfnwKmJ1F1UyOqvnqrkhiITAiEhysMj0RQVhkagQChkRDGI0ZAGJsZGlHt6DCIsd/+CmPnTgOl5aj+szWo/MoqoLxSaV5QtVxJFNQsV2oSlNdokxBECww7KSQiIiIiojwSSuF8ckSpNTDiB0YvKp0STo4CUxMYPXcKo+dOo2rl11F90xroqmoiEgNVQOUipQBfvkgZnrC8SkkOlETVIAiGahBMhodLHFYSEOPDyhCK0xOo+loDKr98E0bPncKw5ziCI0OovmmNUstheipUk2FceV4DQLdISVSwuQEtQEwQEBERERFRfggxc2d/fEhJDgwPAqOXlQK7mMbwvzsx/tE7WPT19ai88RtKjYCyypnEQMVioHqp8reiJpQYCA1dqAsNZQiEmjAEZ4ZEnBpXkgQTV5T1TcwkCnS6UtTc+h9QuqQWw+85ISbHUfP19aGaDqH3A0BpaD0lpaHmBkwS0MLCBAEREREREeWeOlrBhNLnwOhFbc2B4BSuvPNLTPz+Qyxq+GtUfuVmpcZAebVSvb9ySURiINQnQGmFtnNCTYG9VFlnabmy3rJQU4SKUJIhnCgYH1Iek6Oo/Oo3gLIKDHt+ieDkGBZ/46+VZeigJAbKKkPrDD3nEIi0wDBBQEREREREuSeCSnX9iStKYmAkoCQHpsaV5MC/9WPijx9jSeNdKL/2Rm0/ADUSULk01KygaqaQnqyqv06n/F8d6SDUTCE8WkH5ImB8ETBSqfZ/UPmVm1FSUYWhs/24Mj2Fxd80KjGOXVbeqyYldMpzHfsjoIWDCQIiIiIiIsqxcL8Do0pyYHhQ+RuqOTDmO4uJz3xYuvZulOn/REkOVCwGqmu1IwmozQky6QNAF0oSRHd0WKX0XaArAULdt5dfeyOWGjbj8smfY8x3FlX1hpnYw0Mqhps0sD8CWkCYICAiIiIiotwKhpoWjA0pNQdGQ6MVTE1gcvC3GPn1SdTc/Bfa5MAifSg5UKs0LygL3bmfc2E8MlEQUdDXaZsolOn/BDU3/wVGPvhXlC67FuXXfBXAFeU9pRVAabhTxDKOakALBhMERERERESUQ6HaA1Njofb+l5U+CKYnICZHMfyr/4uKL8uokm9TCt4Vi5WkwKJrlCRBxeLQ8IXZvlOvm+kAEZhJDoRHgRcCVfJtmLr0BUbefRNLv70FOp1OiX38cqgvg5pQ4oK1CGhhKCl0AEREREREtIAFw30PDCvt+MevhPodmMbwr/4ZupISLLrlPyh34surgerlMzUHIpMDuegMUBfqn6CsUpuYqF6uxFJSpsSm02H4V/+sjGowNa58hrGZRAeCwezHRlQATBAQEREREVFuCDEzxOD4FaWDwskxYHoKkxc+xcRnPlTfvA66cMeDlUuU/gZqpFCzghwmB8IikwTR6y+tgK68CtU3r8PEZz5MXfhUGfZwciw0TOIVtZNFteYB0TzGBAEREREREeWICBWoR5W77RMjwPQkIIIY+8iDstoVqLjuRqC0TOkssGqJMlpBxSKl6n6ukwNhapKgQll35VIllvIqoLQMFdfdiLLaFRj96J3QaAyTymeZGFY+2/QU1B4OieYxJgiIiIiIiCg3RBAQoTvukyPq3fapwB8w+flHqP7aN5SCeWmoYF4VGsqwrHJmKMF80YU6LywLD68YSlSUKomK6q99A5Of/wZTgT/M1IqYHFE+m5hSPivRPDevEgQOhwO1tbXQ6XSora0tdDjo7e1FS0sL6uvrodPp1IfJZEJ3dzf8fn9B4vL5fOju7obJZFK3l06nQ319PSwWCxwOR0HiiqfY9mmYx+NBW1sbTCaTZt+Gt2G+9q/P59Psw1Qevb29OY8rOkYeb6np7u5Oa18Wet/OVfgc2djYGHOObGtrg8/ny2i5xfL9JKL0+P1+zfe2u7u70CEBYFypyPh8LoTSZn9yXLnLPjkWqoofxNhH76C89ssov+5rM7UHKhYrj/IqpT+CJJ3+5eZ3RhfqCyEqntIylF/3NZTXfhlj4VoEwXDiYxSYHEdb2+60ftcbGxsziG/u/H4/HA4HLBZL3HJMW1sbXC5XTmNI9/q2ENst8ho3+nqjpaUl59uoYMQ8MDg4KMxms4BSb0d9FMrAwIAwGAwx8UQ/JEkSAwMDeYtrcHBQtLa2Jo0LgDAYDGJwcDBvscWLtZj2abK44j26urpyHo/T6UwplsiHzWbLeVxC8HjLhM1mS3t/FmLfzpXT6RSyLKf0mex2e8rLLbbvJxGl7siRI0KSpKI7pzGuxOZ8Pg9OCzE+LETgEyE+eluId14T4tQhMXX0GeHf800x/k+7hPjXA0Kc+ZkQH/QL8YdfCTH0hRCTY0KIYO7iSiqoxDD0hRLTB/1KjP96QIz/0y7h3/NNMXX0GSFOHVI+00dvCxH4RBg3/U3av+35Fu/Ymq0ck0tzuR7Kx3ZL9ZrNarXmPJZ8K/phDnt7e/HQQw8hEAgUOhQAyp2rDRs2aOIxm8247bbbAABnz55FT08PACAQCGDDhg04ceIEGhoach7bnj170NnZqXnNaDQCAM6fPw+v16u+7na7YTKZcPr06ZzHFa3Y9mlYvH1rMBhwxx13YNmyZQCU/Xv06FEEAgFcunQpr/HJsoz6+vqk823ZsiUP0fB4y8Qtt9yibqNU9ff3q89XrlyZ7ZCyzufzYf369ZrXIo/dyM8DAFu3bsXSpUuxefPmhMst9u8nEcXn9/vxve99T702KhaMK7msnM+FAMS00sv/1BgQnASC05gc/AS68kpUXF+Xdu2BXP3OaMWpRRAaraDi+jroyisxOfgJSpdeq3ymqTHlM0KoS0jl937jxo1pxDR3LS0tmms3SZJwxx13qOWYS5cu4ejRo3C73Tm/bjKbzbh48WLK80deW8qynKuwAMRuJ1mWYTabsWzZMly6dAk9PT1qLOH5Ojo6chpTXhU6QzGbwcFBYbVaYzJZyGPmKJ7ImgOz1RAYGBjQxGo0GvMSm9FoFACELMvCbrfH3LF1Op0x2zCzrGpminWfhmOL3rdOp3PW+Z1Op/B6vTmPK7IGQTHc0YjE4y337Ha7JvZC1sJIVeQxa7VaY86R8faLLMsJl1ms308iSize70DkdKF+1xhX6vHM+Xw+PSnE8AUhPv9AiF8fU+/CX/5vd4uhjvsyrj2Q7d+Z+GavRTDUcZ8Yev4/zsT/62NCfP6BMP7NxqK9xoi8pghvu9muK7xeb8Lf2UKIrDGSy+/CkSNHUqohEH2MFdv2moviO3pDoqsN2Wy2mB02FwMDA8JoNAqj0ZjyhWT0+hM1H4iuGp5OU4NMYhNCKbAl+8IMDAxo4jKbzSkvfy6xCVGc+zQssqp8LgpimcaWjwQBj7fMzCW2VEV+htbW1pysI9ucTqcwGAxJz3nRTQUSzZ/r7ycRZV90YcRgMAin06kmlwtVEGdcqZvz+TwYLmB/LsTvB4T49yNCnP5HIf6lS/j/821i7JUnlCr6nv8txG/+RQj/b4QYuyzE9FRu40rH9JQSk/83Soye/y3EqUNi7JUnhP8/3ybEv3Qpn+nfjwjx+wFh/JsNRZkg8Hq9RZEEy1T09yOX1wGRNySSXbdGfj/TvcYtZsV19IZEFoqMRqP6hY4udM9FZLuSVL8kkZmiVA6CyAMsnYv7TGJLR2Rc6dZuyDS2Yt2nQignzVxnALOx3XJ1Mufxlplcb7foWBfaHfHoZM1s37t8fD+JKPvCF86SJGnOkYUuiDOu7Jv1fD5L/wMTr7cJ/55viukTP9YUrsXlz4SYGBWJag9kJa60BJWYLn+mSXJMn/ix8O/5pph4vU3TD4Fx418VZYIgsgyTr5rN2RT5Pchlm//oa45kSaXoY2yh3MAoylEMVqxYAUmS0NXVhb6+vry0309FZPvpcFudRO677z71+dGjR3MSUyb0en3e11ms+xQAjh07pj43GAxoamoqYDQLD4+3zLzwwgvqc7PZjLq6ugJGk31Lly5NaT5+P4nmp7q6OhiNRrjdbuzYsaPQ4agYV/bNej4Pj2AQnAwNbTgJTE9j0v8JypZdi5KqJcqQgqUVQFmV8rc0+cgFc44rLTolpsgYS0pRUrUEZcuuxaT/E2A64jNCZGGd2Rc5otTjjz9ewEjS5/F4NP1KNDc352xdH3zwgWY62fVjdL8WJ0+ezHpMhVCUnRTW1dXhwoULhQ4jhtvtTmv+devWZfzeXDp16pT6/Pbbb8/LOot1nwLAgQMH1OePPPJIASNZmHi8pc/n82k6qHrssccKGE1uvPfee5rpVatWxZ2P30+i+alYO+xiXNmX+HwuABEExLTyFwLBkcsoXVwL6MKF7/LQI3vJgeRxpSNOnDodShfXIjhyGdrPWHwJgt7eXrXDQUmS0uyssfAih/c0Go05venz7rvvpv0eo9GoJjDefffdebd94ynKBMFCsWTJEs20x+Mp+J3M7u5uTa+k27ZtK2A0xSEyefOtb32rgJEsPDzeMrN//371uSzLGd81D/eGnU4vwZEef/zxnPzQ+f1+PPvss+q01WqdtaYJv59ERMUrpfO5EDMPAMHxEZQtlpTaAyXlM3fmdaVK0iBfcaVKp1NiC9ciKCkHSkqhq6jG9JXQzYiIz1dsIgu9d9xxRwEjSZ/P59OMJvDwww8XMJr4li9frj4/e/ZsASPJHiYI0mAwGNSL1VSG0IpOBgwNDeUkrlR1d3dj+/bt6nRra+uCq7acLpfLpZkudAInkePHj8e8tnLlSqxataoo4+bxlhm/36+pCvj9738/42W9//77cxoqa+PGjVlPEPh8PpjNZnV4IEmS8Pd///dx551P308ioqtNOufzSMHxUZRULlIK3WUVylCCZUrV/WzUIMg0rtnplNgiY9WVoqRqEYLjo7O+q729Pea1devWYdWqVXltfhl5/ZhKE+licvjwYfW5JEmwWCw5Xd8tt9yimfb7/Un31W233aZea2V6Q6bYMEGQhsbGRjVB0NPTgyeeeKIg7auT6e7u1iQwPvroIzgcDk31ol27ds27Nm65ZjAYACg1PV555RWcOXNG0+bJYDCgsbERDzzwQEHaQff398eM7RsmyzIeffTRguxTHm/ZdfDgQc2227JlS8bLCvfFkOlYxsuWLct43dFtBgHg1Vdf1dQIMBqNsNlsKSWOiv37SUS0UGX7fC4mRlBSWQOUhmsQVKp35dOpQZDtuGal00XUdgjFWlqKksoaiImRWd+2c+fOWf9nNpvx1FNP5T3xfcstt8Dv9+PYsWN4/fXX4Xa7NYmUNWvW4N5778WWLVsKXsbx+/145pln1Oldu3blfJ0333yzZvrw4cM57fOgWDFBkIYHHnhArebi9XqxZ88e/OAHP4j7BXK5XHj66afzHSIAaO7aRpNlGc8///yCaB+TDW+99Zb6PBAIwGQyzVoId7vdcLvd6OzshNVqLar2gl6vFzt37sSrr76Kvr6+vJ7Uebxl10svvaQ+t1gsc9qXheyLob+/P+HFUWtrK7Zt25bwom2hfD+JiOazbJzPw8TkGEQwCF1lDQAdoCsJNS0oQbq1B7IZV3KxseoqayCCQYjJMegqF6W1tJ6eHvT09MBut+f8rnjk7+ZPfvITPPTQQ3FvHAQCAfVm1FNPPYUTJ04UtObesWPHNHHO5YZJqsKdhYa32VNPPYWvf/3rcW88+P1+HDx4UJPEWCgWdILA5/OhpaUl7v/Onz+vPn/ppZfiVt8GlE5jwieWpqYmzUHT2dkJh8MBi8WCG2+8EYBy9/To0aNqNi5fsUWSZXnW9Xu9Xtx1112QZRmHDh2Ke8DnMra5ymVsXq9X3W6yLOOOO+5Q9+vZs2dx9OhR9UTV2dkJSZKwd+/enMbW1NSEgYEBDA0Nxewrj8eDt99+G88++6wat9vtxoMPPoi+vj7NvDzeMpPv2BwOh2Zbzq1KZGGtXLky4f/37duHffv2obW1NaXaWHP9fhIRUWayeT4PV8kvqahWXtDpZh4FjCsl0bFOTQAAgmMjKF2sLPun3T/C+5/4sWJlHerqb1Lf6vf7cfLkSfziF7/QtKnfunUrbrjhhrzVfItsdmg0GrFx40YAStPpo0ePqrUvAoEANmzYALfbXbDmobt371afW63WvMWxe/dutawXCASwfv16GAwGzeh0x48fn/WGxYJQ6HEW05HuGOaR45Rn+ogeM3VwcFAzFmeiR/R8kcvKRWyzGRwcFEeOHNGMgRp+2O32vGy32RR6n0Yvz2q1zjrm6eDgoDAYDJr5I8emz+d2ixa9b6P3K483RaGPt2QizxnzcZziZAYGBkRXV5eQZVmzjQwGQ9yxg7P5/SSi4hB5nrPZbIUOR8W40pPS+Xx6SojRS0L88ZwQH/5SiLN2Mf3mC8K/55ti8sg/CHHWLsSv/48QX3woxMhFZf58xJWJ6Sklxi8+VGI+axcTv/gvwr/nmyL45gvKZ/nwl8pnHb2U8LMMDAwISZLU2GRZzjyuFERuB1mWhd1un3Vb2O32mN/dQoi+Xsv0+jhTdrtds49me0iSpLn2WCjXbiVYwCKHGcxU9EgEer0efX19cDqdsFqtkGVZ83+DwYDW1lYMDAzE3MVdsWJFTmObjV6vx+bNm9HR0YGBgQFIkqT+b+vWrfD5fJr58xlbunIZm9FoREdHx6zVqcL7PlLkGO2F3G4/+MEPNPv19ddf1/yfx1tm8hmby+XSZKPn2zjFqWhoaEBzczPOnz8Pq9Wqvu52u7Fnz56E753r95OIiLIn0/N5SXkVdCUlmB4bASAQPQRioeJKLjZWMT4CXUkJdOVVaccY2Z7e6/XC4/HMIbbUHTp0KGHzRYvFgtbWVnU6stPkfIpspm0wGPLet5DFYsG5c+fQ1dUFo9Go+Z8kSTCbzbDb7Th37pymZsFC6Yx7QScImpqaIISI+7DZbOp8Nptt1vlmuxhtampCR0cHzp8/r5n/9OnT2Lt3LxoaGmK+7NFVx3MVWyINDQ14+eWXNa8dPHgwb9ttrnIZW2SV8dno9XrNiSJyHxdyu+n1ek0btqNHj2r+z+MtM/mM7Wc/+5n6XJblBd9vQ0dHh9rxIKA0C/D7/bPOP9fvJxER5Ua653NdRQ3E+DAwPQ0EJ4GpceVvcBrZHCow3bhmJYQSW2Ss09MIjo9AV1GTUWzR7enffvvtjJaTrt/97ndJ57nzzjvV54FAIObGTq75fD7NDZMnn3wyr+sP0+v1aG5uRl9fn+a67sKFC2oTc71erxnaMNz0cb5b0AmCQnv//ffV55EnqELbvHmzpuZDdGHyahJ5hzhZvxFht99+u/o83yfNRCJPSpn2Wp8LPN6Six7ndy5DG0Yvt7a2FjqdLqNHd3d3VuKYTfSP/smTJzXTC+n7SUS0kCU7n0cqqaxGcHxEuRs/NQFMjil/g9PIRi2CTOOaXShBEBmrmEZwbBglldUZxRV9pzmV4dMzFZk4//jjj5POv2rVKs30p59+mvWYEtm/f7/6PB9DG85V5KgZ0cMkzldMEOTQm2++qT6/4447ChhJrPr6evV55IF9tcsos0xJ8XhLLHqc32z11Pvpp5/OKVmUywsWALjhhhs00++++27C+fn9JCIqTgnP51Gd+5VU1kCMj0TclR8DpidC1fezmyBI93cmLiGU2KYnlFhDtR3ExKgyXCMwp84W8ynXv+tz5ff7Nc0a8jG04Vz4fD7NDYy1a9cWMJrsWdCjGBSS3+/X3BG8//77CxhNYsVUuyHfots0nTx5MmnV7jNnzqjPI+9WFlpkFadi3qfFHFshRI/zO9ehDSOtWrUKZrMZFy9ezOj9+c6ER69vIX0/iYiuJjPn89jhAUtqlmIq8JlS8J6eAqYnQ48poDy7CYLZ40pHnDiFwPSVCyiTrkcmwzVGN4HL5e/txo0b1Sr7R48eTTrCT2QNaCC2RkEuHTx4MO9DG85FZLNZs9mc12HGc4kJghz53ve+pz43GAwFHUc0mt/v17Ttie5o8WpjMBjUu9q/+MUvEhZAorfdrbfemvP4UuH3+zVV94upxgqPt8Six/nN5tCGer2+YB0MpeKNN97QTH/lK1+JmWchfD+JiBa6uOdznQ4oKQVKyoGySuVvaSnK9X+CsY9+heDYEErKKmfuzE9PKIXvklKkUsjOOK60hJMDETEGpxEcG8LUpT+iur4RKI36jCWlSWsSRA+Rl8s7z5HJB7fbDZ/Pl7AzvchtJstyXgu9L730kvo8n0MbZsLj8WDfvn3q9He/+90CRpNdbGKQA93d3ZpxRn/84x/nZZ0mkymlNrfRvbjec889uQprXojsfbSzszPhNozcdpIkYdOmTTmNLVV79uzRFDK3bduW0/XxeMueyHF+jUZjUf8YpqK+vj6lvgs8Ho+mlpUsy3ETqQvh+0lENB/N/XweShCUVQDlVcpfXSnKr/0TQKfD5B8/UaruT44BE8PA5Gio+n4wx3GlIRhUYpocDcU4BohpJXadLvRZoj5jkgSHx+PR1By0Wq05LYSvXbtWM6JUZBv/eLFFbrNHH300Z3FFczgcmur6DzzwQN7WnS6fz4dHHnlEnTYajQuqc2kmCNLg8/nQ0tKC3t7euG1hPR4PLBYLtm/frr5mtVrzMjTHpUuX0N/fD1mW0dLSErf3bp/PB4vFovniGwyGou/8I9e2bdumOXGazWa4XC7NPH6/Hy0tLZptt2vXrpye0Lu7u9UfwdkKRS6XCyaTSRNXa2trzguZPN6yw+VyaX4MF8LQhl6vF9u3b0d9fT0cDkfcc6XD4cCGDRs0Sa3nn38+7vKK9ftJRPnV3t6udqDa3t5e6HBUCzmuOZ/PNTUIqoDSCrT/Yy90394O/f9zFu0/O6bcnZ8aB8avABNXlAJ4cAqJOivM9u8MMNv2Ekosk2NKbONXlFinpzA5+AnK9TcAJWXKZyytQO2f/yVanngKvX1H49Yg8Pv9aG9v18QlSVLCmoPZ2I96vV7Tlr+zsxPt7e0x283lcsXENtsNp1wc94cOHVKfZzq0YTbiam9vR3d3d9xr23AfCZG1GyVJ0oxstRAUbRMDi8US0242+kA2mUya6eXLl6dcnXblypXq81THOv/000/R2dmpXoQaDAb1AvT8+fMxvWxbrVZ0dHSktOy5xrZs2TL1eThGSZKwZs2aWeOTJAkHDhzIeWxhxbhPAeXE+cMf/lBN7Ljdbqxfvx6yLKud60VXBbNardixY0fK68gktkuXLqk/ggA0+xMATp06FdMBndFoxBNPPJFyXJnGxuNtbrGFRY7zu1CGNpQkCYFAAF6vF1u3bgWgPVdGf5cA5fs022fPx/eTiLKvt7c3boHs1KlT6vOXXnoJx48f1/z/8ccfj3s+iJzv+PHjGX/HGVfqsnM+1wGlZUBpOVBajuPuf1f/88/vfoI9IqhU258YBkYvAxWLlTvx4YJ3zuLSiru9glGxTQyHOlMMYnLwE1TX364kAkKfL3DpMjr/x/9E5//4nzEx+f3+mE6aJUlCR0dHwps62Tq+tm3bhpdeekm9Ntu5cyd27typjnAQfd0mSRJOnDgxa6I9W3GFuVyurAxtmI24jh8/rsYSfe0dfWyFt1MxNSXPClGkoKQO0344nc6cxeT1elOKQZIkYbPZchZHPIODg6K1tTXl7WQ0GoXX681rjMW4TyPZbLaU4mltbc1LPEeOHElrO+XzmOPxNnfR55Ourq68rDfXnE6nkGU55XNlqp+72L6fRJRYqt/ZeL8X8RiNxqTzMK7sxpWV83lwWojxYSECnwjx0dvC+O1vqu/ZKC8V4/+0S4h/PSDEmZ8J8UG/w/mCFwAAIABJREFUEH/4lRBDXwgxOSaECOYurqTbK6jEMPSFEtMH/UqM/3pAjP/TLuHf800xdfQZIU4dEuKd14T46G1hWP2NlPebwWAQAwMDGcSVuYGBAWEwGJLGJsty0tiyGZcQQlitVs0+y1Q24oqMJdl3L5V9OB8VbQ2CcHYw3ffksqfNuro6eL1eHDx4EGfOnNFkkcIZpnvvvRdbtmzJe9VWvV6PvXv34oknnsDhw4dx4sQJuN1uTTbQaDTi9ttvx5133pmXZg/RinGfRtqxYwe2bNmCgwcP4ujRo5pMb3jbbdu2LW9txDdv3ozBwUEcO3YMb775Jk6fPq2JqZDHHI+3uTt27Jj6XJblou+pN1VNTU04f/48XC4X3njjjZhzpSzLMBgM2LBhQ1rHbbF9P4kosciaZunYuHFj0nnm8j1nXKnLzvlcp1bBR3l1qJf/UFxfuRbjv30HFdfXpVWLIFe/M2pcdXUJaw+EYy5doldiLKsEyqtx+s1j8Hz4W/T/n+M4fuJETE1Pg8GAxsZGPPDAAxldF831962hoQGnT5+Gw+HA66+/jqNHj6rxhbfZPffck3ZT0Gz87kbW3vzhD3845+UBmcfV0dGBv/zLv8Trr78ec2071304X+iEyPKAo0REREREWeL3+3HTTTephRmn01kUF+eMK0XBKWBiGP6PP8RNa/4agUtDAIB/fvY/4dbL/4Ylt5tQ/iUZqKgBFumBZSuAxV8CqpYqnf5laUSD2cRurzfR9K01wNhl4MrnwKVPgWE/MDGCyc+9GDrTh6Xfugdl+huAikXAkuuAZTcofysWKUmDnMTF4yuRYo1rPmInhURERERUtCLHRjebzUVz0c+4UqQrAXRlOGh/TU0OmDetxV99+1so/9LXMPqbd4DIvgjGLs90CBicBnJ8LzNme637i5mOE8e0tQdGf/MOyr90I8qkL0fUHqhRajzoyjQ1JLIeV6H3YwjjWvhYg4CIiIiIilLkXUFJknDu3LmiGKGEcaVBCPj/+BluuvnPEQhchLR0Mc69/iPoq0sw5f8dLp/8/7D49jtR8aU6pRZBTS2w9Hpg8XVA1TKlEK4riTsywFzFbK9ffwD9ssXA2CXgyhfA5c+AkQvAxAgmPvfhypk3sHTtfwzVHgjVeFi6Qom3conSlCILcRblfmRcVw3WICAiIiKiohR5V/Dll18umot+xpUGnQ4H/9f/i0BAGVno5f/6X6C/5hqgtAxltStQcX0dRj94C2JyTLlTPz4EjASUx/iQcjdfBHNSk0Czvf7xJ0pyIHr90xMQk2MY/eAtVFxfh7LaFcrIBeVVSn8JlYuVJEZJWdaSGEW5H8G4rhasQUBERERERam2thaBQABmsznlYWjzgXGlR43rb++B47//ABj6g9quX0yM4PK/HEbpsmux+DaTche+colSk2Dxtcpd+orFOalJoMZ1//1w/OP/AiauKHFd+aNScyCUILhytg9TF7/Asqb7oKuomak9sOTLwJLs95dQ9PuRcS1orEFAREREREWnt7cXgUAAsizjxRdfLHQ4KsaVHk1cz/9XpfBfuVTp0K+0ArryatTc8peY+IMXY96zwNSEUlAfuQAMDyoFdrUmwTSUUeayGFddHV78b88p6xj2K+scuaDEMDWBMe9ZTPzBi0W3/hV05dVKAqNikfIZKpcAZaERF7KUHJgX+5FxLWisQUBERERERDkmQoX/YaUQPvT5TOF/egJj590Y+fVJLF17N8r0fwKUVyo1B2pqgUXXADWSUjAPV+cvKUHmhXKhDGUYnFISDxPDSpOCyOTA5Dim/J/g8smfo+bP1qKq3jBTu2GRXqk5sOiaUEy5H22BKF+yMw4HERERERHRrHRKwb68GqheroxQEJxWCukiiKq62zB16Y+47O7FktuMKL/2RvVtEEEgOBm6a79Yaf9fWpFBoiAiMTA9AUyOKaMVjF9WEgRjF9XkwOQfP8LQ2X5UXF+HqrrbtLEvukb5W16d1doDRMWANQiIiIiIiCj3hFAK+1PjMyMFDH0eums/CgSncOWdX2Li9x9iUcNfo/IrNyt358urQ00TlgDVS5WaBRWLIhIFpaEhBnWxfRQIASC03uD0TGJgYlhJBoxeVmoxjA8Bk6PA1ATGf/8Bhj2/RMVX/hSLv/HXShKgolqpzbDkS3kZYYGoUFiDgIiIiIiIck+nA1CiFPorFil34afGQ7UIAEyNYfHqTRgpr8Kw55fA1AQqb/xGqGA/CUyMKIX6isURiYKaiGYHZaECe6ibNREMJQamIpoTjMwkBiauAOPDwNSY2sfB+G/fwfB7TlTe+A0s+vp6QFeq9DNQtVSJt3r5TLMCJgdoAWKCgIiIiIiI8kOnCxW6K5UaAdNTyuslZcDYZWByFDV/vh668koMv+fE9NAFVN+0Brqq0N3/qTGlUD9xJdTcYJGSJCivCiUKypUaBUCoCcOkUvifHFOSA5PDoWYFocTA9AQQnIIYG8HouVMY+/g9VN/UiOqb1ii1E8qrZ5IDNfpQx4SVoXUwOUALD5sYEBERERFRfoVrBUyOKNX7Ry4Co6F+AMaVfgDGf/8+Rn99CpieRNVNjaj66q1KnwMlZUrhvaxSKcCXV4X+Voeq/YcSBGI6lBwYDT3GQs0IxtXEAIJBjP32Vxg7dxooLUf1n61B5VdWKZ0kVi4GqpYD1RJQs1xJDpTXAKURSQiiBYYJAiIiIiIiyq9wfwRieqZPgPBIAqMBYEwZ3QDTkxj58CTGfAMok65H5ZduROXXvqkkCnSlocJ6RMKgNKoGwfSkNiEwPamsMxjEqO/fMPnFR5gKfIaqutWo+dO1yvtLK4CqJUpiIHIEhfIqZZ1sWkALGBMERERERERUIEIpyE9NKDUJRgPAlVCSYGJYSR6IaUxd+gKjH57C5Be/RUnVIpR/6WuouL4O5foblAJ7Sam2s8LwssOdEwanARHEpP93mPjMh8nPf4Pg2DDKr/sqqv90DcqWXacU/surQv0jSMDia5S/lUuUPgfYrICuAkwQEBERERFR4USObjB+RWlmMBJQRjoYGwKmRpU7/8FpTA/51QL+1OVBlFQvQdmy61BSvQglVUtQUrUYJdWLAQDBsSsIjl5BcGwIwdFhTF36AsHRIZQtvUZNMJQu0SsF/9JyoKxaqTlQtUypNVC1XGlmwNEK6CrCBAERERERERVWOEkwPaH0EzB2WXmMBIBxpfNCJUkwpdYGmL78R0x85sPUlQDE2DCCY8MIjl3RLLakajFKqhZBV7UIZYslJSmw9NqIWgdlSnKgvBqoXBpKDCxVHuXVSnMDJgfoKsIEARERERERFV50vwSTI0qSYPRSqLlBqKNBtYPBqVATgmBEqwKB4NgwAKCkatFMwV4g1G9BycyQiKUVMx0cViwCqpeFEgM17G+ArlpMEBARERERURGJ6JdgKjw8YXgkgpGZRMHUuDKM4fR08q4BBIDSUmUYxLLKiJEPamZGQKioAcqq2N8AXdWYICDKM7/fj7Vr18Lr9UKWZZw/f77QIREREREVl8jaBNNTSiIgnDAID1cYHrIwOA0lA5CITin0q0MjhoZHVBMC5UBpGWsN0FWvrNABEF1tjh07Bq/XCwCQJKnA0RAREREVIZ1OKayLUJMAUaEU5oM1StOCqQlgelztvDAl4c4ISytDSYFQU4PI0Q+YGKCrHBMERHl26NAh9fmTTz5ZwEiIiIgo2zweD1avXg0AMJvNcDgcBY5ontPpoBTcS5SEQWm5UrOgrErtrFAZzjBJDYLI5UQPicikAJGqpNABxOP3+9HY2AidTqc+TCYTPB7PnJbrcDhQW1urLrO2thYulytLUVMh9Pb2oqWlJe7x0tbWBp/Pl9FyPR4P2traYDKZNMutr6+HxWJBd3c3/H5/2sv1+Xzo7+9Xpzdt2hR3Pr/fD4fDAYvFEnPMWiyWBXmx4fF4UF9fr/ms7e3thQ6LiIgy4HA4NL+f2Tin+/3+mN9li8WSpYizZ2hoSH1+8eLFuPP09vbCZDLBZDKht7c3X6HNfzrdTCeDkR0MltconQxWLELvL99Ey9/tRGPTRuiql6kP091b0PYP++D75FPlvSVlbEpAFI8oQk6nU0BpSKR5GI3GjJfp9XrjLtNms2UxcsoXp9MpZFmOu0+jH3a7PeXlDg4OCrPZnNJyu7q60o67q6tLfb/ZbI47z5EjR4QkSUnXbzAYxODgYNoxFCuj0ZjV7zwRERVOvHM6AOF0OjNeptVqjbvMYhN5HTvb71jk77wsy3mOcGHK1bUh0dVmXjUx6O/vh8/nQ11dXdrvPXjwoPpckiQEAoFshkZ55PP5sH79es1rsvz/s3fvwU2deZ7wv7Jk+YYNsuikh6QJYzm9oUPG00SGWWJmX9glciDbla6mWyKVpbIvvIDc8/JHd8dO7EnNHwkmdkKmKpXyhWreolKdWE7oara3cduwS7YWJTsBwVoTCD2NpQ10wnSnEYLgm67n/eNIx+fofrFs2f5+qlTW9ejxkUHn+Z7n+T0G1NfXA4DiDD0A7Nq1CzU1Ndi+fXvK7TqdTmzZskXxt2E0GvHkk09i+fLlAIBLly7h9OnT8Hq9uHv3btZtf/3116Xru3fvjnvcZrNh165d0m2dTgeLxYI1a9YAAD744AM4HA4AgMPhQHNzM4aHh6HX67NuSzGx2WxxnxsRES0+7733HpqamrJ+ncfjQW9vL4DFcRwnb//t27fnsSWLQ6GODYmWpPlOKBKJHUEgP6Pb3t6e9fZu3bqlSGrb29s5gmABk/99WK1WYXR0VPH4rVu34s4ypEvnb926JRiNRun5Op0u5VmOc+fOCS6XK6t2j46OKrYfy+VyKf5Ok40QGBgYWFSjYOT/PnU6neLfJ0cQEBEtTPIRBLEj83IZ/dbV1ZXwOK4YD2UzGUEg/30W+vd4MSjEsSHRUlWUNQhiPfPMM9L1aHqcjTNnzkhJrdVqlc4G08JlNBoxOjqKnp4eNDQ0KB7T6/Xo6emB2WyW7nO5XClrWLz55pvSmXmdTodr166lPMPR1NSU9UiW/v5+6brVao17/NixY9LfqcFgSDoywGKxoKurS7r92muvZdWOYvPmm29Kv/fhw4f575OIaJFZv349DAaDdPvEiRNZb+Po0aPS9T179sxKu+ZTa2srBEGAIAhobW2d7+YsCrN9bEi0VC2IgMBisUjLwXm93qwLtB05ckS6vn///lltG829pqYmXLhwIe4//1ixQ/jlRYPk3G43Ojs7pdu//vWvCzJkX/53+6Mf/Sju8cHBQen6Cy+8kLIN8oMjr9e7YAscOZ1Oad8bjUb++yQiWqReeOEF6bp8ul0mhoaGpOWBzWZzTlNNaXGb7WNDoqVsQQQEgPKMq3yZuHScTqd0ZthoNKb9j4MWj5qamoyed+bMGem60WjMaW5kOkNDQ4rRAbF/hx6PRzr4AYBHH3005fb0ej1MJpN0+6OPPprF1s6dtrY26fo//uM/zmNLiIiokHbu3Cldd7lcWa0i9c4770jXE9XvIcpUpseGREvZggkI5Gdco8UKMyEf1p3rmvNutzvhkneNjY1ZLaUXXZIvdjvZLF1nsVik18S2T75EXGNjI7q7u3Naim+xuHLliuL22rVrEz7v5z//uXR97969BWmL/OBGfhYl6urVq1lvc+vWrdL1ixcv5taweSQvTGi1WgsSzBARUXHQ6/WK4d3vvfdeRq9zu93SCDuDwZBzUbno0sGxy+lmu3Swx+NBf3+/4lguup1sQo/+/n7p9fJj1UTvF2177JLO9fX1aGlpyeh9o0smy5eFtNvtaGlpUSyn3NzcvCiXUo7K9NiQaClbMKsYNDQ0wGg0SqMBTpw4kXbOVmzF22RrzqfS3d2tOMsp53A44HA40Nvbi56enqRr8drtdnzve99LWnHX6/VicHAQg4ODOHLkSMqq9NH1dKPbSta+aNuOHj2KX/7ylzmPnOjo6Mi587l169Z5m1fn8XgUQxitVmvSfRr9mwKAv/mbvylIW+TTB3L5O0xEPlf//PnzWb/eZrNlNRpHbsWKFXkdQHg8HrS0tAAQ/22+8sorOW+LiIgWht27d0vfhzabDa+88kraKX3yVaj27duX9Xs6nU7s3btX8V0fJT/+On78ON59992U7XE6nfjBD36gGPEXu5329nY89dRTadslXwkp2apI/f39OHDgQNJtuFwu9Pb2ore3F1arFT09PUmfGz1uvHPnDjweD3784x8rjk2iRkZGMDIyktH+SCa6/egxa7YOHjxYkNUFsjk2JFrS5rtKYiKxqxhEyau3Z1J5VL7mvNVqle7PtHJsomqn7e3tQldXl9De3h631mqyNVVjq/eaTCahq6tLusir5yNFxVtBUFYFjm2f0WgUTCaTohJ+9P5cybeT7WW+KtC7XK64FQmSrTiQ7G9tNsn/Ds1mc8Ln3Lp1S9GOU6dOpd1uvm1PtkZ1ppd8yCtQ9/X1KR6T//vkKgZERAuT/DtGfqwlP3bKZC16+TGN/Ls8k++j0dHRuGMis9ksHX/FHp8lWz1IEOJXGooeX5hMprjjOPntfFYxkL+fTqdTtD3RcWiqY1p52xIddyY6Jshl5TBBiD8+yfZSiFUdsjk2JFrqFlRAkG0nSv4fp3y5k0z+Uz516pTivWI7MVHyTrpOp0v4xdLV1SUYDAZhYGAg6RdP7NJ1scuzRCX6D9xkMin+k0u0lEsmX8KJxH6JZHNJ1hmeLaOjo4qgJVnYkmxfCoLyby0apIyOjgrt7e1x+9poNApWqzXl8oeJyNuU6nOQ/71msu/yDQhil4nK5pJomcZMyZd7TBReMSAgIlr4kgUE8u+edCcw5MdGsd+LmXz/yb9/jUZjwg5hbIiQ7Lgw9pgg9rjQ5XLFBQ75BgTRjnuq493Y49BkEn2Xt7e3K45LYzvRAHLqRCcKU7K5JDvmzsRsHBsSLXULKiAQBOV/hKk6UfIOfuwXUCb/Kcs7a+mSTPmXRj7/qcn/A0u2ndgvKPnIiFS/Q6E76/NB/jkm++JL98Um34bBYMj4rHqq/S7ncrkUX9yp1n6O/X1S/S0NDAzEnTlYKOT7OFHYwoCAiGjhSxYQyL8XgeQnRARBeVwU20lO9/0nDxfSff/KjzsTdbJj25zq+1k+ajDfgCATsSfPku3P2OOYZCcssvldi9FsHBsSLXULpkhh1LPPPitdHxwcTFogUF4ULtvihE6nU5pfptPp0q63+/zzz0vXf/WrX2X1XnJPPvmkdD3ZfDS5dPPN5MXwcp0HVsxWr16d8vHOzk4YDAZ0dHRkVKzR5XJJRfMMBgOsViu6urrQ1dUFs9ksLbUJAL29vejo6Ei7TfncSYvFknbpQvl7HDhwAPX19ejo6EB3dze6u7thsVhQW1uLXbt2xc2BXAjkhQnNZjMLExIRLTF1dXWKVXiSFeiTr0KVS3HCkydPStdffPHFlN+/TU1NMBgMAMS5+rFF/+SrHel0upRL8u7fvx99fX1ZtTUfer0eRqNRup3Jsn0DAwNJ62bV1dUpiklmcjxaTGb72JBoKVpwAYH8P3FALFYYS17xNpfihNEODABs2LAhbQGTBx98MOFrsyUvOpcJeViSiHypvHzaVawsFgsEcRSMdBkdHUVfX5/ib6SzsxPNzc0ZfRFYrVaMjo5ibGwMPT09aG1tRWtrK2w2G65du6b4Eu7s7Ey7goW8AFC6z0uv1+PDDz9UtN3lcqGzsxNtbW1oa2vD4OCgVGhIfoC1EMQWJuzs7JznFhER0XyQn1ix2WwJv5/lwUEuxQnl37+bNm1K+/z6+nrp+scff6x47MMPP5SuJ+tYy6Vbqni2ZVtoL93vsH79eun62bNnc2rTfCnEsSHRUrNgVjGQ27dvn1S5/+jRo3GV8uWhQbqztolcunRJcbu7uzvHlibmdDrx5Zdf4vLly4r7F9p/wsWooaEBDQ0N2L9/P1paWqRVLBwOB15++eWUIy5MJlPKx/V6PYaHh7Fy5UrpvjNnziQ9k2C326Wz/AaDIaOz5Q0NDRgbG4PNZsPJkydx+vRpxeoXJpMJ3//+97Ft2zbcvHlTMeKh2L355pvS7/Liiy+irq5unltERETzYdu2bdDpdPB6vfB6vThz5oyi0xpd2i9q586dWW3f6XQqbn/88cdxnf5syEdhrlmzJuft5Mtut+OLL77AjRs3FPePjY3NU4sWhnyODYmWogUZEOzcuVMKCFwuF4aGhhRDz1577TXpeqphYMnIvwiiy73ky+Px4NixYzh69OiCHBq+EPX09ODChQvSEMXe3t6USypl8gWr1+thMpmkv4nYgxA5+RrP8uF6mbBYLGkTfvmQR/mZj2LkdrulEQMGg2Helr8kIqL5p9frYbFYpI7akSNHFN95J06ckAJls9mcdaAcO8w+2XLVmZIfB2YyGmE2ud1uvPHGG7DZbEmXy6bMZXtsSLQULbgpBkD8/Ch5vQH5f6BGoxENDQ1z2jb5EPQop9OJjRs3oq2tbcGFA42NjVCpVDldMhmGV2ix9Sc++eQTxW35F32mn83jjz8uXU82xSD27Ee6Oha5kIcT8jZlqqOjI+fPtra2Nqv3ip0K1NzcnPRy9OhR6Xnnz5+X7i+GvyciIpod8hM4DodD8Z0mX6t+9+7dc9ouAFi3bt2cv2ciNpsNRqMRvb29CyoccLvdqK2tzfkYI1lditmS7tiQaKlbkAEBoPzCkBcrPH78uHR/tsUJE+nq6oqby5TqcuHChbht7N27V1H0sKurC+fOnYt7bVdXV97tnW3RhDUXxVAYUV4fAkDctI5YszUX7cyZM4qgqhDD6U+fPi1df+KJJ7J+/cWLF3N+73wOVKLFIJNd5EGN1+uV7h8cHEw5YoOIiBaOhoYGxUmVaKcwdnpetsUJE8nmOE4QhLj3lE/jy2eqQjbcbjdaWlqk71uDwYCBgQGMjo7GtbfYahLdvHkzr+OEQhdGzPbYkGipWZBTDABg+/bt0vw1QDxDKR/6nUtxwqitW7dK2zl79mxew6GHhoYUnewPP/xwzkc15KO9vT3njuTWrVtnuTX5iz0rEFsX4JNPPkl7MCLfH8nO3MurJ89GUBVraGhIETrlcgAlLxKVrRUrVmT1/GwLcCai0+kW1L8dIiJKbe/evdIxks1mwyuvvIK3335bejyX4oRA/He73W7Pa9Wc+vp66Tt3rqr6Hzt2TBEOfPLJJwtmGPzatWthNptzPlE01yM4imXECFGxWLABASBWnI/Oaz569Cg+//xz6bFcihNGyf+jOH/+fF5tlKeSJpNpwXVwDh06NN9NyMtvf/tbxe0HHngg7jlGo1E6QPnNb36TsrPt8XgUcxEfe+yxuOfIV9EAkHNQlaoNBw8elG5brdactpNJnYPZsn///ozrgXR3d0vzRU0mE4aHhwvZNCIimic7d+7EgQMHAIgjxo4dO6b4/sy2OKGc/Lv9ypUreQUEjz/+uPTdPzg4mPbYSF6DKFfykxH79u1bMOEAINaYkE+zLDaZHBsSLWULdooBoJzX7XK5pGI3QG7FCaM2btworUfv9XpnbS5UquHrHo8HH3zwway8z2JXX1+f0WfidDoVfxMGgyFhQPPDH/5Qut7b25ty6cKXX35Zup5slIq8eKDZbJ7VL3WPx4OXX35ZMXrgJz/5yaxtn4iIaK7o9XpFyC0vJphLcUI5+Xf766+/ntcUQvk0PpfLlbLzK6+SP1tSjVpwOp15n8xaDGb72JBoKVvQAUFdXV3CooD5FifU6/V48cUXpdsHDhxI+5+O2+1Gf39/3BeQfDSCw+FI+KVit9vR3Nyc13z/pcTlcuHAgQOor69Pun6yzWbDli1bFHPg3nrrrYTb27NnjxQIAeJBid1uVzzH4/HEfem/+OKLCTv/uRZXGhoaQkdHR9x7yx9vbm5WtKGnp2dBnVUgIiKSe/rppxPen29xQvl3u8vlQnNzc8oTAID4PTs0NBR3//bt2xV1CFpaWuKe53a7476j8yGfwtjb25uwBk+iY52laraPDYmWsgU9xQAQ53fv2rUr7r58tba24oMPPpA67QcOHMDrr7+OJ598UrEG7qVLl+BwOKQzuo8++qhiGFv0SyX6+K5du3Dy5EmsX78eABTvQZmJ1p5wuVzSZ280GqWOcqJlKa1Wa9KpA3q9HocPH5aGOTocDmzevBkGg0FaPjB2m1arNWFtCqfTmXNtgMuXL6Ozs1OaNiMvOnT+/Pm4A4CBgQFW9iciogUt9jgJmJ3ihHq9Hr/4xS+wY8cOAOJ3u8FggMlkUtRIunv3Li5evCh9z5tMpoTvffz4cWzevBmAOLp0x44d0nGCx+NRHMtZrda8g4I9e/ZIxwNerxdbtmyBxWLBmjVrcPfuXQwODi64lbEKabaPDYmWNKEInTt3TgAgXVK5deuWoNPppOfqdDrh1q1bKV/T1dUlPb+rqyvlttvb2xVtSXcZHR2N287o6KhgMBhSvs5oNAp9fX1p22UymaTnnDt3LuXvmc1+XEjOnTuXdn/K/x76+voy2q787yLVpb29Pek25H8vqZ6XyMDAQEbvbzAYhFOnTmW17YVE/jmYTKb5bg4REeVAfryS6lhLEOK/f9M9XxCEjI9vsjlmACCYzeak2xoYGFAccyY65hgYGFC0L9n3WCbHouneL9pe+bFHsmPDbI4HF+L3cKGODYmWoqKcYlBdXS0NC5MP6Uokdv7a4cOH0w65lldUX716dcptHzp0CC6XC+3t7QmXkTGZTDCbzejr64PL5Uo4taGhoQGffPIJ+vr64rZhMpkwMDCACxcuYNu2bdLvnazqu7x6fHV1dcrfM5v9uJA0NTVhbGwM586dS/i5GAwG6TO5du1axvUoWltbpc86duqKyWRCe3s7XC5XyuJE8jMGP/rRj7L4rcSigefOnYPVao17/+jvNDAwgLGxsUWdeMv/9pOtEkFERMVNXj8g1bHjLKRVAAAgAElEQVQWIBYjlB+vyGtMJZPp8U30mGFgYABmsznu+dFRBe3t7Th16lTK+gIWiwUOhwNWq1WxHYPBgPb2djgcDmlkX/TxZKv+yL/rkh3zRd8v9rhEp9PBbDbj3LlzsNlsihoJyY4No/tLPqUyGfnnVYhlmguhUMeGREuRShAEYb4bQbQYDA0NSUMZDQYDxsbG5rlFREREREREmSvKEQREC9E777wjXX/hhRfmsSVERERERETZ4wgColng8XiwcuVK6bbL5Voww/KIiIiIiIgAjiAgmhVnzpyRrue7djMREREREdF8YEBANAs+/fRTAGLxn3zXbiYiIiIiIpoPnGJARERERERERBxBQEREREREREQMCIiIiIiIiIgIDAiIiIiIiIiICAwIiIiIiIiIiAgMCIiIiIiIiIgIDAiIiIiIiIiICAwIiIiIiIiIiAgMCIiIiIiIiIgIDAiIiIiIiIiICAwIiIiIiIiIiAgMCIiIiIiIiIgIDAiIiIiIiIiICAwIiIiIiIiIiAgMCIiIiIiIiIgIDAiIiIiIiIiICAwIiIiIiIiIiAgMCIiIiIiIiIgIDAiIiIiIiIiICAwIiIiIiIiIiAgMCIiIiIiIiIgIDAiIiIiIiIiICAwIiIiIiIiIiAgMCIiIiIiIiIgIDAiIiIiIiIiICAwIiIiIiIiIiAgMCIiIiIiIiIgIDAiIiIiIiIiICAwIiIiIiIiIiAgMCIiIiIiIiIgIDAiIiIiIiIiICAwIiIiIiIiIiAgMCIiIiIiIiIgIDAiIiIiIiIiICAwIiIiIiIiIiAgMCIiIiIiIiIgIDAiIiIiIiIiICAwIiIiIiIiIiAgMCIiIiIiIiIgIDAiIiIiIiIiICAwIiIiIiIiIiAgMCIiIiIiIiIgIDAiIiIiIiIiICAwIiIiIiIiIiAgMCIiIiIiIiIgIDAiIiIiIiIiICAwIiIiIiIiIiAgMCIiIiIiIiIgIDAiIiIiIiIiICAwIiIiIiIiIiAgMCIiIiIiIiIgIDAiIiIiIiIiICAwIiIiIiIiIiAgMCIiIiIiIiIgIDAiIiIiIiIiICAwIiIiIiIiIiAgMCIiIiIiIiIgIDAiIiIiIiIiICAwIiIiIiIiIiAgMCIiIiIiIiIgIDAiIiIiIiIiICAwIiIiIiIiIiAgMCIiIiIiIiIgIDAiIiIiIiIiICAwIiIiIiIiIiAgMCIiIiIiIiIgIDAiIiIiIiIiICAwIiIiIiIiIiAgMCIiIiBLq7u6GSqWSLs3NzfPdJCIiIqKCYkBARERxmpubFZ3j6KWxsRFDQ0NZb8/pdCbdZnNzMzweTwF+i/ycPXtWcXtkZGSeWkJEREQ0NxgQEBGRgt1uT9oZdjgc2LFjB+x2e1bbbGtrS7rNkZERnDlzJut2EhEREdHsYkBARERZe/vttzN+rtPpTHv2/caNG/k2iYiIiIjyxICAiIiyNjg4mPG0gP7+/gK3hoiIiIhmAwMCIiJKy2g0xt2X6bQAm82muG0wGGalTUREREQ0uxgQEBFRWj/84Q+h0+kU9x0/fjzt62w2G7xer+I+s9k8q20jIiIiotnBgICIiDJisVgUt0dGRuB2u1O+5uTJk4rbZrMZy5cvn/W2EREREVH+GBAQEVFGnn766bj7Uk0z8Hg8GBwcVNz3zDPP5PTeHo8HNpsNFosF9fX1imUS6+vrYbFYYLPZMq6L4PF40N3djcbGRsV2Wlpa0oYeqdjtdrS0tCi2G13KsaOjI69tExERERUaAwIiIsrI9u3b46YZ/PznP0/6/BMnTsTdt23btqzfd2hoCA8//DB27dqFwcFBuFwuxeMulwuDg4PYtWsXHn74YQwNDaXcnt1ux8MPP4y2tjY4HA7Fdnp7e2EwGLIurOh2u9Hc3IzNmzejt7dXsV1AHG3R2dkJg8GA7u7urLZNRERENFcYEBARUcZipxk4HA44nc6Ez40ND6xWK/R6fVbv19HRgR07dsTVMUjG6/Vix44dcYURo5xOJ773ve+l3d6BAwfSLs0o36bRaMz4+W1tbejo6MjouURERERziQEBERFl7Nlnn4277/3334+7z+l0xp1FTzRFIZWhoSF0dnZm18CIZFMF9u7dm3HYkKlcttnZ2Qm73T6r7SAiIiLKFwMCIiLKWFNTU9wyhbF1BoD40ECn02H79u1ZvdfBgwfj7jMajTh16hQEQYAgCHC5XOjq6op7ntfrxRtvvKG4b2hoKC60AID29nbcunULgiDg3LlzMJlMGbfRZrPFbTPTNr799tsZvw8RERHRXGBAQEREWYldptDlcsWdDY8NDWKnJqQzNDQUV2vAYDBgeHhYETTU1dWhtbUVfX19cduInWbwm9/8Ju45ZrMZhw4dkqY+NDU1YXh4GFarNaN2HjlyRHFbp9MlbWN7e7viuYmCFSIiIqL5xICAiIiy8qMf/Sjuvvfee0+6nqhzn+30go8++ijuvldffTVpDYP9+/fHjWzwer2KaQYXLlyIe91LL72UcHs9PT0wGo1p2xk7esBisSRt41NPPRV3H6cZEBERUTFhQEBERFlpaGiI64zLz9bHnqk3GAxZTy+4ePFi3H0bNmxI+ZpEHfqbN29K1xNNL2hoaEi6vXQFFRN17nt7exXLG8ovmzdvTrk9IiIiovnGgICIiLIWO83A6/ViaGgIHo8Hvb29KZ+bq7q6upSPr1+/PqvtZVNroFC++OKL+W4CERERkYQBARERZS3RNIN33nkHZ86cyei5JKqpqZnvJhARERFJNPPdACIiWnii0wzktQYGBwdx584dxfMMBkPKYfzZcLvdKUcRXLp0KavtjYyM5NukvBgMBjzyyCPz2gYiIiIiOY4gICKinCSaOhDb6d63b19O216xYkXcfefPn0/5mtOnT8fd19TUJF2PrZsAQFHEMJbH40n5fqtWrYq7r729XVreMN1lbGws7bQJIiIiornEgICIiHKSydSBnTt35rTtLVu2xN135MiRpJ32/v5+eL1exX2xRQsTFTF84403Em6vpaUlYVFDubq6Ouh0OsV9vb29aYMFIiIiomLFgICIiHKSaDUDOaPRmPMZ8m3btsXd53A40NzcjKGhIek+t9uN7u5uHDhwIO75P/3pTxW3n3nmmbjn9Pb2oru7W+rU2+12NDY2xhVaTMZisShue71ebNy4ETabLW50gtPphM1mQ0tLC2pra9Hf35/RexARERHNFdYgICKinJnNZnR2diZ8bO/evTlvt66uDlarNa6j7nA4sGPHjrSvN5lMcZ33bdu2QafTxY00aGtrQ1tbW07t/NnPfgabzabYpsvlwq5du9K+9u7duzm9JxEREVGhcAQBERHlLNU0g0SjALLxyiuvJJwWkI7RaMS7774bd79er0dPT0/G27FarWmfU1dXl9U2iYiIiIoZAwIiIspZsmkGJpMp7wJ8er0ew8PDCYshJmO1WjE8PAy9Xp/wcYvFgoGBgZTb0Ol06Ovry7jjb7FYcOrUqZTTLRJZvXp1Vs8nIiIiKjQGBEREpLBq1SpFZ1en02HdunVJn//qq68qivXpdDocPHgw6fM3bdqU8fb1ej1sNhtGR0fR3t4Ok8kU9xyTyYT29na4XC709PQkDQeiLBYLXC4XrFaroh1GoxHt7e1wOBzYv38/AOXKB6kCgO3bt2NsbAwDAwOwWq0JRz6YTCaYzWb09fVhdHQ0bgoEERER0XxTCYIgzHcjiIiIiIiIiGh+sUghEREVH0EAIER+zhKVCoAq8pOIiIiIYjEgICKi+ZEsBBDC4iUcEn/mGxRIwUAJUKIWf6pKkjyH4QEREREtXQwIiIio8GLDgFQhQDgEhANAyA+EAuLtfJWoAXUpoNYCJaXibSB1eMDQgIiIiJYYBgRERFQYUigQCQKiYYB0O0EIIAiAEAKCPiAwLf4Mh8Tt5Ewldv41ZUBpufhTpZ7p+CcKD6JBQYl65jbDAiIiIlrkGBAQEdHsUIwSECIhQFC8BP1AyCeGAaFg6hAgHIo8zx8JEUJAPv1yAYBaLXb+1VoxDIiOIEgWHqg1kdCgDNBogRJN5KLGTFDAwICIiIgWFwYERESUJwEIh8VOf7TzHwqKnftoCBCYEi9B38zjiUKA2FEHQljcdoJ+uBAMQAj6IAT8UJVqodKUQaUpTdg8lJQopxFEO/eJwgO1RgwJNGVAaUXkEgkPSmSPR3+WRLZHREREtMAxICAiohxFgoFwUOzoR8OAkH9mxEA0GJBGCgTipxrIQoDw9ARC924jdM+D0LhXCgCEUABCwA+E/AgH/BCC/qStUmm0KCnVAmqtGByoS6UAQb1MB3W1HurqWpSUVyUOD6SpBaUzIwuiQUF0RIFaOxMaqKMjDBgUEBER0cKmEoTZXEOKiIgWv5hgIDAN+CcA37j4M+ibCQmi16NTDSJhQDjoQ/ieRxEGBO95IPinAQCqskpoqmuh0mjFUQGaMpSUlom3S7WR+8VL2D+FEm0FhKAfQsCPcFCcyiD4feJ9QV9ktIEfwXu3IfgmxffQlkNTrVeGBtV6lGjKZKFBZGqBWiuGAdFwQFMGaKuAsmXiz9JyBgVERES04DEgICKiDCUJBvzjwNTX4s/AVKTwYGSqgaw4YdD7r/D/6XME/nwDoXseAOLZfnV1rayTroemRg+VtkJ6y6TTA5I2M/U0BcE/heDXHjGYiIQToXu3pVEJ6mo9Sr+xGtr710Cj+4uYYoXR+gRacUSBdhlQUSP+ZFBARERECxwDAiIiSiODYMA3AQQj0wsiBQeFYBDBW9elUCDsm4S6agVK71uNUv2DUC+rRUnV8uxrBEgFBlNIVugwRXgQnriL0PhtBDxfIPDVDYQm7qCkrBKl31iN0vseQuk31kCl0UAqbKjWAppyoKyKQQEREREtCgwIiIgoMSHSkZavOJAyGAhCCAbh//Iq/F9dR+DPNwBBgEb3TemMvLp6ZfzygfI5/5muMpBuBEE2qyTELb8o3g7du4XAV9fh/+o6gt4/AiqV+Hvc9xC0D6wVwwJp+kGKoEBqcwlXPSAiIqKixoCAiIgSiCxTGPSL0wb848D0PWA6STAwPYGp65/Cd/0yhKAf2vvWiGfe71+DkrIqWQgQM6c/btWABCFAiTryPK0YImQ6giAcCQFCkRAASBweyFdViK2ZEAkLwr4JBL66HgkMPodKo0XZQ+tQ8dBjUJVXJQ4KymuA8mrxemlFZLnEyDKJREREREWIAQEREc2QjxoITAOBSWDqLjB1RwwHfOOKYCB07zZ81z/F9I0rUGnKUL5mHcofekysIZAoFCgtV64KEA0D1JrEIYBKBXG6QcwqA2l/j5hVEiBEphcgPjyI1ksIxqy6EJhOGBYI/ilMX/8UvutXEA5Mo3z1oyh76DGoq2tjgoJISFCxAqhYDpRWir87RxMQERFRkWJAQEREomg4EIqMGpj+WrxMecWQIDAZGa4fRNBzE9M3LsN/8xrUVStQtvpRlK95TFbIrzRJKFAZ+RkZKRANA1QJlhqUk4KCLDrVUr2BmK+52PBAmloQmBlZEJgSf99EYUEoIBVgnP78U/huXEFo4g60qx5G+ep10OhXib+7pkz8fSuWAxW6yIiCmshyiVqGBERERFR0GBAQEdFMOBD0iaMEpu8Ak15g+i7guyd2lIN+CNMTmLhqh//mNWhW3I/yh9ZBu+rbYiE++dSBaAgQFwqUR4baR0YVyMOAXEKAfH5feXggBQWR0QJBvzhSImFYMBUzFSEM/83fY/r6ZQTv/AnaVQ+jam2TOPVAE1ntoKwaKF8OVOqA8hXi6AJNGUMCIiIiKioMCIiIljp5OOAfByZvA+O3xJED/gmxUyyE4P/y95i8+hFQokHldzZBe99fxgQDkfn3ZcuA0ipAW5k4FMh0ucK5FrvCQaKwwD8JBCbEECWmDgPCYfi/+j+Y/OxjIBxE5donoH3g2+KIitJysWhhhQ5YthKorBVrEzAkICIioiLCgICIaCmLDQcmPMDELTEkmL4HhPwQAtOYvPoRfH+4irJvfQdVa58ASrVpKvhXRqYQFHkokEzSsMAnhgQpVnJAwI+Jqx/B94fPUPattahc+wRU0WUPy6vFcKBqJVClZ0hARERERYUBARHRUpUsHJjwiLcDPvj/5MLkZx8BQhiVazeJ0wmiKw6kWtpPrV14oUAysWFByJ96ycfIygj+m7/H5NWPAVUJKr/zBLT3G4DSMnE/VekZEhAREVHRYUBARLQUZRAOTP3uI0y5R6Fd9W1UfecJqMpkc+q1y8R59QmDAY049WBRLucnAOFIrYJEQYHvXmT/RWo2+CYw8dlH8N/8PSrq/hoVjzzBkICIiIiKlma+G0BERHMsg3Bg4tMP4fvDZ1jWsBXaB9fOzKOXqvKvAMpqIvUGlkIwEKWKLN1YolylQVsl1l3wVYlLQk7dBUomoVKVYNl3t8H/jQcx7jyLcMCPqse2JN+8pgwAQwIiIiKaHwwIiIiWmuhShr5xYOp2XDgw/r+H4f9XN6ofb0bp/YZIJ7hCXKKvrEasxF+xXAwLpDoDiz0YiJUgKNCUAdoKceqFugzwRZaJDExB+8BaVGu0uHdxBELQh2XfbY7ZnAoQIj/VWjGQISIiIppjJemfQkREi4cQKaQ3JS5lGC1IKI0cOIvAnz5H9cb/KIYDpWViYb2qlfAEy9G8pw2q+x+BquYv0H/83cjqBGrMZzjg8XjQ3NwMlUoFlUqF/v7+OXz3SFCg0YqFGctqxGkDNd8U99f/2w1V426o/u1e/H//6wtUb/yPCPzpc0x8ehYIyFaNmLglfh6BKfHzwezO/hsaGkJLSwsaGxul/aRSqdDc3IyOjg643e5Zfb+F2q6Ojg5FO9JdGhsb57R9UR6PBzabDRaLBfX19Qn3nd1uL2gbamtrs9pX87Hf3G43+vv7Ff8/qFQq1NfXo6WlpeD7iIhoIWINAiKipSQcEqvwT94G7v0RGP9KHA4f9GHq2nlMXbuAZetN0H6zfmaufGUthv7pMzz3dy/Ce+eutKmu115Da1vbPP4yYgfzueeeg9frle7r6upCa2vr3DcmOnVDCGHov/4az/3nvcr9ddCC1l3/Af4/jmH80ggqHm5ExcMbxJEHFcuBZfcB1d+MLIFYGQle8mO32/H888/D5XKlfe7AwAAsFkve75mJYm1Xc3MzRkZGsnrNXB9GJfqbT0Sn0+H27dsFa4cqz2kwhd5v3d3daMvg/yer1Yqenp6CtoWIaCHhFAMioiUjMnogOC0W0/N9LRbYC/nh/+M1TF27gMpHNyvCAU+gFD/+6WsY/C+/jd/cPM6T93g8+PGPf4zBwcF5a0MclQqe23eSt0utBUrLoP1mPSofncTklXNQV+ug/Ytvi5+D72uxloG2MjIyI79pG263G5s3b1bcZzAYUF9fDwBxHeFdu3ahpqYG27dvz/k9F3K7YplMprTP2bp16xy0ZEZLSwt6e3ul2zqdDk8++STWr18PALh79y5Onz4Nh8ORNkDIl9lsxp07dzJ+/tjYmBQIGQyGQjULQPx+MhgMMJvNWL58Oe7evYvBwUGpLdHnMSQgIhIxICAiWirCkdoD/glxbrxvXCxUGPBh8rOPUfbgIyhf81diR1a7DParX+J7+9rhvfu1tAmdTlfwjkc6drsd3/ve9xTtKNp2rVgBb7QTpa0UR2QIAsrX/BVCd/+Myc8+hnblQ+JoAd84UPr1TOHHEk1eowhu3rwpXbdardi/fz8aGhqk+zweD15++WVFR+rgwYMF74gXa7tiDQ8Pz+n7pWOz2RT7xGq14pVXXoFer1c879ChQ3C73Yr9XKj2ZCMaAAHAvn37Zrs5kqGhobj9FNv5P3TokCJE6O3txbPPPoumpqaCtYuIaKFgDQIioqVAiI4e8IkdUf+4uERfKIjJ330MIRxC5dpNYqe0tAK2/34Jm81/J4UDxscfx7n/+T+xYcOGef01bDYbNm/eLHXCjUYjzp07V5ztit1fpZXi6g+lFUCJBpVrN0EIhzD5u4+BUDCyZOL4THATDoqfWx6MRiNGR0fR09Oj6IQDgF6vR09PD8xms3Sfy+WC0+nM6z0XcruKldvtRktLi3S7q6sLPT09ceFAVF1dXVF1dm02m2I6yZ49ewr2Xv/wD/8gXTebzUlHBvT09ChGibz99tsFaxMR0ULCgICIaEkQIp3QKXEEgX8SCAUQuncL0zeuoHLtJqhKK8TRA2XVOP5f/jsA8Qx412uHceHCBTTFDAufD8ePHwcgjhjo6uoS21UEHaGE7dq8WTkNQ1sprgBRVg2otVCVVqBy7SZM37iC0L1bQCggfi7+CfFzCuVXrLCpqQkXLlyI64DH2r17t+L2vXv3cn7PTBRru4rZG2+8IYVPJpNpfmps5CH67wMQz+gnCzby5Xa74XA4pNsvvfRSyucfPHhQuj44OAiPx1OQdhERLSScYkBEtBQIYUCInKUOTEpnqKevX4Z6mQ5lq74NqDXi0PbyatT95V/CVFqBnt5e1NXVz2u9Abm6ujqYTCb09PSgrq5uvpsjyahdJaXiKgflE+JnEPKjbNW3Me26BN+NK6is+UZkysek+DmVB8XPTVXYLL+mpqag289VsbZrPsiH88s7tQuB0+lU1JXYv39/wd7rd7/7neJ2uhAqdtrKJ598MudTWYiIig0DAiKixU4QxNULAj7xzHRgGggHEZ4eh+/GFVQ9ulnshKq1YpG88hr0vPWPQHmNWCxvHpcwjFWshcQyapdaI9YXCNSI0wgiUzzKH1qHiSvnUF5vRImmLBLiTImfl6YcUKkLGtBcuXJFcXvt2rUFe69sFGu75trQ0JA0ekCn0y24Dqx82VGTyZS2056Py5cvZ/0ak8kkBRiXL19ecPuXiGi2cYoBEdGiFwkIQn6x4xkZPRC49QcAgPaBfyN2XjVlYgdWKyuSV0ThwIKnKhH3q3aZuJ81ZYBaI+5/QPw8onUiAlPi5xUOIZ9pBul4PB68/vrr0u1CDv/ORrG2az7IO71PPvnkPLYke263W1Ew8Pnnn5/H1iS2YsUK6fqlS5fmsSVERMWBIwiIiBa76AiCcCASDgSAUAiBW19AU7sKKo1WKk4oLbOnji6zR7NGpYqM0qgU93NpBRCYgkqjhaZ2FQK3vkDZA2uVn1M4JH5+Bchp3G43zGazVDxOp9PhZz/72ey/UZaKpV3d3d1x923atAlr166d07Di7Nmz0vXocoYLxYkTJ6TrOp0OFouloO+3bt06xW2Px5P2s1q/fr20LGk2yzYSES1WDAiIiJYEIVKHICT+hICg50uUr/6OeGa7JFJ/oLRSPLNdogZHD8w2lbhfNWXifo6O0lCVQLvyQUzf+AyJPqd8xc4BB4APPvhAUczNZDKhq6trTus6FGu7otra2pI+Zjab8dJLLxV0uHwi69atg8fjwZkzZ3Dy5Ek4HA5FkLJhwwZ8//vfx86dO+d9xIXH48Frr70m3X7xxRcL/p6PPPKI4vaJEycKWvOAiGgxYkBARLRUCMLMBUDYN4GSihqx01paJp7RlnVaqQAUYUyFuN+D0yipqEHYNyE+J+ZzytfIyEjKzm57ezv27Nkz553wYm1XJgYHBzE4OIiBgYGCnxWXhyjvvPMOnnvuOakmgZzX68XIyAhGRkbw0ksv4cMPP5zzAEPuzJkzinbu3Lmz4O8ZLRYa3WcvvfQSHn300YQrnXg8Hhw7dkwRYhAREWsQEBEtSWH/FCAIKCmvEgOCklKxIJ5ay9oDBaUS969aK+7vklKgRC1+DoIgfi6zbPXq1Skf7+zshMFgQEdHx5wu81aM7Xr33Xdx7tw5uFwuCIIgXW7duoVTp07BarUqnr9r1y7Y7fY5aRsgBhPy5Q67urrQ1dWF9vZ2GI1G6XlerxdbtmyB2+2es7bF+vu//3vputVqnbOgR/6+Xq8XmzdvRmNjI7q7u6VLc3MzVq5ciba2toRhCxHRUsaAgIhoCRL80+IVbTmkoe8lGk4tmBPx+zsc8AEABN/sBwQWi0XR2RUEAaOjo+jr64PBYJCe19nZiebm5jnrjBdju/R6PZqamuI6s3q9Htu3b0dPTw9GR0eh0+mkx+ay8J7BYMDAwABu3bqF4eFhtLa2orW1FYcOHcKFCxcwMDAgPdfr9eKNN96Ys7bJ2e12aeoDADz77LNz9t5NTU0YGBhQfEYOhwNtbW3SJTrCQKfTKYIVIiJiQEBEtCSVlFUCiAYF0SKGwYJXzScg0f4uKS0DAKjKKuakBQ0NDdi/fz/GxsYUZ8UdDgdefvnlOWnDQmqXXENDg2I+vcvlgtPpnJP3Pn78OCwWS9L6AhaLBe3t7dJtm802J+2K9eqrr0rXjUZjwiH+hWSxWHDt2jX09fXBZDIpHtPpdDCbzRgYGMC1a9fwwx/+UHqsGKezEBHNNQYERERLkKq0DFCpIPgmZSscTEeW1guCIUGhCOL+DfnF/R1ZqSA8PQGoVCjRzk1AINfT06M4i9rb2zunUw2SKdZ2AfHz6f/pn/5pTt73iy++SPucp556Srru9XrnfJqB2+1W1E346U9/OqfvH6XX67F//34MDw8rRqncvn0bNptNClrkSxuuWbNmXtpKRFRMGBAQES0VKtXMBUBJeRXCk3fFgCDgAwJTQGBa7MAK4Xlu7CIlhMX9G5iO7G+fGBBMfS3WIQDiPqe5ENuJ++STT+bsvVMp1nbFnmm+e/duwd5Lfgb8xo0baZ+/du1axe2bN2/OeptSkU9rmIulDfMlXzUjdplEIqKliAEBEdGSoBIr6KvUkRUKVCitfQD+W1/EdFongaCPUw0KIjK1IOgT97MsjPHf+gKa2geQ6HOaCw8++KDi9uXLl+fkfdMp1nbNl0IGEbPB4/EopjXMxdKG+XC73YpaCRs3bpzH1hARFQcGBEREi51KJVupoEz8qVZDs/JBBG/fhBCMTCsITAH+CcA/GT2RJ4sAABllSURBVJlqwFEEs0oQxP3qnxT3c2AKCAchBP0I3r6J0pUPAuqYz6lEPacjCaKK9UxqsbQrtuZAIdu1detW6frp06fTPv/q1auK27EjCgrp2LFjc760YT6OHTsmXTebzUlrOxARLSUMCIiIFr1IQKDWAqUVkc6nBqUrvwUA8H/5L0AoKJ7Z9o0D/vGZs9scRTB7hLC4X/3j4n4O+oBQUNz/gPh5lGjEz6e0IrLk5NysKvHb3/5WcfuBBx4o+HtmoljbJZ9jDxT2zLM8fHA4HGlrCsj3mcFgmNNO79GjR6Xrc7m0YS6cTic6Ozul27t3757H1hARFQ8GBEREi110BEFppONZWg6UaFBSvgzlD63D9PXLYuc15BfPbE9/PdOBDYfEM9+Uv1BQ3K/TX4v7OeQHhDCmr19G2epHUVK+TAwISssjn1NZXiMI6uvr0d/fn/Z5TqcTvb290m2DwYCGhoac3nMhtytTTqcTr732mnTbarUWtBO+ceNGxZJ9qZYujN1n+/btK1i7Ytlstnlb2jBbbrcbe/fulW6bTCZs3759HltERFQ8GBAQES0FqhJAFe18VkqjCMpWP4rQuBe+m78XO7CBaWD6HuCLdGKDYic235CgubkZKpUKtbW1GBoamqVfKn9z2q5wQNyv0/fE/RwKwnfz9wiNe1H+0DrZ6IFKNO/6f6CqWIHalffl3C6Xy4UDBw6gvr4eNpst4QoANpsNW7ZsUQwLf+utt5Juczb2V7G2q7a2Fi0tLUlf7/F40N3drWiXTqfDz372s4K2S6/XK+by9/b2oru7O26/2e32uLbt2bOnYO2Kdfz4cel6rksbzka7uru70d/fn3DpyWiNBKPRKBUn1Ol06Orqyum9iIgWI5Ug8NQQEdGiF53/7rsHfP1H4OubwIQH8E9i8vL/gO+Pbqz4d7ugKq8GtFUYcrjw1i/+K6DRzhTMU6lw/vx5qQNiMBhQX1+veJuDBw8mPBOnkp0F7+rqQmtra06/xtDQUMKO4oJo10PfQv3qbwKhACCEgFAQ//e/AZ7+28dRue7/ArSVQJUeqFkF1arH8m5XbW2tooMNiB236Nnu2GHygHg2vKenJ+k2Z2N/FWu7VDEjNeRt8ng8imr3gNix7OnpSVmlf7b+vjweDzZu3Kg4Qw/MrHAwNjameEyn0+HDDz9MOuJittoVZbfbsXnzZun2wMBATqsXzEa7mpubpb8hnU6HDRs2SI/F/m2l209EREuRZr4bQEREc0ClmjlDXbYM0C6ThrlXPrIJ/q+uY/Lqx6hq+PdAYAqXr3yGkf/xUcpNulyuuA4LgIIO1b18+XLCDqRc0bbr+h/guv4HxX1Brw4/2rcJUEdGd2iXiZ/PLPj1r3+N559/XrEvYju5UTqdDocPH8b+/ftn5b0XYrvkZ5VTtSn63J///Odz1rHU6/X45S9/ib179yralehvzmAw4Je//OWcdnrfe+896fp8L20or3vg9XqT/rs0mUzo6upiOEBEFIMBARHRUlFSIha+01YB5TVAYEKqM1D5nU0Yv3Qa6uXfQPlDf4Xl5eqc3kJecT2Z1atX57RtAFi+fHlOryvadv3bBrHWQDS4Ka8RP59ZaFdTUxPGxsZgt9vx29/+FhcvXlR0lgwGA4xGI7Zs2YKdO3dmPY9+sbXrwoULcDqdGBkZwdmzZxWjPwAxFGhsbMSzzz6b0/D5fP6+AKChoQEXLlyAzWbDyZMncfr0acWoGaPRiGeeeSbrznm+7QKgWNrw8OHDeW8PyL1dPT09+Nu//VucPHkSDodDEUTl+xkSES0FnGJARLSUhEPiMnuTt4F7fwTGvwKm7gJBH6auncfUtQtYtt4E7TfrxY6rdhlQWQtUrQQqdWLntbRcMe0gHfnwY51Oh2vXrhXFcmKz3i5BiNRrCEVWK5gAJr3AxC1xf/vHgYAP/j+OYfzSCCoebkTFwxvEcKBiObDsPqD6m7CP/gs2/3vT7LVrliyZz3GWsF3ZKdZ2EREtNRxBQES0lJSUiHUFyquBkE8snCeEAR9Q8fAGhKfHMTH636BqLEOpXlwGESqIzwkHgPLlQFl1ZLnESH2CNMvwvfrqq9L1w4cPF81B/+y2SxCDgaAfCEyJtR6m74oBwfQdKRwIeP6AidH/hrJvrRXDgdIycX9W6sRLeTVe7ZqpUr9499fsYbuyw3YREVEqHEFARLTUhENiwcLpe8DUbWD8z5GChWIndvx/D8P/r25UP25C6f0GMQgorRCHv5fViB3ZiuWK1RBQUoJEQYH8rKDJZMLw8PAc/7KJzV67BCAcBsJBcbpGYFIckTHpjaxY8LUYGAT9CPzJhXsXR6D9izos+27zzAiNKj2w7BtARS3sFz/F5i3/YRbaNbsW/+c4u9iu7BRru4iIliKOICAiWmpUkVoEZcsiowOUOfGy7zZjQvMh7l0cxrKGrdA+uFYMFcKRZRBDPiA4LYYFZcvEKQdqbcKgIHpWMFrxvVjk3y5ZMBDyi/vFNy6GAlN3xJAgMCneL4Tg//Iqxp1nUfat76DqsS3KcKBqpTiNQ7sMrx7uzrNdhbF4P8fCYLuyU6ztIiJaihgQEBEtNSoVgBLx7H8SVY9tQUmpFuPOs9D++QtUfucJlAiRDnE4IHZ8yyaAihqxoxutTSALCpzOf5aKzx0+fFhRXXw+RQvRAbm0K0Ew4J8QR19MfS1OLfCPS6MGwr4JTF39GL4v/wUVdX+NikeeiA8HqvSAdhmcn/0LRk6fzrFdhZPf/ioctis7bBcREWWCAQER0VKUQUhQ8cgTUOu+icnPPsLX9vdRuXYTtKu+DYSC4lx7/6TYGdYuSxgUvD8oVjY3m81zskxdpt5//30AWbRLECDWGAjPTM+IDQb844BvQhxZEfQBQgi+m7/H1NWPAVUJlj3eDO39hqThADRleP+DE9m1a45kvb/mCNuVHbaLiIgywRoERERLWbTyftAndnInPDNV96fvASE/hMA0Jq9+BN8frqLsW2tRubYJqtLISAG1FtCUA2VVMUGBvD6BBiiJrHoAVUYrH8y72FAgHJypMxANRmKDgZAfCAchBPyYvGqX7a8noIqOriivnlkVQhYOZLoiBBEREVEhMSAgIlrqYkOCydvA+C1gyiueJZfm0f8ek1c/Ako04miC+/9SrDkQGxSULQNKq8SQoLRcvF+jLf6wIGko4BcDgMC0GA4EJiL1BpTBAMJh+P/0fzB59WMgHETl2iegfeDb4koPpeXi6IoKHbBspuYAwwEiIiIqJgwIiIhIGRL4xsWl+Sa94lJ9vnvSnHphegITV+3w37wGzYr7Uf7QOnHagSIoKBNXPSgtj/ysnLkdGxaoSiJhASKd5DkKDaQwIPIVKIQjwUCCUCAwFSk4ODVzO+hTBgM3f4/p65cRvPMnaFc9jKq1TVCVV82sAFFWLS4RWakDyleIIQrDASIiIioyDAiIiEgUDQlCfrETPB1Zpm/KO1OVP+gDwkEEPTcxfeMy/DevQV21AmWrH0X5msciowPUgLp0JjAoLU8SFpQBJaUzIwpUJcrrcrmEB7EhgHR/eGaUgPx6OBBZqjBRKCAbKRAKAEIICIcw/fmn8N24gtDEHWhXPYzy1eug0a8Sf3dNmfj7ViwXRw6U14iX0gpxvzAcICIioiLDgICIiGZEQwIhFOkYT4rhwNQdMSzwjSuG1Yfu3Ybv+qeYvnEFKk0ZytesQ/lDj0GlrZjp8EdHC8SFBRWRs+hqQK0RQwW1diY0AGTBQIrwIOHvERMCyIOCaBgQ8oud/VBQ/H2DvkggkCAUCAelbQn+KUxf/xS+61cQDkyjfPWjKHvoMaira2OmWywTA4GKFWJIUBqZcqFSMxwgIiKiosSAgIiIEhDEDnEwMprAPy4WLZxOUphvegJT1z+F7/plCEE/tPetQek3VqP0/jUoKatKHBZoyiKhgEbsNGvKZkYWqNQzHegSdeLwIJXYECAcivxagiwMmFlxAKHIyADF1IGZUCDsm0Dgq+sIfHUd/q8+h0qjRdlD61Dx0GPiVIJEBRvLa8SihNplkTBEG2k7gwEiIiIqTgwIiIgoMflogmiHOtnSftGgIBiE/8ur8H91HYE/3wAEARrdN1H6jdXQ3r8G6uqVsrAgZmpBSSQEUMtDAJV4PVl4kLTdMSFAOARANoIgFAkPwoEEUw3E26F7tyKBwHUEvX8EVCrx97jvIWgfWAuVRpM4GIhd8lFqM0cNEBERUXFjQEBERGkIQDhSwC/kzyAoEDvjQjCIwJ8/F8+8//kGwr5JqKtWoPS+1SjVPwj1slqUVC0X++0lMTUIovUGBADqZOFBCrEhQCgknriPXalACIu/mwoIT9xFaPw2Ap4vEPjqBkITd1BSVimFG5qVD4mhQDS0SBcMqKPFGCO/DxEREVGRY0BAREQZyiAoCExFhvUHpUJ+0Y540Puv8P/pcwT+fAOhex4AgEqjhbq6FuplOqir9VBX66Gp0Ys1DCJvmTQ8SNrM5CEAAAj+KQS/9iB0L3IZ9yJ07zaEoB8AoK7Wz4QCur+IGfEQrZcQWZ2AwQAREREtIgwIiIgoS0mCAt+4+DM6jz/oj5/TH+msh4M+hO95ELp3W+qkB+95IPinAQCqskpoqmuh0mih0pRCpSkTr2vFugUlmjKoSrVQabQI+6dQoq2AEPTPXALiz3DABwR9EIIBCEE/gvduQ/BNiu+hLYemWi8LJ2pRUq1HiaZMFkrE1EzQaGeua6vEQoQMBoiIiGiRYEBAREQ5igkKonP+o+FAKGZVgKAv8Zx/+TD/6QlFaCAEfWJnPxSAEPADIT/Ckc5/MiqNFiWlYkdeVaqFSl0aCRPKlGFAeVXiEQrymgjR2gfRVRfUspAgWl+AwQAREREtEgwIiIgoT5GgILoaQPRnODATGkSDgthVA7KoERD3rsGAFCBEAwCVpjRh87KqcaBYVSESDETDgBLZ49GfDAaIiIhokWBAQEREs0Pq3Ed+hkMzUwuiIwpCgZkQIdNVBqLhQc7tQopCh0lWSVBrImFBZMRAdKpBdJlClUr2k4iIiGhxYEBARESFETsaIG45wUgIEIpMO4i+JlV4kJM0SyWWqCNhgFYMEeKmGmRYHJGIiIhogWNAQEREhacYXYD4GgTyx5KFB/lIFAIAspEAyhoEzn/+Z/z1d9cDAMxmM2w2W/5tICIiIipyJfPdACIiKj42mw0qlUq61NbWoru7O/cNqlTw3PaiefsOqNQacUWC0nJY/tN/jszxrxRXA4iuDFC+HKioBaq+AVTfDyy7L/dL9f3idipqxe1GVx7QVonvG60xIJt+cG98Qmr6nTt3ZmGPLh42mw21tbXS3wUREREtHgwIiIgozvHjxxW3vV4v2traYLfbc97myy+/jJGREcV9g++/PzOMP3qJnumXVg+QhQe5XJKEAIqLqoTTB9LweDywWCzYtWsXvF4vAEg/iYiIaHFgQEBERBl77733cnqdx+NBb28vAECn06V/gUqlrAEwGxeGADkbGhrCww8/jMHBwfluChERERUQAwIiIkrJbDZL13t7e+HxeLLexrFjx6TrVqt1VtpFhefxeNDS0oIdO3ZIowUyCniIiIhoQWJAQEREKa1fvx4Gg0G6feLEiay3cfToUen6nj17ZqVdVHgbN26URn4AQFdXF37xi1/MY4uIiIiokBgQEBFRWi+88IJ0/fXXX8/qtUNDQ3C5XADE0Qh1dXWz2jYqDLvdLn1uJpMJo6OjaG1tRU1NzTy3jIiIiAqFAQEREaW1c+dO6brL5cqqWOE777wjXd+9e/estosKZ9WqVdDpdOjr68Pw8DAaGhrmu0lERERUYAwIiIgoLb1er6hFkGmxQrfbLRW2MxgM2L59e07vb7fb0dLSgsbGRsXyi42NjWhpackqsPB4POjv70dzc7NiGUeLxZLzKg1utxsdHR2KbUbb19HRAbfbndN251NdXR1u376N/fv3z3dTiIiIaI5o5rsBRES0MOzevVvq7NtsNrzyyivQ6/UpXyMvTrhv376s39PtdqOlpSVuecQoh8MBh8OB3t5emEwmvPvuuynb5HQ68YMf/EAaOh/l9XoxODiIwcFBtLe346mnnsq4jd3d3Whra0vbvp6eHlgsloy3K2ez2eKWnszUihUrYLPZcnotERERLS0MCIiIKCPbt2+HwWCAy+WC1+vFmTNn0nZ45QXu5NMUMuF2u2E0GqXq+VEmkwmAOBLA4XBI94+MjKC5uRnDw8MJQwK3240tW7YotqfT6bBhwwbFtjo7O3H69OmM2tjS0qL4HQ0GA8xmM5YvX467d+9icHBQ2l+7du0CgJxCguPHjycNSTLBgICIiIgywSkGRESUMfk0gyNHjqR8rs1mkzrjuRQnNJvNis58X18fBEHA8PAwhoeHceHCBbhcLkWbHA4H3nzzzYTba2lpidve7du3E25LHjwkMzQ0pAgH+vr6MDY2hkOHDqG1tRWHDh3C2NiYYlnHlpaWnJaJfPzxx7N+TRSXJSQiIqJMMSAgIqKMyZcodDgccDqdSZ8rDxCyLU5os9kUnfRTp04lnAtfV1cHm82mCAk6Ozvj5vy73W7FGfi+vr647UW31dfXl1EbDx48KF3v6upKOle/p6dHGvXg9XpzWiby0KFDEAQhp8vt27ezfj8iIiJamhgQEBFRxurq6qTOLgD09/cnfJ7T6ZQ6+LkUJzx58qR03Wq1pn19Z2en4vaZM2eS3tbpdCkL7+3fvz9tSOB0OqU6BjqdThGcJPL8889L13/1q1+lfC4RERHRfGFAQEREWZF3dm02W8Ih8/LgIJfihNFiiADw9NNPp31+bHDx4YcfKh6X386kBsCjjz6a8nH5aIQNGzakLdb44IMPJnwtERERUTFhkUIiIsrKtm3boNPp4PV6ExYr9Hg8iqJ42RYnjF1q8JFHHsnodVu3bpU633fu3FE8Jr+9Zs2arNqTyKVLlxS3u7u7894mERER0XxjQEBERFnR6/WwWCxSgb4jR44oAoITJ07kVZwwVr6vB5Rn7Tdt2pT39uSBw8jICEcFEBER0aLAKQZERJQ1+Rz+2GKFr7/+unQ92+KES4HRaMz6NR0dHVCpVDldamtrC/BbEBER0WLEgICIiLLW0NCg6OhGaw7Y7XapeF8uxQkTiV2RIBcGg0G6/vHHH+e9Pbmurq6sVhW4cOFC1u9x8eLFnNsnX9qRiIiIKBVOMSAiopzs3btXWqnAZrPhlVdewdtvvy09nktxQgBYu3at4vbvfve7jKYZnD17Vrr++OOPKx6rr6+Xgou7d+/m1C45eb2Ds2fPorW1Ne9tpiIvDJmtFStWzGJLiIiIaDFjQEBERDnZuXMnDhw4AEA8S33s2DHF6gPZFieM0uv1MBgMUof+N7/5TdqRCG63W1EH4IknnlA8/vjjj0uPDw4O4tChQym3995776V8fN26ddL18+fPp3zubLBYLBmtvkBERESUD04xICKinOj1elitVul2W1ubdD3f4oRms1m63tvbq6hxkEh7e7t0PdHUBnlg4HK5FKssxGppaZEKMCazceNG6HQ6AGI4Il/WkYiIiGihYkBAREQ5e/rppxPen29xwp/85CdSBxwAtmzZkrBT73a7YbFYFCMX3nrrrbjnbd++XVGHoKWlBUNDQ3Hbam5uThsOAGI48uKLL0q3Dxw4kDYkcLvd6O/vh8fjSbt9IiIiovmgEgRBmO9GEBFRcWlubpaG5Hd1daWcYy+f3w+IZ/DHxsZSbl+lUknXk30N2Ww27Nq1S3GfTqfDhg0bAABjY2OK9wUAq9WKnp6ehNuz2+3YvHmz4j6DwYD6+np4PB6pnkJ0O9GgwGQyYXh4OOE2GxsbFa8zGAx48sknsWbNGum+S5cuweFwSG09d+4cmpqaEm6v2FgsFsWSjgDi9pXJZFI8vmLFipQjNIiIiKh4sQYBERHlZd++fYrpBbkWJ4xlsVhQU1OD5557TqrE7/V6FbUGonQ6HQ4fPqxYfjFWU1MTBgYG0NLSIm3P5XIpQgadToeenh5YLJaMRhIMDw/jzTffRGdnp7S9dK+rrq5Ou91iIR+ZkUyiz+Pv/u7vFkwIQkRERDM4xYCIiOLI6wesXr065XN37twpTQcwGAzYs2dP2u3Ln5/K9u3bce3aNfT19cFkMimmHeh0OphMJvT19eHatWspw4Eoi8UCh8MBq9WqeG+DwYD29nY4HA6pGGD08VSrAOj1ehw6dAgulwvt7e1xZ9MB8Qy72WxGX18fXC4XGhoa0razWMj3dzaviV2JgoiIiBYGTjEgIiIiIiIiIo4gICIiIiIiIiIGBEREREREREQEBgREREREREREBAYERERERERERAQGBEREREREREQEBgREREREREREBAYERERERERERPT/t2MHAgAAAACC9qdepDBKEAAAAAAJAgAAACBBAAAAACQIAAAAgAQBAAAAkCAAAAAAEgQAAABAggAAAABIEAAAAAAJAgAAACBBAAAAACQIAAAAgAQBAAAAkCAAAAAAEgQAAABAggAAAABIEAAAAAAJAgAAACBBAAAAACQIAAAAgAQBAAAAkCAAAAAAEgQAAABAggAAAABIEAAAAAAJAgAAACBBAAAAACQIAAAAgAQBAAAAkCAAAAAAEgQAAABAggAAAABIEAAAAAAJAgAAACBBAAAAAFQD6aCeQnLm5YYAAAAASUVORK5CYII=)"
      ],
      "metadata": {
        "id": "hH8xUBNvBfwy"
      }
    },
    {
      "cell_type": "markdown",
      "source": [
        "####**Advantages and disadvantages**\n",
        "\n",
        "It should be noted that there is no such thing as a 'best average'. It is completely dependent on which is best for your data.\n",
        "\n",
        "Each method has different advantages and disadvantages that you can consider:\n",
        "\n",
        "![image.png](data:image/png;base64,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)"
      ],
      "metadata": {
        "id": "hPMayCoqCA2T"
      }
    },
    {
      "cell_type": "markdown",
      "source": [
        "We can use `mean()`, `median()` and `mode()` to calculate these values for specific fields."
      ],
      "metadata": {
        "id": "2teWf4nqCaTY"
      }
    },
    {
      "cell_type": "code",
      "source": [
        "#Mean tip\n",
        "tips['tip'].mean()"
      ],
      "metadata": {
        "colab": {
          "base_uri": "https://localhost:8080/"
        },
        "id": "4b1ausBPLx_y",
        "outputId": "8ea45af9-a6a5-48bb-d85f-19ec670eac03"
      },
      "execution_count": null,
      "outputs": [
        {
          "output_type": "execute_result",
          "data": {
            "text/plain": [
              "2.99827868852459"
            ]
          },
          "metadata": {},
          "execution_count": 13
        }
      ]
    },
    {
      "cell_type": "code",
      "source": [
        "#Mode party size\n",
        "tips['size'].mode()"
      ],
      "metadata": {
        "colab": {
          "base_uri": "https://localhost:8080/"
        },
        "id": "8yX5Ly5ae8F-",
        "outputId": "c447a1c1-e664-4c3e-de56-1396f4b8b307"
      },
      "execution_count": null,
      "outputs": [
        {
          "output_type": "execute_result",
          "data": {
            "text/plain": [
              "0    2\n",
              "dtype: int64"
            ]
          },
          "metadata": {},
          "execution_count": 36
        }
      ]
    },
    {
      "cell_type": "code",
      "source": [
        "#Maximum party size\n",
        "tips['size'].max()"
      ],
      "metadata": {
        "colab": {
          "base_uri": "https://localhost:8080/"
        },
        "id": "Hh_7NMv_Llcl",
        "outputId": "5fe88fc1-c388-408d-c1c9-d565cc25c92e"
      },
      "execution_count": null,
      "outputs": [
        {
          "output_type": "execute_result",
          "data": {
            "text/plain": [
              "6"
            ]
          },
          "metadata": {},
          "execution_count": 37
        }
      ]
    },
    {
      "cell_type": "markdown",
      "source": [
        "We can even use this method to calculate the mean of a smaller subset of the data."
      ],
      "metadata": {
        "id": "kjmpM-AlCmsQ"
      }
    },
    {
      "cell_type": "code",
      "source": [
        "#Mean tip amount for parties of 4+\n",
        "tips[tips['size']>=4]['tip'].mean()"
      ],
      "metadata": {
        "colab": {
          "base_uri": "https://localhost:8080/"
        },
        "id": "DD8-WhOGMgxI",
        "outputId": "4f0cc864-89a4-45a3-86b0-9510cdd62382"
      },
      "execution_count": null,
      "outputs": [
        {
          "output_type": "execute_result",
          "data": {
            "text/plain": [
              "4.218478260869565"
            ]
          },
          "metadata": {},
          "execution_count": 16
        }
      ]
    },
    {
      "cell_type": "markdown",
      "source": [
        "###Standard deviation\n",
        "\n",
        "*   Standard deviation is an important measure of the spread of the data from the mean.\n",
        "*   A low standard deviation means that most of the numbers within the dataset are close to the average. \n",
        "*   A high standard deviation means that the numbers in the dataset are more spread out.\n",
        "*   Variance is the square of the standard deviation.\n",
        "\n",
        "\n",
        "\n",
        "\n",
        "\n"
      ],
      "metadata": {
        "id": "pkLpnu-sCvud"
      }
    },
    {
      "cell_type": "markdown",
      "source": [
        "The standard deviation can be calculated as so:\n",
        "\n",
        "![image.png](data:image/png;base64,iVBORw0KGgoAAAANSUhEUgAABI4AAAIACAYAAADkAScLAAAgAElEQVR4nOzdf3ib9X3v/5dH+NUmjWQD5VDaGssZY7BagJJ0NOmcnBG5Sa/OOQdmBbiKc+BLYrPTOOtmt0lZ8Fhc5K6N6XU1SnLKYnqdEruBxd1pjJVcB2fE60gsiNyW8mWxHENDRkkUKRCgEPjq+8fd+7ZkSYls64d/PB/X5cuydP9467Z+3W+9P+9PUSwWiwkAAAAAAAAY5Q8KHQAAAAAAAAAmJxJHAAAAAAAASInEEQAAAAAAAFIicQQAAAAAAICUSBwBAAAAAAAgJRJHAAAAAAAASInEEQAAAAAAAFIicQQAAAAAAICUSBwBAAAAAAAgJRJHAAAAAAAASInEEQAAAAAAAFIicQQAAAAAAICUSBwBAAAAAAAgJRJHAAAAAAAASInEEQAAAAAAAFIicQQAAAAAAICUSBwBAAAAAAAgJRJHAAAAAAAASInEEQAAAAAAAFIicQQAAAAAAICUSBwBAAAAAAAgJRJHAAAAAAAASInEEQAAAAAAAFIicQQAAAAAAICUSBwBAAAAAAAgJRJHAAAAAAAASInEEQAAAAAAAFIicQQAAAAAAICUSBwBAAAAAAAgJRJHAAAAAAAASInEEQAAAAAAAFIicQQAAAAAAICUSBwBAAAAAAAgJRJHAHJqYGBARUVF8ng8hQ4FAAAAADBGJI6AaaS4uFhFRUWqqqoqdCiWt99+W5IUjUYLHAkAAAAAYKxIHMUpLi5WcXFxTvfh8XhUVFSkgYGBnO4HM093d7cikYgkye/38xgDAAAAAExYXhNH3d3dqqqqUlFRkYqKilReXq7W1laFw+F8hpFWJBKxTrxzxay6MKswgGz52c9+JknasGGDJOknP/lJIcMBAAAAAEwDeUsctba2asWKFfL7/XK5XHK73Tp9+rSampr04IMP5isMYFoKh8Py+XxyuVy67777JEmdnZ0FjgoAAAAAMNXlJXEUDofV1NQkSQoGg+rv71dPT49Onz6tbdu25SMEYFrbv3+/JOn+++9XWVmZXC6XQqGQuru7M1q/tbVVRUVFam1tPe/tHR0d1nUdHR0TqiA01001pM7cX19fX9Jt6SoXAQAAAADZl5fE0csvvyxJcrvdqqioSLhtzZo1CSejAMbuu9/9riTp9ttvlyR9/etflzQyfO1C3G63JGnHjh0pb3/00UclSQsWLJBk9OpatWqVwuGwvF6vvF6vJKmpqUl33333mGIfy7DNjRs3asWKFRocHNSGDRvk9Xplt9vV1NQ0qRqCAwAAAMB0kdceR4cPHz5vNUJfX995Z4Qyb6+vr5c0Ms13a2urhoaGrMbT5tTfZiXDwMBAwm319fUXrIpobW1VeXl5RhUNfX19CdsvLi6Wx+NJWS0BZNvQ0JACgYBcLpfKysokjSSQfD5fRhVAFRUVcjgcCoVCSRVAZtPtmpoaa/uhUEh79+5Vf3+/Ghsb1djYqEOHDsnhcMjv92toaCjL99J4nrW0tMjlcunQoUPavHmzGhsb1d/fr5qaGvn9fpLQAAAAAJBleUkcLVq0SA6HQ5FIRFVVVWlPKhctWiS73Z72xPPJJ5+UJH3xi1+UNFKp8OKLL8rlcqmzs1Nut1t2u12dnZ1asmSJtm/fLqfTqX379lm3+Xy+81YnzJ8/X01NTbLb7XK73QqFQmpqapLH40laduPGjVq8eLE6Ozut3k3FxcXq7OzU4sWLOZFFzj311FOSRqqMJKmkpEQ1NTWSRoaxXcgDDzwgKbmptlm1VF1dbV3X39+v5cuXJyxXUlKi8vJySdKJEyfGchcyYj7/m5ubVVJSknDbX/3VX0mSurq6sr5fAAAAAJjJ8lZx9PTTT8tutysQCMjhcKi+vj5lRY6ZnDFPhk1m81+73Z6UwOns7LSqJXp6enT06FErUbV27VrV1NTo6NGj6unpUSAQsOJIN115KBTSwYMHrV5MwWDQSkbFx2xWQNjt9oTlBwcHrd5NmVQ3ARNhDi8zq4xMZqKnvb09o+3ccccdkowqpXgdHR2y2+1J25eM50Bra6v1Mzg4OOb4M9Xf3y/JSGTF77O1tdVKKpmzFgIAAAAAsmNWvnZUUVGho0eP6qGHHpLP57N+3G63fvzjH1sVBGvWrJHP59OOHTvU2NhorW9WTaSq+nE4HOrp6bG2UVJSogceeEBNTU2qqalJqPopKyuTx+ORz+fT888/n9RzSZICgYA1JMeM3VznmWee0aJFiySNVEB84xvfsK4zrVmzRj/84Q8VCAS0f//+lHEDE9XX16dQKCSHw6HHH3884bYzZ85IklXBF/+YTqWsrExut1t+v1/d3d1avny5NUytrq4uocqnu7tbX/va1xQKhbJ/p9IIBAKSkhNb8Ww2W77CAQAAAIAZIa89jkpKSrR161adOnXKamrr9/tVVVVlVeVUVFRYM0LFVwSZQ1DuuuuupO2Wl5cnDV257bbbJEm33HJL0vKlpaWSRk6sR0t1gm0Oj3vhhRes6/bt2ydppLHwaHfeeack6bXXXkt5OzBRZvLSHE4Z/9PS0mItN7qCL53a2lpJI8PTzN/xz7uhoSHdc889On36tHbt2qVTp04pFospFoulfS5kg8vlkiQdPHjQ2t/oH4aGAgAAAEB25TVxZCopKVFjY6N6e3utYWPxJ7b333+/JGn79u2SjGFq5nC00ZU9+XLttdcmXWdWW6SqWgLywUyUxCdv4n/27t0rKf1saaOZw9E6OjoUDofV0dGR9Lzbv3+/VYXk8XiSkrZj9dZbbyVd9+KLLyZd53A40i4PAAAAAMiNgiSOTBUVFfrGN74hSert7bWuN3utmCfF5jA1s3lvIRw/fjzpOrvdLklpeyUBudTR0WHNdpYuebN8+XLZ7faUs6WlUlJSorq6OkUiEd19993W9uPNnTtXUmL1nWQ8Dw4fPpxx/Lfeeqsk6fvf/75VcRgOh1VfX6/Ozs6k5c2eTZs2bUrZN6yvry8ns7kBAAAAwExW0MSRNDJczKwmkEZmhIpEIuru7raa+5oJpVxLdVL63HPPSZKWLl1qXbds2TJJ0ssvv5xyO7t375Yk3XTTTdkOEbCGb8bPdpaK2V/LrOC7kC9/+cuSjN5IknTfffcl3H777bcnDDNtbW1VfX29nE7nmOK/7777rO0sXLhQVVVVmjdvnnw+nzUsbfT9qKurUyAQ0Lx587Rx40a1trZq48aNKi8v1+LFi3MymxsAAAAAzGR5SRx5PB7V19cnVQP09fVZjW6/9KUvJdz21a9+VZJRXeD3++VyuS7Y3DdbFi5cmFCdER9nfPLKPGGvr69PqubYuHGjNYPc6GnLgWzo7OxMO9tZvDVr1khSxv1/li9fbiVy3W530vOupKREvb29qqmpkd/vV1NTk/r7++X1evXtb387aXtz5syRlNy4uqysTL29vXK73QqFQvL7/Vq2bJmCwaA1XHW0rVu3ateuXVqwYIFaWlrU1NRkJZr27t1bsKGsAAAAADBd5WVWteLiYmsWNZfLpZKSEoXDYWuWpLq6uqQTPnOIjbnM17/+9XyEap0wO51Oq+rBjGHDhg0JJ9Eej0fPPfecfD6ftXxJSYkOHz6sSCQiu92up59+Oi9xY+aJxWIZLVdRUZHxsqbBwcELbrOjoyNlMspMVGWy/4qKCvX09KS8fvR2TB6Ph1kKAQAAACBP8lJxZFYJuN1uBQIB+f1+BQIB1dTUaO/evdq6dWvK9cz+R5JSVlWkq2S4ELNHi/nbZLfb5XK5dOjQIdXV1SkUCikQCMjlcmnXrl3avHlz2vvmcrms+1ZcXGwNqRndONuM1YwdAAAAAABgsiqKjbUUIY86Ojq0atUq1dXVpU0uAQAAAAAAIDcK3hz7fL773e9Kku66664CRwIAAAAAADDzTNqKo76+Pi1evFgOh+OC/VYAAAAAAACQfZO24uiZZ56RJD3wwAMFjgQAAAAAAGBmmrQVRwAAAAAAACisSVtxBAAAAAAAgMIicQQAQBZs3LhRxcXFKioqUnl5uYaGhsa9LY/Ho6KiIg0MDGQxQgAAAGDsSBwBAJIMDQ1ZSZDi4uKMEhjhcFjl5eUqKipSUVHRhBInU01ra6taWlrkcDjk9Xq1bNkyvf322+PeXjQalaQJbQMAAADIBhJHAIAkJ06cUCQSkSRFIhF9+9vfvuA6jz/+uEKhUMI2Zordu3dLkjo7O9XY2KitW7eqoqIi7fIDAwMqKiqSx+PJV4gAAADAuJA4AgCk5Xa75XA41NnZecEKokcffVQOh0NutztP0U0egUBAklRWVpbR8mYlkVlZBAAAAExWJI4AAOf1wAMPSJKeeuqptMt0dHQoEolYywIAAACYHkgcATNcOBxWX1+fwuHwmNYrLi5WcXHxmNbp6+srWN8bmg2P3x133CFJ2rFjR9plvvvd7yYsm87AwIA8Hk9C/6T6+vqUj79wOKzW1lbNnz/f6ps0f/58dXR0JC27fft2FRUVqa+vT319faqqqrLW8Xg8Y37c9fX1WY8ZM06Px6O+vr6E5cz9mOL3mU5RUZEWL14sSfL7/dY6VVVVKZfv7u62jkFxcbE2btyY9vk6luMLAAAAZGJWoQMAUFgPPvigOjs7VVNTk/KEPB2z/02mtm/frrVr18put+v06dNjDXPCaDY8fmVlZXK73fL7/eru7tby5csTbh8YGFAgEFBNTc15h2p1d3drxYoVstvt8ng8Ki0t1Ysvviifz6eOjg4dPXpUJSUlkoyk0cKFCxUKhVRTU6M777xTZ86ckc/n06pVq/Taa6+psbHR2vaZM2ckSU8++aR8Pp/sdrvcbrcOHz6szs5OBQIBHTp0yNr++WzcuFEtLS2SJJfLpZKSEg0ODqqzs1OdnZ3atWuXlRiqra3V0qVL1dTUJEnyer2SpJtuuint9r1er4aHh+Xz+eRwOKwqrc985jNJy65fv16BQMAaAuj3+9XS0qJQKJT0fB3L8QUAAAAyFsOEnTp1Knbw4MHYqVOnCh0KMGYbNmyISYpt2LAh4fpt27bFJMW2bduWcj1JsbG8hOzduzcmKeZyuSYUbzrBYDAmKVZTU5PydrfbHZMUO3jwYE72P90cPHgwJinmdrtjsVgstmvXrrTHt66uLuHYpjrWp06ditnt9pjdbo8Fg8GE9c3HWl1dnXVdKBSKuVyupGXN/7PD4Ui43uv1Wo/Juro66/X41KlTMYfDEZMU27VrV8b32263Jz1WzDjtdnvS6/1Ynw+jj+9o5jEc/Rw077+kWCgUsq4f6/EFAAAAMsVQtSx48MEHtXjxYj344IOFDgUYs82bNysWi2nz5s0J15sVHObviVq+fLlisZj6+/uzsr3RaDacWx6PR3a7PalJdjgctipnFi1alHb9/fv3KxKJqK6uLmm2sTVr1khSQgVNWVmZ+vv7k5Y1/46fvS1eTU2Ntm7dalXWlJSU6G//9m8lSa+99toF7+eTTz4pSfrGN76RdH/WrFkjl8ulSCSi/fv3X3Bb2bBt2zbr+EjG/a+pqZGUOGvdWI8vAAAAkCmGqmWBw+FI+A0A01FdXZ1aWlr01FNPWcPEHn/8cUmykjPp/PKXv5QkvfDCC2ptbU25TKrhj+FwWIcOHdKvfvWrjGK85ZZbkq678cYbJUnDw8MXXH/fvn2SlHZmuDvvvFOBQCCjJFQ2mLHHu+WWW9TZ2anjx49b1433+AIAAAAXQsVRFqSr2AByyWzKm6rZs9kYN1VDYPM2k9lUePv27ZKMpsBFRUVWz5ampiareW+6E9LW1laVl5erqKhI5eXl1rbiDQwMpGwabDYgloyKCHM7F2oCHI9mw/lx3333SZIeffRR67odO3bIbrdfsCn2Cy+8IMn4/zQ1NSX9SJLdbk9Yp7W1VfPmzdOKFSuSlh2PTBpkm5VMo6t2JqP45NV4ji8AAACQCRJHwBR16623SjJOFOP19fVZlQWHDx9OuG1gYECRSMQa6iIlD0m75ppr5PV6rYoLt9str9crr9er2267LSmO+fPnq6mpSXa7XS6XS6FQSGvXrk1KHqUbSmb+XV9fr1WrVln7jEQiamlpyWgIqNfrVV1dnSSj8s+Mt7a2NmnZ9evXa8WKFYpEIhfcT3d3t5xOp/bt2yePxyOv16tly5bJ5/Np3rx5My55ZDbJjkQi6ujoUEdHh0KhkDwezwWbLpuPV6/Xq1gslvInvml6d3e3mpqa5HA4tHfv3oTlcslMrky12ffGenwBAACATOUtcRRfVbB9+/aE6oT4KobRlQvd3d1pt5lqmuZ0y5tTK4+uGkhXkVFVVWVNBW2uk66SYnTFxni3IxnDMurr661lR/+kq/jAzPOXf/mXkqTdu3cnXP/zn//cutzV1ZVw209+8hNJUnV1ddrtlpWVqbGxUUuXLpUkLV26VI2NjWpsbEzZwyYUCungwYPq7+9Xf3+/tm3bJkn6zne+M6b74/P5tG3bNg0ODqqnp0fBYFCSknrqpNLY2Ki77rpLklReXm7Fm2pK9EAgkNF+wuGw7rnnHtntdvX29mrr1q1qbGxUR0eHtm3bpkgkooceemhM93E6MJNx7e3tam9vl6SEHjzpmDOGZdoz60c/+pEkqbm5OWkWt1xatmyZJOnll19Oebv5fDvfrGmFMNbjCwAAAGQqb4mj+KqCtWvXSpJVndDU1KSNGzemrFxYsWJFymSQuaxkfMO6YcMGRSIRrVixIim5sn37di1evFiBQEB1dXXyer1asGCBfD6fXC5XUtVAJBJROBxWVVWV9Y33+Sop0jURHut2wuGw5s2bJ5/PZ1U3mFUfdrs9bcUHZqaKigrZ7XYFAoGEx/Du3bvlcDjkcDisfi0m8+8FCxZkLY7e3t6EhNKaNWtkt9vTNi9OJ9MmwBNFs+GJMZtk+/1++f1+uVyujIZ13X777ZKMBGGqap6hoSH19fVZfxcXF0tSUm+jXB9zM6laX1+fFOfGjRsVCATkcDgmnMyaM2eOJGlwcHBC2zGN9fgCAAAAmcr7ULX4qoL46oSWlhaFQiHt3bvXqlzYsGGDpJFvnk2tra1WEqi/v1+NjY3avHmzDh06JIfDoaampoTKgYGBAXm9Xg0ODmrz5s1qbGxUT0+Pampq0s6OEwgEslJJMZbtPPXUU4pEIvJ6vVZ1Q09PjzU0xO12n3fWIsw8ZkWN+RgOh8MKBAKqqamxHt9m4nVoaEiBQEAul0tlZWVZiyFV0sBMTGXSU8aUrgmwpIQmwBOV6X5GNxse/SPN3GbD5rBASfr617+e0TplZWXatWuXIpGInE6n6uvrrWM5f/58ORyOhGo5s4KsqanJWraqqkqrVq3Kaa8ej8ejuro6K8758+erqqpKxcXFamlpkd1u19NPPz3h/VRUVMjhcCgUCqm8vFxVVVVpe3JlYqzHFwAAAMhU3hNHo7/tj7/c29ub8C2u2Yh1dNXEjh07JEmPPPJIwvUlJSV64IEHJCkhGWQmYUYzTxbTzY6TrUqKTLezZ88eSUpqMmsOGXr++efHtF9Mf1/+8pcljQxJO3TokCTpC1/4gr7whS9Ikv7t3/5N0ki/o/vvvz9v8WWrUihfM1jRbHiEWRFjs9mSbjNfm+12e8rhgOY65jZMHo9HBw8eVE1NjTo6OqxjWVJSom3btiW8Ti9atEh79+6Vy+WSz+ezjvnevXut4WTx5s6dm/A7lVT3JZWtW7dq165dcrlcCgQC8vv9Ki4uVl1dnQKBQMpkqd1uH/Pj4emnn7aqUA8fPmy91sfHOvoYxht9X8dyfAEAAIBMzcr3DlN92+92u+X3+5M+jJtVEfHf6ofDYSvhYk4DHe/ZZ5+VlLrPw8DAgJ5//nnrNnPZdNJVUvj9fg0NDWVctZGt7QCjLV++XHa73Uqu/uxnP5MkLVy4UCUlJbLb7ers7NTmzZut5JI5pAXnd+utt8rv98vr9c7IE+6Kioq0jajLysrO26TabJydyqJFizKunFy+fHnKIWHLly9P2v6aNWvS9lpatGjRmJtqezyelEmxdMbTeLqiokL9/f0pbzvfMTR7eKUyluMLAAAAZCLviaOJim9Yer5pmeO/iR0YGFBTU1PS7FMTceLEiawkfOK3s3TpUvn9fu3fvz/hBMhMcH3+85+f8P4w/Xg8Hvl8PnV3d2vfvn1yu93WDFfLli2zmj53dnZmfZjadEazYQAAAAAowFC1ibrhhhusy+mmHI7FYgmJl/vvv9+qHAiFQtYyXq+3EHchLXOI2tq1axN6evj9/pQNegFJ+uIXvyjJ6AUWCoUShrvEN/qVpDvvvDPj7ZrJ1+Hh4WyFmlM0GwYAAACA7JtyFUfm8BtzxjKzsiKdgYEBqyHwZB9uUl9fb/UM6ejoUCQSkcPhmLFDZZAZM8HR2dkpSdZMfNJIk2qz2i7+tky36/P5rOE0d95556R9LI5uNlxeXi5J6unpGdf2zGbDq1atktPpVF1dnUpLSyUZM9cFAgF5vV6GBQEAAACY1qZcxZE0MpPUQw89lPL2+L4QZhVCKBRKmLI8HA5r9+7dOYxy7A4fPqzi4mI98sgjOn36tGKxmAYHByftiTomh5KSEms6ebvdnlCZVlZWZiWL0k2bnq6psJk4cTgcCgQCikQiuummm6zbM2kGHN/YN12z5fE0AU6HZsMAAAAAkF1FsbF2DB0nc8jVwYMHk76hN29LFUpRUZEkJdwWDodVVVWlQCAgh8NhzaQ2PDxsVerEL29u31z2zJkz8vl8kozG26MrelLt83z3o7W1VU1NTRPeTnd3t1asWJG0rMvl0vz587VmzRqGqwEAAAAAgLzJ21C1TL7tTyVVRUNJSYl6enr0+OOPa/fu3VaTbIfDIY/HkzSzzo9//GM99NBDVsWAudxdd92lxYsXZ7TP0eLvR7qKjbFux5wRq6amRrfccot1/bPPPiufz6eOjg4FAgGaGwMAAAAAgLzIW8URzm9gYEBOp1NutztlT5aNGzeqpaWFfkcAAAAAACBvpmSPo+no7bffliTdeuutKW8PhUKSRqYIBwAAAAAAyDUqjiaJcDisefPmKRKJyOVyWdOmnzlzRp2dnQqFQnK5XNbsVgAAAAAAALlG4mgSGRoa0j/+4z9q3759VoWRZEyhvnLlyqTeTQAAAAAAALlE4ggAAAAAAAAp0eMIAAAAAAAAKZE4AgBMax6PR0VFRRoYGMjZPgYGBnK6fQAAAKBQSBwBAKa1aDQqaWT2ymwbGBiQ0+mU0+kkeQQAAIBph8QRAAAXsH37dhUVFWn79u1Jt82ZM0d2u112u11z5swpQHQAAABA7swqdAAAAEx2Z86cSfgdr6ysTKdPn853SAAAAEBeUHEEAAAAAACAlEgcAZgUiouLVVxcnNN99PX1aWhoKKf7mC7MoVlm02ezwXRRUZGqqqrU19eXcr1wOKzW1laVl5dby8+fP1+tra0Kh8NJyxcXF8vj8UhSwnrFxcUp12ltbU07ZKyvr09FRUVqbW3N6D4ODQ2pvr4+IVaPx5Nw38xtNjU1SZKampqsZeP3c77Hb0dHh+bPn2+tV15ervr6+pSPRfM4m+vFH4+NGzemPIYAAABALjFUDcCkEIlEcrr97du3a+3atbLb7QwryoA5JGv79u3y+Xyy2+1yu90aHByU3++X3+9XMBhURUWFtc7Q0JBcLpcikYi1vCT5/X4FAgHt3r1bPT09KikpsdaJRCIKhUKaP3++AoGAXC6X3G63/H6/mpqa9OKLL6qjoyNtfOPV19enr3zlK5KMZE1paamGh4fl8/nU2dmpgwcPatGiRbrmmmvk9Xr17LPPyu/3y+12a+nSpZKk2267LeF+pGLeL0nW8Th8+LB8Pp86OjrU29ubcAzNRt719fXy+XxyOBzW8WhpaVEoFEp5PAAAAIBcyXvFkfnt7kw1MDCQ8M3z6G/GzduYmQcYu/NNu/7pT39akuRwOPId1pTm8/lUV1eno0ePqqenR4ODg6qrq5MkqwrHVF9fr0gkkrB8T0+PQqGQXC6XAoGAHn/88aR9BAIBhUIhHTx4UP39/erp6VEwGJTdbldnZ2fa6qaJOH78uJYtW6ajR49q69atamxs1NatW7Vt2zZJ0pNPPinJ6F/U2NhoJYuWLl2qxsZGNTY2atGiRefdR2trq5UMC4VC1vE4evSo6urqFIlEko6hyefzadu2bRocHLSOhyR1dnZSNQcAAIC8ymviqLu7Wz6fT//wD/+Qz91OGuFwWEuWLFEgENCGDRvk9XqTvjU3v5nO1bTRwHR2vmnXly9frlgspv7+/nyHNaXV1dVp69atCVVCjzzyiCSjksgcOjU0NCS/3y+73a5HHnkkYfmysjI1NzdLknbs2JFyP4FAICERU1FRYSWonnnmmezeKRlJxo6OjoQ4JenGG2+UpKwkZ8z7umXLFpWVlVnXl5SUJBzDVPvatm2b1qxZY/1dUVGhmpoaSdKJEycmHBsAAACQqbwNVQuHw7rnnnvkcDisfhYzzaFDh6xv4zdv3nzeZa+55po8RQUA6ZWWliZdV1JSIofDoVAopJdfflmLFi3S4cOHJUnLli1LSsZIRuJOkkKhUMr9xCdWTH/yJ38iSXrhhRfGHf+FDA0N6fDhw3rttdckScPDw1nbbigUkt1uT1mZVFJSYg1BO3HiRNL9NxNY8W655RZ1dnbq+PHjWYkRAAAAyETeKo4eeughRSIRPfDAA/na5aTzq1/9SlLqEzFJVt8Kr9eb8iQKGM3j8VgNebu7uxOGQaZrviuNNAUuLi5OaHicqnfKwMCA1Yw4HA4nrFdeXp5ynaqqqrRDxszmxpkOP+rr67Pup9kkePR9M7fp9/slSYsXL7bul7kf836kSlyPp6FzVVWVtV788UjVtHk6Gj3k2Ey83HLLLVnbx7XXXpu1bY1mPpYdDodWrVqlpqYmNTU1yefzZWX7ZlXQggULsrK9eOaxBgAAAPIhbxVH9GS4sG9961tyuVxqbGwsdCnMGlsAACAASURBVCiYIqLRqCKRSFIjXbP57r59+3To0KGECpDu7m6tWLFCktHvZ8GCBQqHw1bD4+eee05bt261ljeHffX29uqb3/ymIpGI3G63wuGwAoGAVq1apTNnziQMqxm97niZDa0dDofq6uo0d+5cPfvss1Zj4aNHj6qkpES33XabvF6vduzYoVAopLq6OitBa1bvmbGYw9lM423oHA6HVVVVZfWwkYzhVmvXrpWklMdjOhkcHEz4e+7cuZKkF198MWv7yGVlzfe+9z35fD7V1NTom9/8ptWguq+vT4sXL57w9ufMmSNJViUWAAAAMFXlreLIZrNJSpyFRkqukigvL09qGG1WGaRiVjbEMysLWltbNTQ0lDCNtMfjsaogRk8xXV9fP+apjjOZZvl80zmbsXR0dOj06dP64Q9/OKb9A1JyI92jR49aDXnjmxGbQ0YlJSzf39+vgwcPym63y+fzpawG6uzstIYnmevs2rVLkvTNb34zJ9OEDwwMyOv1anBwUJs3b1ZjY6N6enpUU1OjSCSi/fv3S5IWLVqkxsZGqwrmrrvushoYX6h6L1sNnfv7+63Gyt/5zneyfCQKJ9XsZeYwLEnWMKzPf/7zkkb6tI3W3d0tSVaSbbRUj5/nnntOkqzG1BeK66WXXkq57VTMyqIf/OAHCbOaZUtFRYXsdrsikUjKL07MZK0k3XDDDVnfPwAAAJAteUscdXR0KBaLJfR6MCsfIpGIvF6vvF6vXC5Xym+sxzJVt1lZ8OKLL8rlcqmzs1Nut9uaoWfJkiXavn27nE6n9u3bZ93m8/lUVVWV8X7mz5+vVatWKRAIyO12y+126/Tp0/L5fHK5XFZSyJzO2axkcLvd1v01h2J4PB6dPn06JycwmP527dqVUOFSUlJiNSPevXu3df3+/futiqHRFTGLFi2ymhGbM0rFczgc6u/vT0jEeDweq1rn0KFDWb1PkqzZrkYzh0NNdMjORBs69/b2JrymrVmzRna7PW0fn6mopaVFGzdutP4Oh8PasGGDJFmPF8lIlJiJxfr6+oRtDAwM6Gtf+5ok6etf/3rK/SxcuDBhaGNfX5+V3Lnjjjus62+66SZJRuInPiFjVqdlyvwy4uWXX064PtVjXxqpqBpLDyRzWGRNTU1CYiwcDuvuu++WZBzDVD2hAAAAgMkib0PVUvn+978vSdq3b19Oevp0dnZaiaOysjKFw2EtXLhQoVBIa9euVU1NjX7wgx+opKTEGq4SCAQ0MDBwwQRO/DTL5vYl44TgoYceks/nU1NTk3p6eqzpnCVj+Is5nfOEvdEuXV078e1gykvVC+aP/uiPJCVWgJgVHCtXrky5nS996UtqaWlJWSExuqeNaf78+QoEAvrVr35lNUDOtoGBAT3//PNWlcmzzz6ble1OtKFzqteJBQsWWDNlTYdeZS6XSy0tLfL5fFqwYIEOHz5sDev7m7/5m4Rln376aS1ZssQaSmgOgzQfg3V1dWknR7Db7XI6nQnD/iRpw4YNCcdx+fLl1mu1y+XSggULNDg4mFAhlokHHnhATU1N+spXvmINg9yxY4dOnz6dcvnbb79dkpGwMmfmu/POO8/7Wv7II4+ov79fgUBAV1xxRcIwSMk4tubsagAAAMBklbeKo/PJ1dTCDofDStxIRhWG2Zy7pqYmYSrmsrIy64Tm+eefv+C2JzLNcla80S69sloaWJKb7WPKS5W0MB+PqWZsGq90zd6zYWBgQFVVVXI6nVq7dq3VwNg88Z6oXDR0Nk2XKdPvvPNO7d27Vw6HwzrudXV1CgQCSY+xiooKBQIBqxLJ7BPldru1a9euhN5Zo/X09Kiurk6hUMhKCu3atSvlDJTmspFIxKoY27t3b9qhvuZQabPvkCQ1NjbK6/WquLhYLS0tevTRR+VyudTb2yu73Z60jbKyMu3atUsOh0OBQECRSMSqfpKMxNfo9UpKStTT0yOv12sdP7/fL5fLJa/Xm9Q7K12so5nVTwAAAEA+FLTi6Gtf+5r8fr8WL16suro6rVmzJqtDtcrLy5M+lJs9llKdKJonwKl6Z8Sb6DTLWXFFtfRqsxQ9YCSPKnqzvw9MaamSluZJ6UsvvZTysTse2Zq+PJX7779fgUBAXq9Xd9xxh/Vcam1ttXqGTUQuGjpPR8uXL8+4mqysrExbt249b5IolZKSkozXO9+ysVgs6bqOjo6Us/+ZfbBGS1d15PF40lZMpVunpKQk7X5SSRfr+eIFAAAAcqmgFUfLly/XwYMH5XK55PP55HQ6VVVVlXIK78kkl9MsZ2yWzUgWzbIZyaNXVhcuFhTcW2+9lXSdOQzLHB4jSUuWGBVq6Z5jzzzzjCTp1ltvTbotXfPrffv2SUpufJ8urkyTNAMDA1blSSZNrsdjog2dAQAAAGC6K/hQtUWLFqm/v1/BYFB1dXXy+/1asmRJ7oZ4ZcGkmWb5stKRSqM32qXhhwsbDwrmnnvuSahSGBoa0re+9S1JUm3tSB+s+D4to6sauru71dLSIkm67777kvYRCARUVVWVkEBqbW1VKBSSw+FIqGAyE0/f//73reXD4bDq6+vV2dmZ0X0yn2ehUCipsXB8w+94ZkVVptO4T7ShMwAAAABMdwVPHJkqKiq0detWq2+FOc12vNEVD+FwWIODg/kK0TKpplme7RxJHr3abCSQMOM4HA6tWrVK5eXlqqqqspIhLpcrYWiN2adFUsLy5eXlWrFihSRjhrZU1T0Oh0OHDx/WFVdcYa1jDhczG92b7rvvPtntdvn9fi1cuFBVVVWaN2+eNeNgJsrKyuR2uxWJRLRw4UK1trZq48aNmjdvXtpm1dXV1dZ9M2Ps6+s7736efvppa1bF4uJiVVVVaf78+XI6nQqFQudt6DydmcP4ct1PJ1VvIAAAAACTx6RJHI326U9/2rpsnmh+73vfs64bGhpSVVVVwaa9nlTTLNsqpRv3GJdfWS2d6sr9PjGpbNmyRV6vV5LRkNjhcFjNd0fzeDw6ePCgampqFAqF5Pf7dfr0adXU1OjgwYNpkyTl5eXq7e1VTU2N/H6/QqGQtc7o/jdlZWXq7e2V2+229rFs2TIFg0Hdf//9KbefKoHw4x//WHV1dTp9+rSamprU2dkpj8ejf/mXf0m5DY/How0bNlhJK7vdrmuuuUbSSAWTWZVkGk9D50ySHedrbjwVrFmzRrFYTGvWrMnpfk6fPp22PxAAAACAwiuKpeokmifFxcVasGCBli5dKsmYYtuccSZ+tpnu7m6rGsLlcqmkpMQ6KSwuLlYoFEpoiNrX16fFixfL7XYnnTibt3m93qQmo2bD3VS3jRYOh1VVVWX1Rkk1zfLoGXPGsv1xOd4mhdYblyt6jYQSprWqqir5/X4dPHgwa82uRzvf8wkAAAAAML0VtOJo2bJlGhwctKbYHhwcVF1dXVLCZfny5dZ00IFAQIcPH1ZdXZ2OHj2acthLusqCCxnL0IzxTLOc86Ef1zZIV/++n81LK6WzwdzsBwAAAAAAzAgFrThCjryy2uh1ZM68NttZ6IiQI1QcAQAAAAByadL2OMIEXL/TGKb2YdSoPPowWuiIkCNmVV0u++mMt4IPAAAAADD1UXE0nb1wszFcbbZTuvVIoaMBAAAAAABTDBVH05k5TO1sUBpYUuhoAAAAAADAFEPF0XT3YVQ6dJ3x21ZpJJMAAAAAAAAyQMXRdGc2yJak6AEptL6w8QAAAAAAgCmDxNFMMNs5kjw63mbMuAYAAAAAAHABJI5mivhhaq+sJnkEAAAAAAAuiMTRTGKrlK7faVx+ZbUxdA0AAAAAACANEkczzdW10rUNxuWBJcaMawAAAAAAACmQOJqJHFuMBJJE8ggAAAAAAKRVFIvFYoUOAgXy0krpVJcx89qtR6TLSgsdEWa4cx+9r4svurTQYQAAAAAAfo+Ko5nsxj1G36MPo0bl0YfRQkeEGe6Vky/qJ7/YomOnXyp0KAAAAAAAkTjCjXuk2U7pd8NG8ggooFPvHpckXULVEQAAAABMCiSOZrpZNqmi1ximdjZI8ggFE33vpN48e1wXX3Sprpr96UKHAwAAAAAQiSNII8mjWTYpesDofQTk2ZtnfyNJumr2p+lzNJkEaZ4PAAAAzGQkjmC4rNRIHklGw+zQ+sLGgxnn5LuvS5KumVNW4EhgiUalJUuk664zLgMAAACYcUgcYcRs50jy6Hib9EZ7YePBjHHuo/cTKo4wSbS1GQkjp1Oy2QodDQAAAIACIHGERLbKkeTRK6tJHiEv3jz7G5376H3ZLr9SH7/kE4UOB5I0PCw99phxed26wsYCAAAAoGBIHCGZrVJybDEuv7La6HsE5FDkvZOSqDaaVJqbjWqj2lqpsrLQ0QAAAAAoEBJHSO3aBunqWuPySyuNGdeAHHk1+mtJ9DeaNA4ckNrbjeFpVBsBAAAAMxqJI6R3/U4jefRhVBpYQvIIORF976Te+eAtXXzRpVQcTRbNzcbvdeuM/kYAAAAAZiwSRzi/63caQ9c+jBqVRx8ysxKyi6bYk0xXl1FxZLNJDQ2FjgYAAABAgZE4woVV9Bozrv1u2Kg8ArLo5LuvS5JKbTcUOBJISmyIzUxqAAAAwIxH4giZMZNHZ4Mkj5A15z5636o4sl1+VYGjgVVtVFpKtREAAAAASSSOkKlZNiN5NMtmzLJG8ghZ8ObZ3+jcR+/LdvmV+vglnyh0ODNbNJrY24hqIwAAAAAicYSxmGWTbj1iXI4ekF5ZXdh4MOWdeHtIknTNHEeBI4Ha26Vg0Kg2qq0tdDQAAAAAJgkSRxiby0qNyiNJeqNdOt5W2HgwpY00xr62wJHMcNHoSG+jTZuoNgIAAABgIXGEsbNVjiSPQuuNBBIwRtH3TuqdD96S7fIrmVGt0NrapOFhqbKSaiMAAAAACUgcYXxsldKNe4zLr6yWTnUVNh5MOSPVRiSNCmp0tREAAAAAxCFxhPG7olpybDEuv7TS6HsEZOjE2yFJ0pUf+1SBI5nh2tqM5FF1tVFxBAAAAABxSBxhYq5tkK7+/dCWl1ZKZ4OFjQdTwrmP3tebZ4/r4osupeKokIaHR6qN1q0rbCwAAAAAJiUSR5i463ca1UcfRqWBJdLvhgsdESa5+GFqF190aYGjmcGam41qo9paqo0AAAAApETiCNlx4x6j75GZPPowWuiIMIkNR1+WJM299IoCRzKDHTggtbcbM6hRbQQAAAAgDRJHyJ4b90iznUbF0cCSQkeDSSz63puSpOuKbyxwJDNYc7Pxu7ZWcjoLGwsAAACASYvEEbJnlk2q6DWSR2eDJI+QUvS9k3rng7dku/xKffySTxQ6nJmpq8uoOLLZmEkNAAAAwHmROEJ2zbIZlUezbMYsaySPMMrxM4OSRFPsQopviG2zFTYWAAAAAJMaiSNk32WlRuWRZCSPQusLGw8mlVPvHpckXfmxTxU4khnKrDYqLZUaGgodDQAAAIBJjsQRcmO2cyR5dLxNeqO9sPFgUoi+d1Jvnj2uiy+6lIqjQohGR3obUW0EAAAAIAMkjpA7tsqR5NErq0keQW+e/Y0kY5jaxRddWuBoZqD2dikYNKqNamsLHQ0AAACAKYDEEXLLVik5thiXX1ltDF3DjHXy3dclSdfMKStwJDNQNDrS22jTJqqNAAAAAGSExBFy79oG40cymmWfDRY2HhTEuY/eT6g4Qp61tUnDw1JlJdVGAAAAADJG4gj54dgiXf37k1WSRzPSm2d/o3MfvS/b5Vfq45d8otDhzCyjq40AAAAAIEMkjpA/1+80hq59GDWSRx9GCx0R8ijy3klJVBsVRFubkTyqrjYqjgAAAAAgQySOkF8VvcaMa2byCDPGq9FfS6K/Ud4ND49UG61bV9hYAAAAAEw5JI6Qf2by6GyQ5NEMEX3vpN754C1dfNGlVBzlW3Mz1UYAAAAAxo3EEfJvls1IHl1WasyyRvJo2qMpdoEcOCC1txszqNHbCAAAAMA4kDhCYZjJo1k2I3n00spCR4QcOvnu65KkUtsNBY5khmluNn7X1kpOZ2FjAQAAADAlkThC4VxWaiSPJOlUlxRaX9h4kBPnPnrfqjiyXX5VgaOZQbq6jIojqo0AAAAATMCsQgeAGW6200geDSyRjrdJH6+Qrq7Nya6i0aja2trS3u50OlVaWpqTfc9kZ3VS5/7gfV2q2Tr666FChzNjlG/erNmSfuvx6D+HhwsdTpLS0lLZbLZChwEAAADgAopisVis0EEAOtU1Mlztxj3SFdVZ30UwGNTNN9+c9e3i/OofWaU/+8p87fb59dQ2f6HDmRGqJe2RNCzpZknRwoaTUkNDg7Zs2VLoMAAAAABcAEPVMDlcUS05fn8S+dJKo+9RlkWjk/H0efr7Y5dDkvTrwGCBI5kZbJLMgWmPaXImjQAAAABMHQxVw+RxbYP0zoD0RruRPKroNYayZUl84sjpdMr5+2bB0WhUw5NwKM908MnPFOvKa4p15tRZXfLhHOuYI3fuPnlSztdf14lLLtEL118v50UXFTqklObOnVvoEAAAAABkgMQRJpfrdxq/32g3+h5lMXkUnzi699571dDQkJXtIr3/OPmigv/5r5p/wxd15MhDhQ5n+otGpd8Px7xm+3Y9V5ubfmEAAAAAZg6GqmHyuX6nZKuUPowalUcfZmewTXziiKa8+XHy3dclSVd+7FMFjmSGaGuThoelykqJpBEAAACALCBxhMnpxj1GpdHvho3KoywgcZRf5z56X6+fGdTFF12qq2Z/utDhTH/RqPTYY8blTZvOvywAAAAAZIihapicZtmMYWoDS6SzwZFhaxPw6quvWpdJHOXem2d/I0m6avandfFFlxY4mhmgrc1IHlVXGxVHwBhFo1GtX78+4brh4WEFg8ECRQQAAIB01q1bp4cffjgv+yJxhMnLTB4dus6YZS0LySMTiaPcG46+LEmae+kVBY5kBhgeHqk2WreusLFgyhoeHlZ7e3uhwwAAAEAGzpw5k7d9kTjC5GYmj1642UgehdZLji3j2hRD1fIr+t6bkqTrim8scCQzQHMz1UbIqsq4x9Ff/MVfqJaeWQAAADMWiSNMfrOdI8PWjrdJl35WunbsM6KROMqf6Hsn9c4Hb8l2+ZX6+CWfKHQ401swKHV1STYbvY0wIeZrZGlpqXp7s1PdCQAAgKmP5tiYGmyVI8PUQuulN8Y+nGJ4eHhkcySOcur4mUFJoil2Pqxfb1Qb1dZKTmeho8EUZr5G8voIAACAeCSOMHXYKqXrdxqXX1ltDF0bh9LS0iwGhVROvXtcknTlxz5V4EimuQMHjB+qjZAFZsURiSMAAADEI3GEqeXq2pFhauaMaxni2/T8eOeDt/Tm2eO6+KJLqTjKteZm4/e6dUbyCAAAAACyjMQRph7HFiOBJI05eYTcez1umNrFF11a4Gimsa6ukWqjhrH3/AJGi+9xBAAAAJhIHGFqun6ndEW19GHUSB79bvi8i9PfKH9Ovvu6JOmaOWUFjmQai0apNkLWvfrqq5J4jQQAAEAiEkeYum7cY/Q9MpNHH0bTLho/oxrfpufOuY/e15tnfyOJxtg51d5uzKZWWkq1EbLGfJ2cO3dugSMBAADAZELiCFPbjXuk2U6j4mhgSdrF4hNHfJueO2+e/Y3OffS+bJdfqY9f8olChzM9RaPSY48ZlzdtotoIWcdrJAAAAOKROMLUNssmVfRKl5UavY7OkzxC7kXeOymJaqOcamuThoelykqptrbQ0WAaYQIBAAAApELiCFOfmTyaZZOiB6SXViYtEt/j6LOf/Ww+o5tRXo3+WpJ05cc+VeBIpqnR1UZAFpmVmSSOAAAAEI/EEaaHy0qN5JEkneqSQusTbmaoWu5F3zupdz54SxdfdKk+Nbe80OFMT21tRvKoutqoOAJygNdIAAAAxCNxhOljtnMkeXS8TXqj3bqJxFHu0RQ7x4aHR6qN1q0rbCyYlszKTCYQAAAAQDwSR5hebJUjyaNXVlvJozNnzowsQuIoJ06++7okqdR2Q4EjmUZWrjSqjCQjaUS1EXIkfjgvAAAAEG9WoQMAss5WKTm2GMPVXlktXVaa3Yqjd1+WzhyU3j9u/Hzw+sjlmKRLrx35uexa6ZJPSXMXSx+bvgmVcx+9b1Uc2S6/qsDRTCPRqLR+vdTcbPxts9HbCDlHch0AAADxSBxherq2QXpnwKg4emml7BffbN30mT/4Z+nDUqOZdqbe/Q8pvEc6+c/S24cvsOyvjZ/R5iyQrlgpXfnfpMv/MPN9TwFvnv2Nzn30vmyXX6mPX/KJQocz/ZiJT5tNCgYlp7Ow8WDaYTgvAAAA0iFxhOnr+p3G7zfa9ff//aB6e6VKp1QceUQ6VSZdncFU5id+IP32x9Jb/z5y3SybkQC67LPSJdcmVhhJI9VH7x+XPjgu/e5V6dQeI+H09mHp2DelT/yp9Mm7pWsezP79LoATbw9Jkq6Z4yhwJNNM3Mm89ffq1cawtd5eI5EEZIGZOKK/EQAAAEYjcYTp7fqd0u+GNTt6QEd+GHf9mX89f+Io8n+l4b+T3vq58fdFs6Ur/ptRLVTyF+ff56y50sdvHBXHP0nhnxoVS6f+2UhEvfXv0m+flEr/XrL/13HdvclipDH2tQWOZJoZnTiSRoarkTRCFpk9jqg2AgAAwGg0x8b0d+MevfXuqIf6qa7Uy77/uvTKfdIv/txIGl0+T7phl/SFt6Q/euLCSaPzKfkLYxtfeMvY5uXzjH384s+Nfb7/+vi3XUDR907qnQ/e0scv+QQzquVaZaV07JjRIBvIARJHAAAAGI3EEaa3D6PSK6v1iY/9f8nX/27ULEIntkmHy6U3/sn4+7ObpAX/IV3lkYqKshdTUZGxzQX/YexDMvZ5uNyIYQp48+xvrCoj8/en5pYXMqTpzWaTtmxheBpyJpqqug0AAAAQQ9Uw3b3Rnr666FSX0URbkl7bLB37lnH5qhpj+Fg+GliXPix98i5jWNybndLROunDsPSZjbnf9wSc++h9/dur/0eSrGbYcy+9opAhTU/RqFFltHOnRO8Z5BA9jgAAAJAOiSNMb9c26MS7f6j/9e0VWneHZJsdd9uZfzUSR6G/lo5vMa5ztEnXrstvjJf/oXRDhzTnT6VQg5HAOheWHN/LbxxjYLv8KuvyOx+8JUnqP75Pr0Z/rSs+dq1uuvpPCxXa9LJlizEsjSoj5Nirr74qiaFqGJ9oNKoDBw5oeHhY0WhUpaWlcjqdcjIDJGaYaDSq4eFhBYNBRaNRRaNROZ1OVTPEHEAGgsGghoeHE95PKysrJ8UXeySOMO29+e41erhderhd+v7fLdX/vOszRiVS9ID0/94r/fZHxoI3/G/pqrsLF+i166RLrpBevsdIZJ0LGz2RJqFLLro05fWR907qs7Y/znM001htBjP/5Vk0GlUwGNSBAwf005/+1HpjM1VXV6uiokIPP/xwAaPEWJn/w7lz5xY4EkwVw8PDam9v109/+lMFg0HZbDaVlpYmvCY4nU719vaSkMS0d+DAAT3xxBPq6upSNBqVzWaTzWazJh6QpE2bNvHeCCCJ+Zm6q6tLw8PD1vtpMBi0lqmtrdXOnTsLGCU9jjADxJ/UDr31OWOmtYXHpEs/YySNLpqts9ftVtEn71FRUVHefq677rrkYK+6W/qTZ4xZ3H77I+ml/57HI5W5iy+61BqiFs/5X/5M1xXfmGINTHXBYFDr16/XddddpyVLlqi5uVnDw8OqrKxUdXW19U1IV1eXmpubZbfbE97wMDVk4wTf/MYdk9tEn5/mcz0YDKqhoUHHjh3TkSNHFIlEtGXLFmsfN998czbCnZJ4LkwN2fgfrV69Wu3t7ZKkPXv2KBKJ6NixY4pEIqqsrJQkNTc3q6srTfsE4PfMSjVMDaO/QB2PJ554Qm1tbRoeHtaWLVus99NYLKba33+J3N7ertWrV2cj5HEjcYSZ6bf/W3rnF9LFV0oVz+rDT/z5pCgBlCQVV0kVzxqxnfpn6dV/yHhVc7hAPoxuhv3HV32epNEkkYuETTAYVFtbm/XmaJ4o7tmzR3v27LEum6LRqJYsWZL1OJAb5onTRBJH0WjUSi7O5GTBVNDV1aWbb75ZN998s3WyO17V1dXasmVLwmOnoaHBGppjltzPJAcOHNDq1at13XXXqbm5udDh4ALWr1+voqIirVy5csKP1S1btiQMS7PZbAnvjU88MTkryVF4Bw4c0JIlS3jdmGK6urpkt9u1cuXKCb+fNjQ0qKGhIeH9dOfOnQlfzhYSQ9Uw7cV/CPjsZz8rne6Whh8yrvjDHdKc+bLJeLNfuXJl0vo2m02bNm0a836j0ajOnDmjtra2sQc9Z74R20srjVjn3CIVL0+7eDAY1BNPPKH29nZFo1EdO3Ys54mwWUWXWJf/8Mpb6Gs0SZgJm2g0qoaGBq1bty7rjwXzRDHV9Zs2bbI+8ESjUbW3t1vflmDyMhOC40kcRaNRNTc3W68/lZWVuvfee63hGph8zOfwY489ptWrV+uxxx7Tli1brMqITLchKe06FRUV1ofcYDA4eb6cySEzedre3i6bzSan06l16/LcNxFjtm7dOtlsNrW3t6urq0sNDQ0p3+POx/ycmOr9zhy2Zg71BuJFo1GtXr1aXV1dstlsqq6u1r333lvosJChyspK1dbWWq8fjz32mPbs2TOm97x7771XFRUVaT8vO51Oq7KpoJ+tYsA0t2XLlpikmKRYx4+2xGL//qlY7IBisWN/l7RsdXW1tWz8z549eyYUQ2VlZdI2S0tLL7zisb8zYv33T8Vi759IujkSicQaGhpiNpvN2m5lZWWst7d3QvFm4nj0aKxz4HuxIycO5HxfyNyxY8eSHm/V1dWxY8eOTWi7O3futLZ3vm1FIpGEfW/atGlC+0V+lJaWxiSN+bUjEolYr5s2my22ZcuWHEWIXGloaLCecE+YrgAAIABJREFUr9n8/8W/9+bjPanQjhw5Yj2PnE5n7MiRI4UOCWOUy/9h/HYB05EjR6zP8JWVlbxuTGGRSCTh83c23/fiP2cVEokjTHvxH17/c7/LSMT84sspl41EIglJGPPHZrNN6MQ7EolYHxrGlDiKxYxYDygW+2VizL29vQVJGJk++PB3scO/8cc++PB3edsnMnfkyJFYbW1twmMuXyf18ftsaGjIyz4xMZkkBUcbnTSaCcmB6Sr+fXLnzp1Z2ab5Abq0tDQWiUSyss3zOXLkSGznzp1Zi3+s+44/+cvH/UVuRCKRmNPpzMpnP9ORI0fy/mWK+Vzgdfn8JsvrRm1tLa8b00T8Z+9sPP/iz02rq6uzEOH4kTjCtGd+m1pbpfNW75j27NmTsupook/W+IqNMSWO3j8xUiX1n8Yb25YtW6wXEfNb/kK84ZA0mvxGP+5y/aH12LFjCfsrxIcxjE18ldhYTpLM11aSRtPDpk2bslZlG/8+OtFtZSo++ZWNk/1MxScanE4nJ3/TQPyXfRl/VjsPM4maz8eHGX+hTzQnu/jXvXw+d48dO2Z9jud1Y/qJ/1Jtou9H5mPUZrMVvCKNxBGmPTPzO/BPv08c/efjF1wn1dCybHwAjq86GtOHkf983Ig98LmED8c2my1vH8oxdcV/q5XrKqDRidd8nsBhfOKTfZmK/z8zHHH6iK+0GO+JTPzrTT4rDguVOCKBOj3Fvy7W1taOezvm4zLfJ30kjjJTqMRRfGKh0MkAZF988rmysnLc29m5c2fMZrNNmvM9ZlXDtBeNRnWvW/pcmXTu4nnS1f/jguvEz4ARb/Xq1ROacjF+po0xufp/SB/7Y+nsLxTsWW9dPXr2DiAVp9Op3t5e6++2trYJz/yQzmOPPWZdbmhomBENcae6sb6mmc2wJam0tFQNDQ25CAsFYL73mU2exyoajWrlypVWc/6xNhieag4cOGBNgFFbWzum5uKY3EpLSxOmwR7PbGttbW1av369NbOa0+nMdpiYgrq6uqyJA9atW8fjYhqKn1jpwIED4/rMHQwGrffhyXK+R+II0140GtVf/6Vx+dzV/zOjdWw2W8oPvObMB+M1ntnZTKcu/6okWfeloaGB2aqQMafTmZAQXb16ddZnd2lra9OBAwes/U3k8Y78MRNHmSb5urq6rMfOvffey8xp00hpaamV/BjrybI5o+Pw8PCMSBpJiYlyZkGafuLfw8Y6PXpbW5uam5tls9m0c+dOkoqwmK8bNpuNz/HTWHV1tfW5aqxfxASDQS1ZskSSkTSaLI+TWYUOAMi1RfOG9DmH9PKr0g1/llniSDISM0888UTSybX5TcF4Mr82m02lpaXj+ubq/3noebWslD7nkP767iv0ECflGKPq6mpVVlZayZ2VK1fq2LFjWdl2e3t7QhXKnj17SChMEWbiKNP/10Q+9L537qz+9egehcK/1OUXz5bjij/Rn5WvTLns69GQfnni59ayq279a11+8ewx7W9aikal+G8v01V8DQ9Lv/9WWzablOH/6t5777VeI9rb2/Xwww9nEJKRNAoGgzMmaRQMBq2qgerq6jFXDYx+LnzRUa3yKz+XctnBk79Q/2v79d65d877nJmRDhyQzM9plZVSuv9De7vx3JGk6mopg0R5aWmp9Zmtvb1dmzZtyijBbiaNJGnnzp2TolIAk8OBAwes19fKysoxV2WPfl90/9Hd+pTNkXLZwZO/0HMh4zXqpv/yp1rw2dsnFvx0FP8+WVpqvDakEv8643QarzUXYLPZVF1drba2NkWjUbW3t2f0mWmyJo0kEkeYAe647beSpCf+b4ke/erY1t2zZ4+uu+66pOtXr16tysrKcZ0Y79y5U8FgcEzrmsmqK85J/+tvpW98dQ4n5RiXnTt3Wo9p88PwRN+UzHLaaDRqleQzRG3qGEviKBgMWsn0sX7ofe/cWe164Xv65YmfW9f98sTPdfnFs5M+0L4eDekHB5v03rmzkqTij32SpJFpeFgyv710OtMnjrq6Rparrs44cVRdXW1V1j722GMXTByZlbgzKWkkyUoaSVJFRcWY1h39+JaM58JDVU+o+GOfTFj2Xwf3qOsX262/R98+4z322MiJ35496RNHzc3Gc0cyThAzfO269957rSRQV1fXBYfmxn+JQtIIo5lJI2nsVYqDJ3+hf3r+7xNeNwZP/kJ/819/kPS6sOuF7+rwq/utv3ndSCP+fbKh4f9n7+7jo6rvvP+/Y7kRoWaSSLGgEkjsoq0w1ECtFQnuaqi99nLwt/sD1rYGu1dpcC8h2oUtbg2Rq7ZJrQm9ViL+HpqwvQF+bM3YbimBvUi4qbUQzQRssTUDgzUIQsigkYhR5/pjPCfnTCbJTDKTyUxez8cjD86ZnJvvkJlz8zmf7+fbe+DIepwpKYkocCRJ8+fPN7sz7927t9/rbSNo5Pf7VV1dPayCRhJd1ZDqLp7UrGkXdbFL2v3K1VGv3lv9jsF0WcvPz4+6m5nxhP/Z30jvf5CmiWOPSxdPDmj/GNmys7NtF7IDqWNiZT3JUcchOUUTOBrMzfKWl55Qy5nDKphxjwpm3NO9TctNsRT+prq3J6ojkuXGo8+L1717u6ej+Fs5HA7zO+z3+/vNkF22bJl5Qx0uaOTxeAZVG3C42mv5/43mfH7uwmk9uX+NMsdP0tIbH7JlGdUd/al9HyFBI0manD59gC1OUdas8N7OPX5/d9BIivimL7ho97LWv3n4pnTXJAkXNPL7/THvIo7ksnnzZnM6mmulVr9Xz774qKY4puu+mx4xz4mdXR22hzFS8LhhDRpJUs4VNwyi1SnM+p2eP7/35SI5zoRhPX5Yr5/CMe4t/X5/r5lGiT5+EDhCamvfJUnadUj66KOBbaKioiLswd1a3C6e3G63+YTio4+k4/5rg7/4+L0NlJHu2nLmcMTrdHZ1qNXvVcuZwzp34fSg9o/Eueuuu8xpI312IEKDRtRxSE7RBI6am5vN6WguelvOHNaRky9o6Y0PauH1X9PC679mPgHt7OowjyedXR3a8vIT6uzqkGvmcn134WbdMPlmLnqt4nyhK0V+sVtZWSm32638/PywNc2MYtnR1ocZ7vx+v3leNrqgR6ru6E81bvR43T+vTHOn3q77bnrE/N2Rk78zp1v9XtUd/ZnGjZ6g+256RPfd9IhyJ87stTvbiOTzdQeEHI7es4iswVanM7hshKzHOWu2SKjQm75wmUY1NTWaPXv2gMoVIPl5PB7zb290g4zUPq9bmeMn6b6bHtENk2+W64bl5u+8Z4+Y00dOviD34U3KvGyS7p9Xbh43ePjSizgHnkMfxPQV+LFm7oZLWvB4PJo9e/aQ3Hv2hq5qSGnvvlGr8QoGjgbTtauiosLsb2q1bNmyuKchW59OSNLEz9wjnSsJBo6ujD6FseXMYbmPbFKr32u+lnnZJNsTjHAOntituqM/tQWMwqXVIwrLltkvaKur+z8hzZ7dXadBkpqaoroIloJdUYyuZVIwoy3adNhwQSNS8pPTiRMnJEXeVc0QTeAod+JM3T+v3HbTe8Pkm7W3JViw/cjJFzQ/d5G2vPSEWv1eFcy4x6zjYr2xhuJ+oStJ6enp5vTevXvDXsT6fD5bXbNwwaGGhgb5fD7b9lKB9XsQbbfcpTc+pFa/1+x6OW70BGVeNknnLpxWZ1eHmWm35eUnPl7+Qd0w+WZJMv/Fx6zfhb4+44P4LlhrUxo3fuGOfZWVlWYZgubm5h7ZvH6/37zhS8VSA8a1QCKXHe6sAcPBHjdyJ87UuNET1NnVYT4APnfhtLa89IQZbDau6Tlu9MLjiaz76iACz1LwQYxxzmhoaOgzGcHhcPQ6qulwOH4QOEJKG3thnyRpV6N0818PvOaK0b3M6KdqMJ6mWkeriiXrU00peKOWmbtEOlgite/uY83wDp7YLffhTbYuIFLwZPPsi4/quws3h10vXLq8cbGLQWhosF/Q9nch4fHYL5Szs6M+gUndBfuMTCPjKVikFzI+n88ccpugUfIzAoj93dz7fL5BXfiGZkrkXHGDGTjqfL9De1tqzQDSwuu/FtW2R4whutC1Xtj21s2stLTU/F1/WYupVvPM+j0YyEV86EMaaxC11X9M+7xutfq9ZnYBemE9H/bVHTPSLL1eWAc1CRc48vl8ZkkBv9/f41oxVKoEQqTuTCu3220OjNHbQwXjmtm4ea6uru5zWaPgvjEqbLIfRwZz/pTCHTe+qIMndpu9Aepe/ZmkYLCZDKMIWK+/+3oQNojAc6i+zqfG7/s7nxI4AuLh/AGNCvj1R5/0579Idw7yi1ZSUiK3290jxdjoShaPLjoNDQ22g0x+fr407jPSZddLF/4onT8gpd8S0bZa/V4z+DM/d5EuHXWZeZKRgsGjVr+3x8kmXNBIkqY4qLMwKKEZAU5nZIEjq0HUEpo/f77t5BRJ0U+p+8LP5/MRNEox/V3IWo9FsbiAtwaSXjn1os69e1pTHDkquO6ePtYaGqdOndKnP/3puGz7D3/4g66//vqBrTxEF7rWv29vqfVTp06NOFNxMJ+XhoaGsBm/fQk3qEU4gUBgIE2K+XfBGkQ1MoLn5y4aNkGjtWvX6vvf/37Mt3v77bdr165BdLu3dJ3t8/swiG6bkv1v3NuNX6TnwcHe9C1atCiqriput1tpaWn9LjfQwvY1NTVme4wsxN4eplZWVpoPQz0ejzZs2KDq6upelzWOPR6PR6Wlpb0u21u7oq1FmpGR0e8yDodD7e3tUW3XYGT3GtsZrIxxnzKn3Uc2qeXMYblmLh82xw2D2+3WokWxHwny8ssv1/nz5we+gSEKPFsfylm7+xv8fr+cTmfEWdwEjoB4eOegJOm9rthszrhJDncBu2jRogGfSPoSesE+3zhgfeLS4L/vHIwocGStG7L0xofMEYwyx1+pLS/9yFzuyMkXbIEjo8aCFHzS8bkrb9LJt48Hl0vnacaghNZKiOSEEXrCibI4sX139v311h0lVHFxsZmO31/QyLhQiFdGHmIj0sLFsS5wbO2i0+r3flyToYzR0/oyRBe6kehvtLVUFusbQGsQtdXv1dypt8s1c3kfa0BSZIXiI83S64P1bxzuOJidnR1VUCOVWL8Lkvqs3xR6kx+rZZOF9bMTi+671uv1ljOHNT93kdnFGxFIQOA5HON6OhkQOELqej9Yi2fbnuDs1KlTB73J/Px8uVyuHk97jFTdWH/xQyPT5s3+xMXSOy+b7zESU9KnK/eKmbZhr2+Y/EVteal7mUOv/5fZRcQabJriyNF9Nz2izMsmqbOrQ7fmuJQ5nm5qgxL6FD+Sm7vQC6dBZByFnsj6KvppqKysNLOUSkpK+gwaGU8hGWFt+DMuyBPxFMvaRcc1c/mAg0adXR3a+1qt5mbfEZMutBMmTFBVVdWgtxPOxIkTB77yEF3oDqeuNE6nM6JMiOeff948jpWUlAyr99CfcaMnmPVKJEUdNDLqnLT6vWrvfEtSMBshd+KsmBTTvvvuu3XNNdcMejuhcnIG8QDK4+mu99dXd8xBfhdCDSrDIQZWrlzZ/RCxD0ZXUqfTGdGw7wPNnLv33nttXfOsg2+Euuuuu2zL9vU+rMOY97fdcPLz8+Ny3BjMccUaOIp1wFnSsMjWDWfGjBlxOZ+OHTt24Cv7/d2BZ4cjroFn+26Te4RRAkdIXe+fkiSdPhecjdVFZHV1tW1kBENNTY3uvffemHZZ67X6/uiPb4w+fo/9GTd6gpbe+FCP2kbWJ/6S1Nn1rvk7o0itUWTPuBkbN3oCo7rEQmj2UCSfG2twp68TXQQcDodZhE8Knsz6KkLp9/vNPtgOh0N79+7tdWhiay2cZLp5G+kS/bcayEiNnV0dqjv6M7POQ+7EWTELHH3rW98a9HZiaggvdK0Xt4m+0HU4HBFlQ0rdAfDCwsKkq4cyxTG9u8jtu6c1xdF/ENUY7OLcu6c//vwHC+a2+r06d+G06l79maY4cgadyZeXl6e8vLwBrx8XkWQbSfbsuwFm6Sb6O2CVn58f0XXmhg0b5Pf7lZ2dHfH3ZyCcTqeamprMwr597Ss/Pz/iZV0ul+rr69XQ0KDs7OyoB/CI9H1ba4muWrUqrufBWG87NODc2fXusMzYnTFjhmbMmJHoZtj5fN2B577qhcY48JzsCBwhdXUFb0JOfdyDLFYHbIfDoYqKirD9dWPZZS1cIVrzQnjslcF/u6K70Qp3QrE+8TcK7LWcDQ6dHRo0QgxZT0Z9DSNsXd568TrAwthWTqfTlmnk8/l6zRCqrKy0BZkirbGQ6GAE+mcdHjhSsbiRavV7dfBEd5F/79kjEafZGxkW7sObBhRwSkqRXuhav5sxuNBNtgDMUIvFd2FvS60ZNJKklrOHIypue+j13bYHPNbaJjv/+BPVvfozs77h0hsfGnQ7h5VIumP6/TH/PqTaCIGxEE19lmiWjTRIliz66/IYrb0ttbYHwkaXb0Qg0sCzdWTrFAg8DxaBI6SuOGUcScEnIb11WYvV0KGhBxrbNqPMOOqLtSinJO3zunXk5O8kBdPlh2N20e233z7kB+JDhw7FbmPWjAAp+myjSNfpR+jntLdhhiVp8+bwI+5Fuw8kr1gGEIyusONGj9e40eN17sJp241zX6xZFsbxyQgejRs9PmZtHHYiudD1+6WPR3eSFJMLXb7DPVmDB4M9Fxm1BG+YfLOOnHxBknTy/LGotlFw3T09CuIuvP5rOvT6f+nchdM6cvJ3WnrjoJo5/ESSCVBZaX/gMsDzZqyLoQOD7fJ48MRu1R0NZhS2+r2SgseS4VYYe9iKJPDsdvccoXSQkv34QeAIqevj+j+nY5xxZKiuru4ROIrlPvoMHI0xAkeDf9IeGhgyMgDm5y6y1UOKVvCk9lNz/rsLBxZ4CMfr9er48eMx214kAoFARCOTRCQ0CBTJiSS0W1gMCt6Gfl77ugFqampKqacmCIpmeODQp6UDDZJ3dnVoy0tP6Ny7p3XfTY+o7tWf6tyFYFebcxdO9/vE1H1kk8aNHq9v//WTyrxsko6cfEHPvvho1O1IOpF0uSkttd8oD/BCd7DDzac6a4B9MMfFcxdO68n9azRu9Hi5Zi43A0eRBnoKrvuq5lxze6+jnE5x5Jjfrc6ujmHZjWVAfL7uhy+9Zez6fPYgal91kPrdHd8HDJ414DyYYt9GFmHm+Em676ZHtH5nsIbVybcjuy4O7eJ6/7xy814g9Hdzp96eetmKUv+B59CHMNKAA8/WerXJfvy4JNENAOLm42ycU3HIODK2F9p/OpYFOfu8GB0Tu4wjo86RVe7EmYMusuc9e1jnLpzWuQunNW5MilysxspAgkCh9a5i8OQjms+qw+Ewu0tG+4PhK5qbXuMzYBjohW/d0Z/pyMkXdGvOXcqdONM2QqNx49yX++eV6f555SMvJd96DAj3vaqpCf5Yjw0DPE5YPxcUuO/J2n2m11qE/QgGUIOjmi698SFlXjbJ7J5mBFH7k3nZJLOuUV+MWigpo7/vgt8vFRcHb/SM89wgPsd8HxAL1s/OQM+fRrauJC39/IPKvGySeS6MJGt3b0ut+aDF6OZW9+pPe/zOyN49eGK3rVdCSrAGnqXwx5DKyuAyxt9sEIFn6/EjksL2wxkZR0hdY66U3j+lK9KlM/7YB47cbrdtxIdVq1bFtQChjZFpNObKmGwud+JMW60R1w0DH93IYD2B5V4R2+5uzzzzTMxqSUUqZtlGUvRBIL/ffpJzOgc9skP43ZBRNNIYf/NIA3z5+fnmyHoNDQ0R3UQdOfmCeVO8t6VWe1tqlTtxpuZfG6xnZO0ua61zdO7CaT25b7Xuu+kRW72XlLoBjlTohW6ohobgjXJJSTAw7fHYMzH8/uBPhH9na+H7ZL/QjQfr4AKRZt91dnXoyMnf6YbJX5QUHICi5cxhFcy4x3zan3vFTLPbyZGTL5jfhb0ttTr0+n/p27c9GXEbrd0/B5M9PCxZz6Gh3wsjaOTxSNXV3TWOrCPrejwRB5JCB3vgYQgGyhpwjjRwZHyPrceNVr9XrpnLzfOicQ3f2dWhgyd2m9/30OOG0S224Lp7ND93kVkH7dy7p7W3pVZ1R3+mpTc+aHZ3W/urv1NnV0dU9QeTQug1uN9vDwpVVgazjWprJaOerfX3xrVyhPeV1ocLyR54JnCE1DVmkvT+KV2ZGfvAkd/v17Jly8z57OxslZSUxGz7/TIDR7F54p4x7lO2+UgLc/Zl3JgJmvJxplHOFTcMaluhFixYENPtDamBBIEG0rUNiIAROIr0+Dh//nwzcNQcOjJgL7a8FHw6mjl+klm8876bHjEDQNbuskdOvhBcZvwkMxsjc/wIyywKJ/RCt7S0OzBUWhrMNCoslFat6k6v9/u7A0jGjXRTU0QXu6l0oRsv+fn5Znd1j8fTbxHfVv8xbXnpR9rnzfl43qu5U2/Xwuu/Zi5jDaLua3Frfu4itZw5rLqjP4s6+OM+vEmdXR3KvGzSsB2me8Csxx6/P3ijV1gY/Ixv2BA8Z1ZX27ttNjd3fycWLQouH8Fw7dbvQioVasbQMwKPPp9Pfr+/z7qShpYzh83jRuf7wUzE+bmLbIGcnCu6H/4eej0YODpy8oUex40pjhyzi7ckszdAZ9e72tfi1v3zykIe0ozvMRpzSgh3Pi0p6e6eVlkZPH44nd3HEGOdhgZp2bLgube+PoJddY/C7XQ6kz7wTOAIqWvMlZKadWWm9M5Hsf2iLlu2zHbDVV1dPbT9Vrtil3HU2dUhb9sR+2vvD/5EEc2T0RFlIEWuQwtTxygDoM86WhgRog0cuVwuM2judrtVXV3d5/Ktfq954dnqD9ZYWXrjQ7asoXGjJ2ju1NvNC9/H99xvvj7YYcRThnHR6nAEL2QbGqTZs7t/v2pV8MJXCl7sGsFpYxmHI3ghHGHQKJUudOPlrrvuMgNHmzdv7j9wdL67gK0UvIlzzVxuW8bodmZ0VSt+bqG5bDTBn70ttbaRUVPuOxR6Hi0uDv5I3Z91l8seOHK7u7OP8vO7vy/9eP75583pe++9dzCtBuRyuczeCpFk7XrPBrMGjePGDZNv7nEsuGHyF7XlpeB0y5nD5nFj7tTbeyxr7eLtPRu89u/s6rBlMIVKuW7hRuDZOJ9WVgZ/jNcqKoKBZesyfr9k9DxwOoPHmAhYRy5OhcAzNY6Quj4eeezKzNjeEFdWVtqKYq9cuTIuB4M+Cxdf/Li20ejBH8zdhzf16BcdaYE9DEDok47+gkA+X8+L5BhlABA4QrSBI4fDYR7v/H5/v+n2LWctXVYnztT988rCjtRovWgdN3qCcifO1Lf/+slBZz6mDONC18iSMOot5OcHL2ArKrqDQiUl3VmJxjJNTcEb6QhYz2933XVXLN9FSnFZ/j9DB8oIx7hJMz7f4YKiRqDHOj8/d1FUAVSjy0kwSPtg6n2HPJ7ugFBTU/A7YWTfFRbaP+sORzCoasjODn5XamsjCqL6/X7zxs967AMGyto7YUNo8eUwukcMDR4Llt74YNjjxv3zym3zrpnL5ZrZd9kJIxiVO3Fmj4zGVr/X3Hesew0klPHgRQqeOwsLg8cF41xZX28/ZtRa6jsZQaX6+gF1+06F8ykZR0hdH2fjfDpTOvJWbDbp8XhUWlpqzrtcLq1bty42Gw8R+pTXdoMWo4yjvS21Onhit1l/xChMG+mw2BiA0O49/QWBNmywPzU1Tm5xQOBo5Ik2cCQFL3yNm6nS0tI+s46MlPr+RnQaN3qCvn3bk2Z2UsplSAyG9UJ31qzuLmm9cTql48eDQWeHI6qCnn6/X5s/znAMNwDEcJadnT2k3eocDocKCwtVU1Mjv9+vmpoaFRpPqcO476ZHIvp8506cqYq7dwYHlhg9PqrvgjFEtyRbrZKUYnwXHI7uJ/99Pf2vqAj+hNYxiWhXDea118qVK5PqHOl0OqnJFIFEHjd8Pl+/3dXun1cel+OGNTD0uU9/scfvrQ99Uir47PN1X1M7nf0/UMnPlwKBAZ1PfT6f+VDB5XKlROCZjCOkrHMdoyVJi/86NjfERl2j0C5q8dJnm89sC/47iBpHRv9nKfi0f/Ll08zfdXZ1mE8iotne43vu1+N77tf6nfdq7a/+Tmt/9XcRjZI0olgzjnobRti67Mf1ZEwxvMAJHQ2IWiYjz4kTJyRFd4zMz883PyvGxW9/Ir35TbnRn2LBmmERzbnMeIoaBevfM9lulF0ul5qamtTU1DRkN8sVlho51odKvYnm85152aSog0buw5skpXDQSOoelTTav3GUn2W/32/+TZMtiCpJtbW1ampqsn1G0VNhYaF53Biq45016yhRx43W88fM6XDHCiNDcoojJ7W6qoVm8EdqAOdT69925cqVA9vvMEPgCCnr/bHBG5tLR0c+YlBfSktLbTfa8a5rFPqkyBi5RZL04XvBfz85d0DbbvV7teWlJ9TZ1aH5uYt0w+SbezxRsD5tiMQUR44+d+VN5lOMzq4OdXZ1pNaTisHyePofAtRgjAwj2U9WBHcQB+np6VEtX2tJ37YOFIA46G/o8Rjx+Xzmha7T6Uy6G+VEsD5A8vl8ZuH4odbq946MoJFkr/cVRzU1NeY1X0lJSVIFUTG8ZWdnm8dXt9sdUVfXWDNqJ40bPSFsYMh4eJxSQSOpO/AsxfV82tDQYJ4PVq1alRLZRhKBI6SwU525Onteuj5buvaqwKC2VVlZaRazk4IHAVeE9SIGIzTg5fF4pM4/Sxf+KI2+Qkq/JeptdnZ16NkXH1VnV4dyJ840C+eF1h0xnjZYHTn5Qq8jLGReNkkLr/+aCmZ0F+Lr7YQ0YoU+6ejrQrS4OLh86NPCWbNi0hTrEMMSRXBHKiMYHe3fPjs72wweWS+QEAfWC9043bz6/X4VFxebw8oP+YAPSaywsNC8Hli2bFmPTM54O3fhtJ4SCpIeAAAgAElEQVTcv0ZS70Gjvs7dScX68CWOn09rWYJVq1YRREXMVVRUmMGERBw3jJIU4WoO9teNLakZ/89xfghjPFBzOp1DO+p2nBE4Qsry+/3a3RicnvGp1we8HetTWGloDwLzQwonezwe6dyu4ExGZEPzbnnpR+aTSOMCM9gH2j66UWiQJ/RC89yF09ry0hN6/P/cH/EF6BTH9IiWGzFC6xuFu1Dw+4NDfdbUBOuYZGfbaxyFGmCNLbqpQepZID0aLpfLvKFatmyZLbg+lDq73k3IfofMQFPrI2R0w3a73WbQiONBdGpra82bwAULFgzZTWBnV4e2vPQjdXZ1qOC6e3oNGj374qOpUbswzt+F4C4atGDBAvn9fuXn56fUTR+Gl9raWjmdTvn9/iE/bhiBobDZRpZubEZgqdXv1d6W2h7LJpXQrP+47MKjBQsWyOfzyel0qra2NqUewhA4Qsry+XzadSg47Zw6sOrYvdU1GsxBoKamRrNnz9bs2bNtwzSGE5rVtHfvXqndCBzd0e++Wv1eHTyxW3tbavXk/tV6/P/cr1a/1xxtJfSEEXrRadRAsl6czrnmb/rsP20dkW1KOt3UbEL/3sYwoNbfG0EjY7jg0Bt746RnBJhKS6VFi6JuSugFSiqM9oDoGVlnAz2mVVRUmDU0iouLtWzZsohqHsVKZ1eHDr2+25w/9Pp/Ddm+h0RDQ9+B40FvvkGzZ8+W2+02L3KHIps2FdXX16uwsFB+v1+zZ8+O28AZVgdP7FbLmcMaN3qCvGeP6NkXH7X9PLl/tba89ISkFCk4b82+izEj627RokXy+/1atWpVyt30YXhxOByqr6+Xy+UyjxtD8QDGGkQON2LauNHjzelWv1ctZw7r2Rcf1UlLQCkpxTHwbAyQYASN8vPzVVtbm3KZ/ASOkNKMwNHUy/8k6aOo1y8tLbUFd0pKSgb9JLa5uVkej0cej6ffG6zQ7kP79jVEFTiy1ilqOXPYzBTq7clkaErq3pZard95r9bvLFTLmcOan7tIC6//Wp/7tBbVTqkhPAfL7w//pKO4WEpLk6ZNkxYskNzuYNDIGC44tF90aak0e3Zw+ZqaYM2jARS/tA4R6nA4yDAY4QZzc7Rq1So1NTXJ5XKppqZG06ZNU7FRnysOWs4cDgbC99xvHpsMe1tqtfZXf6cn96/Wk/tXm09Vk5bT2Z1S318x/Sj4fD7Nnj3bzKxYtWqV6uvrU6YOQ6JUV1erurpa2dnZKi0tVVpaWlxvBK0Pd46cfKHHj/W8nzk+BbqN33tv93QMb8jWrVunadOmqbKy0uyGW1FRQdAIcedwOMzPW3Z2toqLizVt2rS4dv+2XqeHq0Nq7b5mBKBvmHyzXDOXx61NQ8J6fovh8cPtdmvBggVm97SKioqUDBpJ0qhENwCIF7/fr5Nt0sFXpbkzPpDefFb69D9GvL7b7e5R1ygW/dytmR6RXJS4XC6zHXd/0R+Mf10+Vxo7ud91wz0dKJhxj+bnhs9QyZ04U7kTZ9puxIwbr7lTbzfrIfXm3IXTths1CmNbWJ90uFzBIJI168cY6rOwMJhpZHw2jCGHrcsa0y5XcBjiKC9ufT6fLSCan5+fkic49M8IXg/2729kqzQ0NGjz5s39ZlMORub4SRHXXbA+OU1KDod0/HjMs46Mc09JSYkKCwv5/sdQYWGhCgsLVVlZqeeff35Q3UH7YnRPi1TSfxek4DmvvT0um3Y6nbr33nvlcrkIGGHIGfcY8T5uSFLuxFkaN2ZCr3VIx42eoG/f9qT2ed0aN3qC5lzzN6lxPe90SoFAXM6nDodDFRUVKiwsTOnjR1ogEBhc1WBgmFq3bp1KS0v19QJp83ckXXadNOePEa1rPI21Fo6NxVCdPp9P06Z1D3sfyRNev9+vjIwMSdIfN0vXTZU0Y7M06ev97s99eJOOnHxB48YETw635rjCFsLrbT2p+yatt2CTlVFLQQoGjb5925P9rjNirFsXzBaSgrWLKiqC3dSam4MnsVmzghfF4TJ/jBHWGhq6sw5KSgY8wprx3TDQPWXkSktLkyQdP36c4AEAAADCIuMIKevEiROSpH+vkzb962d06YWj0qlnpCu/0e+6xugyUmzqGhlCU08j2abD4ZDL5VJWl1vXTZX+4PuExk+9VZHc4rlmLh9QaulA13vlzd+Z01PSKYxtYy2MbYyMFmkGm8MRzCyKAb/fr82bN5vzTqeToNEIZe0qS9AIAAAAvaHGEVKWNc2zw/HN4MRfnuh3vcrKSrndbnN+5cqVMan74PP5tGHDBttrkQajKioq9ODfB6d/uOXDYTv0tb3gXv+ZTSOKtetOAtNY3W63LWCwcuXKhLUFiRXPVHgAAACkDgJHGBFGXfUNacJM6cIfpVPP9rqcx+OxdeFxuVyDHhnF7/fbhncdiOxL9+j6bOnwMWlznbRhw4YhHbkoEtbhPSVF1CVuxPB47H2qE1SI2u/39/h8FxYWJqQtSDxrV1wAAACgN3RVQ8qyBlYcDoc0pVj60zLJ94iU+WVpzKdty/v9fi1btswW3GloaLDVJIqWsa3eAkYR3bC9/2awzZJ+sucKSWfNttbX1w+4bbHW6u8uxN1bwb0RK46FgqNRWlpqG369pKQkwS1KvJqamrhk3uTn5yfNSHWpXMgRAAAAg0fgCCmrx9P0Kwuls7+Q2v5T+tM3pRt+ZVu+tLTUNuKZsY14deeI+GbtT9+ULrZKWf9N96//33r8p8FAVkNDg4qLi1UxgKHY46H1vHV4T+ob2ezda59PwI16ZWWlOTqfUbcrWQIb8RSvEcBKSkqG/f+vNYgIAAAA9IbAEVKe7aboM09LL8+Rzv2n5CuRsoPddqw31QlpV298JcG2jp0ifeZpZY/5tOrr67VgwQJJwXanp6cPujtdLJw8351xNCW9e9jOzq4O7X2tVvOvXaRxoyckommJFxKQHOrAUWVlpYqLi835iooKCmJ/zBhGdSSyDgAAAAAA9IbAEVJW2KfpYz4dDB4d+Yp04lFpwmzpClePotVDod+btbPuYBulYJs/7lqXn5+vpqYms2ZSaWmp9u7dq+rq6oTWKunsetecNmoddXZ1yH14kw6e2K1xYyZofu6iRDUvcTweKUH1qIzPhzXTqKKigrpGFrW1tYluQsIROAIAAEBfCBwhJfXZvSzzTil7veT7rvTnb0pjp8jlcg35CENTp07t/ZfvHAq2TQq2NfNO26+dTqeOHz+uBQsWyOPxmLWYVq1albCua9aaRkdOvqBnX3xUrX6vzl04rfm5i0Zm0EjqmW00BPx+v2pqamxF1J1OJ93TYHPixAlJ/QeO0tLShqI5AAAAiFIgEBiS/RA4QkqyBoHCZuFM/Vepo0k6+5zUfJsqvrtdylw4hC3sw7md0h//XvqwQ7ri7mBbw3A4HGpqalJlZaUZIDC63DU1NQ15gKDgunt08MRudXZ1SAoGj8aNniDXzOUjN2gkSYWFwRpHbndwPs5ZYX6/X9OmTbN1QyopKVFhYSGZJbAxPiPp6ekJbgkAAACGMwJHSEnWwFGvN8uf/YX06r3S6X+XjnxZuu6n0qfuGaIW9uKtn0lHvxqcnvR1acbmfldZtWqVVq1aJbfbbRb6TUSXtXGjJ+j+eWU6cvIFtXe+pYxxnxrZdY2sqquDP0PA4XAoOztbDodDd911FwEj9KrHAAK9GKonWQAAABieCBwhJUXc7WzGZml0lvRGRTBg8/5Z6aqV8W1cb97YIHlXBaevKpZynohqdZfLlfCCx1McOZriyOl/QcRVU1NTopuAJDDU3XMBAACQnAgcISVZb4j6rCUkBQM0o7Ok4/8aDNy88zsp+1Fp3Gfi3MqPdf5Z8j0ivbUtOD/tf0nXPDw0+wZGOKNOWKyVlJRo1apVMd9uLDGqGgAAACJB4AgpKaKualbXPCyNypK8xcEAzlvbpKklUnach7n3rZNOlAanL7lUyqmQJn8rvvsEYBOPzJtkyOYhcAQAAIBIEDgaoI7OD3T63EWdan9Pp89dlCSdbr/Y73qTMsbq7lsnx7t5I17UgSMpGLDJ+ttg9s+pZ4MBnbd+Hsw+mrhYitXIQoGAdGZbcD+drwVfu/K+4H7GTonNPgBEZOXKlbrrrrtivt1kGL0u0hpHAAAAGNkIHEWho/MD7Tr0lnY1vqXT5y6qo/ODqLdB0GhoDChwJAUDN3/1jPSpfwgGdt5+QTq6VPrz/wiOcDbxbilrgDeZbc9LZ54LjuT2YXDkMV1+czBglPHXA9smgEFJdF2wREqGrCgAAAAkHoGjCHR0fqCf7PqLdh16a0DBIquZOZfHqFWS2xjeewgly03WiRMnzOkBdcPI+Ovgz8knpdM/k97+XXD0tdP/Lo1ySFcski6dKo25Shpr+ZGki290/7z/hvTeCelsrfSB5Sbt8i9Kk+6RJt8/yHcKANHz+XzmNBlHAAAA6AuBo340t5zXD7e9ZnZHs5owbpRm5aSro/MDNXvPS5Jm5aT3GRyalZMes7YtW7ZsSJ8YOxyOpAkcDTjjKNTk+4M/nX/+OFuoVnrnoHRqAEOrf3LuxxlLi6TLhqjwNgCEQbYRAAAAIkXgqA/P7Tupn+z6iy3LyAgWfe2Oq5UzZbz5+le/16jT5y7Ke/JdrVs2QxPG8V87XMSk8Ou4z0jX/Evw58JR6fx+6f1W6b037BlGaerOPhozpXs6fZ502XWDbwcAxBDZRgAAAOgP0Y1e1B063SNolDNlvP558bW2gJHhS5/L0nP7Tqqj8wNVPX9c/7zk2ri30el0DnnGUbKIWcZROJddRxAIQFJjRDUAAABEisBRGKfOvaennvfZgkazctL7zCSamXO5ntt3UpK069Bb+todV+vKzEvj2s76+vq4bj+ZGfU7eJoOAD0Zx0gCRwAAAOjPJYluwHAUGjTKmTK+3+5nV2bYg0QvvHIubu1D5LgpAoCeyDgCAABApMg4CvHbV9r021fazPkJ40bpnxdf22/NovHjPmGbP+x9W3ffOjkubUT/on2anpaWFs/mAAgjEAgkugkjHoEjAAAA9IeMoxC7D52xzS+a9+mwNY1Cvdv5oW2+5WRHTNsFAECsnDhxQhKBIwAAAPSPwJHFqXPv9cg2umPOpxLYIgyEkW0kUeMIAMIxuqqlp6cnuCUAAAAY7uiqZtHsPW+bn5WTHnGB69AMo/66tiF+BjKiGl1mAIwkxnGS4DoAAAD6Q3TD4rD3bdv87XMmRrxuaFe1CZfG/7923bp1On/+fP8LxlBFRcWQ7m8grIEjAEBPHCcBAAAQKQJHFqHBn5zJ/dc2MoQGnSKpizRYGzZsGNKLf4fDkXSBo6lTpyawJQAwPDGqGoBUtH/rUe2qblLHW13SqI90499O1Vcfuc22zK/+7aAO/qoluIykK669VN+q+IqypkxIRJMBIClQ48jiVPt7tvlIu6l1dH7Qo5vbzJzLY9YuRGcgXdUAYCQhcAQg1Wz6n7v0XNlBMyCkDy7RS7V/Uf32lyRJba0dWnfnNu155mj3MpLOvvaeShZtTkSTASBpkHHUi0mZYyNettl7Xh2dH5jzE8aN0qyc+BccXbly5ZB2VUuWIqoEjgCgb9Q4ApAq2lo79OTy3+hMq19Hz+/XDXdl6cx/pWviqGmSpLrtv9XMm/9Klff9Uq2trWrpOqCcmzP15osf6bpLg9lIo7smqH77S1rw9zcm8q0AwLBF4MhioHWJave9aZu/Y86nhqQ49rp16+K+j2RE4AgA+kaNIwCp5PjrLXq1s0Fb9mxSdna2fvjNLTp56H1J0kW9o//9P36t1tZWpc9r0y+/v9m8Piya9W+69JJPSpJe2P97AkcA0AsCRxY5U8abXc5C6x31prnlvK2b2oRxo7Ro3qfj0j5E5sSJE+Y0gSMAsPP5fOY0GUcAkl3WlAm698dfVHb2UvOYNmbMGEnBwNEo/xU6deotpc9rU0XVD2zrjp4g6UJw+sKFC0PYagBILgSOLKZPvsyc7uj8QKfOvddnnaOOzg/0k11/sb32tTuujrg2EuKPwBEAAEBqy8/Pt82fOuaXcZvzwZlL9e6Vf9APvv9oj/XS3htnTk/OuSKubQSAZEZxbIsvfS7LVtto16G3el22o/MDVT1/3JZtdPetk3X3rZPj2kb0j65qANA76hsBSHXvvtVde/T1C0e0/ukHe1wTtrV26JKPgsGl9z96T19Zag8+AQC6ETiymDBulIrummbO/2TXX1R36HSP5ZpbzuvxrS22wNLdt07W1+64ekjaib4ROAKA3jGiGoBUdrz5LX3iw+7s/+sKssIGyl/a9Wdzuu39vxBMB4A+0FUtxJc+l6VvL8nV41tbJEmPb21R7f43lTN5vCTJe/JdeVvfNZefMG6UvnbH1WQaDSNG/Q4uAACgJ+MYSeAIQCo6/NvXzOnzXW9p5YNLwy73ygvHzenLJsW9WQCQ1AgchVEwZ5JyJ0/Qc/tPateht+Rt7Rksypk8Xjd/LnPIRlBD9LgpAoCeyDgCkMqO/v51czots6PXB4mtr7ZLGi1Jmjzj8qFoGgAkLSIevciZMl7/vORa/fOSa3Xq3Hu2UdYmZY4lWDSMcVMEAP3jGAkgFZ19/R1JwZqll1/1ibDLtLV26KOOYNDo/Y/e011L5g5V8wAgKRH9iACjpCUXa40jAIAdwXUAqexDf/dAN3Nv/1zYZULrG+XnL497uwAgmVEcGynFqN0hUeMIwMjh8XgiDpqfOHFCkpSenh7PJgHAkNu3/Yg53X7xlL644PNhl3u54U/m9PiJ4bOSAADdCBwhpTCiGoCRxOfzqbi4WAsWLFBxcXFE6xjHSYLrAFLNkRdbzOkPx77b63HOf7LTnO6tOxsAoBuBI6QUuqkBGAn8fr+Ki4s1e/ZsVVZWyu/3q6amxpZ1CQAjzRtHz5nTEz41utflLrR3mdMzZswwp/99fZ1W31kVn8YBQBIjcISUNXXq1EQ3AQBiyggYTZs2TTU1NXK5XLbfl5aW9rsNI7hEViaAVPPuWx+Y09d94epel/voku7l3jrZprbWDpV/fbuanjulN998kweRABCCwBFSivVpOzdFAFKNkVmUn5+vpqYmVVdXy+l0mr+PJOuI4tgAUtHx5rf0iQ+7B7T57/fl97rs6PTu0ZLP/f4y/a//9gu9eeSC3rz0Zf3v+gc5PgJACAJHSCnUOAKQyrKzs9XU1KTa2lqzdkd1dbVtmUhrHVHjCEAq+f1/HTanz158vc9j3AM//ju9o9OSpPc/ek9vvveaxn/htJ76TSnXjwAQRlogEAgkuhFArFRWVpo3TfX19crP7/1pEwCkikWLFsntdpvzfR3/0tLSJEnHjx8neAQgpUT7ANHtdsvhcMjpdBIwAoA+EDhCSikuLlZlZaUkqampydaFA8nj4I5X9R//Vq/ON0dplMaoa3SHCoo+p79dNr/Hsm2tHfrp9+t07KUzuuS9cZKkrtEd+sy8K/TAjxYPddOBhPD5fJo2bZo5n52drePHj/e5HKd/AAAARIKuakgpdFVLfmUrarTl4d+r683LNEpjJEmjuyaobsOf9MLOZtuyz1XV69H/vk2+33aYQSNj+eN73tOjSzcPaduBRMnOzlZhYaE57/P5bBlIAAAAwEAROIpCc8t5eVvfTXQz0AcCR8ntO/9QqVO/Swv7u9FpY/XLZ/ea8/++vk77n35dl3w0qtfttb+qHsEmIFVVVFTY5pctW9ZjGeMYSRc1AAAARIrAURR+susv+uG21xLdDPSBwFHy+s4/VOq9oxnqClzU1V8aq4qme3XjIvtQumdOtUkKBo2anjulrsBFTfir9/TAz29XRdO9yr3t8h7b3f3//25I2g8kmsPhUElJiTlvjMBmxYhqAAAAiBaBowg1t5xXszeYcUTW0fDF0/TktG/7Eb13NEMf6H39Pw/fqAf/bYkk6auP3GZbbuzYsarf/pIO/uKEugIXdcs/XqX1W5dr2nWTJUn3/2iRPrq007bOBX/X0LwJYBhYtWqV7fgXOsKaz+eTROAIAAAAkSNwFKGf7PqLOU3W0fDF0/TkdOvf36BrPp+uOXdfowV/f6P5+vHmt2zLTbo6U8/94JAk6ZZ/vEpL/unOHtsae8WHtvn3P3wvDi0GhqdwWUfr1q0LuxwAAAAQCQJHETCyjQxkHQ1fBI6SV/EzLn39uwW215pe+INt/uThdzXqo3G67s70sEEjSdKH9sPaNddNjGk7geGusLDQlnW0YcMGM9OIYyQAAACiReAoAtZsIwNZR8OTtcYRkt+fXn7dNn/Zh1dIk9p1/2OLe13nvfP2jKMr/6pn3SMg1VkLZfv9fpWWlprTEoEjAAAARI7AUT9Cs40MZB0NP8YTdYkaR6ni5J/sgcDOD9/WAxX/b5/rBC6MNafbL57Slxfd1sfSQGpyuVxyOp3mfE1NjXw+n06cOCFJSk9PT1TTAAAAkGQIHPUjXLaRgayj4YUR1VLPB+c/YZvP+NyHZiHscA7ueFWjNMacf3+sn88CRixr1pEULJTNAAIAAACI1qhEN2C4e3zF58zp2x/6rSRp94++lKjmACPGkd8e06WXfNKc7wpcVMnGwj7XObDDY5ufdO2EuLQNSAb5+flyuVxyu92SJLfbbctCAgAAACJBxhFShjXjaOrUqQlsCWKh/rlDtvmu8ef6zR5688/2bqVzv3xdzNsFJJPQrCOPJxhcJRMPAAAAkSJwhJRhrXHETVHye+PPZ23zmVMv7Xedi2e7u7a1XzylLy74fMzbBSST7OxsFRb2zNTjGAkAAIBIEThCyqDGUWq5cNo+P+eOvrOHDu54VZ8IjDbn3x/rp44LoJ5ZRxI1jgAAABA5AkdISQSOkltba4dGd3XXJ+oKXNRtri/0uQ71jYDwHA5H2KwjAAAAIBIEjpAyjGGmJZ6mJ7u9v7TXN+pIe4v6RsAghGYdcYwEAABApAgcYVjx+/0qLi621SuKZl2khqa9f7bNZ0wZ1+861vpG73b5qW8EWDgcDpWUlCS6GQAAAEhCoxLdAEAKBn0qKyu1YcMG+f1++Xw+1dbWRr0NA13Vkts533sao+5i2DPmXt3n8seb37LVN+q65EKPjIqKr/5ad/yPmfrs/L63BaSqVatW2TIzAQAAgEgQOEJC+f1+ud1ulZaW2rKM3G63PB6PnE5nVNsyEDhKbmMu2v9+BV+f2+fyTS/8wb7+mDG2+U3/c5de/8NZ/fz7e/S9+ffGppFAknE4HKqurk50MwAAAJBkCBwhYRoaGlRcXCyPxxP298uWLVNTU1PE2zMCR9TuSG6/qt5rm+/4qC3qv+klXWPV1tqht89e0K9+3KjjL59R+8VT+mPnbyUROAIAAACASFHjCEPO4/Fo9uzZWrBggTwej/Lz89XU1NQjOODxeOR2uyPerhE4Itsoub3yQkh9q09e6Heda2dOtc1feskn9b/+2y/048Lf6PjLZ/T+R+/Jn/kHbXv+32PZVAAAAABIeQSOMOSys7PNgFF9fb3q6+vldDp7jPojScXFxRFvl8BRajj5J3uR8yuumdDvOjd8abre0emwv2u/eEpjbj6umv/8MZ8NAAAAAIgSgSMMOYfDoaamJtXX1ys/P9983eVy2eYlyefzqaamJqLtMqpaavjondG2+RlfvCqi9f7nU/9db3a9as63XzylYxcPyvnNsaqo+gFBIwAAAAAYgLRAIBBIdCOSxe0P/VaStPtHX0pwS1KXz+fTtGnTbK85HA61t7dHvF5hYSEFYEcwt9sth8Mhh8Oh7OxsAkYAAAAAMAhkHGFYyc7OVmFhoe01v9+vysrKiLdBoGBkMzLXnE4nnwUAAAAAGCQCRxh2wtU6Ki0t7bMrGt3UAAAAAACIPQJHGHYcDkfYrKPS0tJe17EGjqZOndrrcgAAAAAAIHIEjjAshcs6qqyslM/nC7O0bK/TPQkAAAAAgNggcIRhyeFwqKSkpMfrvWUdWTOOCBwBAAAAABAbBI4wbK1atUrZ2dm212pqanrNOjIQOAIAAAAAIDYIHGHY6i3rqLi4uMdr1oyj0GATAAAAAAAYGAJHGNYKCwt7BILcbrc8Ho/ttRMnTgxlswAAAAAAGBEIHGHYC1coe9myZbZ5ahyNPC2Np9T6p3OJbgYAAAAApDQCRxj2XC6XnE6n7TWPxyO32x12eQJHI0PdpmZtKfltopsBAAAAACmNwBGSQnV1dY/XrFlHRsFs6huNDC2Np8yMI7KOAAAAACB+CBwhKTidTrlcLttrfr9fNTU15rREttFIUbep2Zwm6wgAAAAA4ofAEZJGuFpHoSOsEThKfUa2kYGsIwAAAACIHwJHSBrZ2dkqLCy0veb3+7Vu3TqzqxpSnzXbyEDWEQAAAADEB4EjJJVwWUelpaXmNDWOUltotpGBrCMAAAAAiA8CR0gqDodDJSUlff4eqStctpGBrCMAAAAAiL1RiW4AEK1Vq1Zp8+bNdE8bge7//wrM6eLZmyVJFU33Jqo5AAAAAJDyyDhC0ukr62jq1KlD3BoAAAAAAFIXgSMkpcLCwrD1jOiqBgAAAABA7BA4QtIKVyibwBEAAAAAALFD4AhJy+Vyyel02l4jcAQAAAAAQOwQOEJSq66uts2H674GAAAAAAAGhsARkprT6ZTL5Up0MwAAAAAASEmjEt0AYLAqKio0a9YsSWQcAQAAAAAQSwSOkPSys7O1bt26RDcDAAAAAICUQ1c1AAAAAAAAhEXgCAAAAAAAAGEROAIAAAAAAEBYBI4AAAAAAAAQFoEjAAAAAAAAhEXgCAAAAAAAAGEROAIAAAAAAEBYBI4AAAAAAAAQFoEjAAAAAAAAhEXgCAAAAAAAAGEROAIAAAAAAEBYBI4AAAAAAAAQFoEjAAAAAAAAhEXgCAAAAAAAAGEROAIAAAAAAEBYBI4AAAAAAAAQFoEjAAAAAAAAhEXgCAAAAAAAAGEROAIAABW+UXoAACAASURBVAAAAEBYBI4AAAAAAAAQFoEjAAAAAAAAhEXgCAAAAAAAAGEROAIAAAAAAEBYBI4AAAAAAAAQFoEjAAAAAAAAhEXgCAAAAAAAAGEROAIAAAAAAEBYBI4AAAAAAAAQFoEjAAAAAAAAhDUq0Q0AgIGY8leZiW4CAAAAAKQ8AkcAktK3t/5topsAAAAAACmPrmoAAAAAAAAIi8ARAAAAAAAAwiJwBAAAAAAAgLAIHAEAAAAAACAsAkcAAAAAAAAIi8ARAAAAAAAAwiJwBAAAAAAAgLAIHAEAAAAAACAsAkcAejh27JgOHDiQ6GZErbm5WXPmzFFaWprS0tJUXl4+qG2lpaVpyZIlMWwhAAAAACQXAkfACLJjxw4tXLjQDKzk5uaqvLxcbW1ttuXy8vI0b948bdq0KUEtjV5bW5sWLFigxsZGrV27VmVlZTp//vyAt/fOO+9Ikvx+f6yaCAAAAABJZ1SiGwBgaJSXl2vNmjWSgoGhrKwsHTx4UGvWrNHLL7+srVu3msvm5OSosbFRV199daKaG7Xf//73am9vV1FRkb73ve9FtM6SJUu0bds2eTwezZo1K84tBAAAAIDkQ+AIGAHa2trMoFFokGTTpk2qr6+3LX/o0KEhbV8svPLKK5Kk7OzsiNcxsomM7CIAAAAAgB1d1YAR4OjRo5KkgoKCHpk1y5cvt2UbAQAAAABgIHAEjCAHDx7sUc8onCVLligtLU3Nzc3ma9baSKE/1uWk3mspRaOtrU3l5eXKzc01tzNnzpweNZkOHDigtLQ0M6NqzZo1vbbLUF5errS0NNXV1UmS5s2bZ64Trih4W1ubVqxYoczMTLMdfRUPLy8vtxXpnjNnjnbs2BHV+wcAAACA4YCuasAIcMsttygnJ0der1cLFy7Utm3bNH369F6XD9eF68Ybb+yxnBF4sXr44Yf12GOPKScnR2vXrlV6erq2b9+uNWvWaM+ePdq5c2e/7T127Jjy8vLU3t6ujIwMFRQUmPtrbGzU9u3btXPnTmVlZWny5MkqKyvTnj17VFdXp4KCAt12222SpKuuuirs9m+++WaVlZXp6aefltfrVVFRkdnFbfLkybZlW1padO2116q9vV0FBQVqaWlRY2Oj5s2bF7Y20pw5c9TY2Ki8vDyzQPe2bdv0la98RWVlZVq9enW/7x8AAAAAho0AIvY3Dx4I/M2DBxLdDGBAPB5PICMjIyApIClQVFQU2L9/f9hlCwoKApJ6/X0gEAg89dRTAUmBxYsXm6/t378/ICmQl5cXOHv2rG35xYsXByQFtmzZ0m9bjf0XFRXZtuP1egN5eXkBSYGysjLbOmVlZWFfj2Q/4d6n8V6M9+P1enu8l6KiorBtCH397NmzgZycnIAk23YAAAAAYLijqxowQsyaNUuvvfaaioqKJElVVVWaN2+eFi5cGFH3Natjx47pO9/5jjIyMvTkk0+ar//85z+XJJWWliorK8u2zj/90z9Jktxud7/brqurU0ZGhtavX2/bzvTp01VaWipJevrpp6Nq80Dl5ORo586dtgyt73znO2ZbrYw2rV+/3vZ6VlaWvvnNb0qSdu/eHc/mAgAAAEBM0VUNGEGysrK0ceNGrV+/Xs8884x+8IMfqK6uTgsXLjS7fkVixYoVam9v169//WvbOsZobP/5n/9pjnJm8Pl8krq7wfXm4MGDkqQ77rgjbHvuvPNOSZLX642orYOVm5vbox1G97SWlhbztba2NrNNzzzzTI/t7NmzR5J0/vz5eDUVAAAAAGKOwBEwAmVlZWn16tUqKCjQggUL1NjYqP/4j//Q8uXL+11306ZNqqur0+LFi80gjqGxsVFSMJupNw6Ho8/tv/7665Kkz3/+8/22JdGswStj5DpJZqHucNLT0+PaJgAAAACIJbqqASPYrFmz9C//8i+SpPr6+n6X762LmiEvL0+StH//fgUCgbA/W7du7XMfRmDl5ZdfjvbtJNR1111nTvf23gOBQETBOQAAAAAYLggcASOc0XUqJyen32WNLmo//elPw3YjM7bx9ttvD7g9N910k6Tu7KVQxrD2RpBquMjKylJGRoYkRV0zCgAAAACGKwJHwAiwZMkSrVixokcx5wMHDpjdyr785S/3uY3y8vJeu6gZXC6XJKmkpCRs8OTAgQM92hBq1qxZysnJkdfr1YoVK2y/a25u1gMPPCBJeuihh/rcTiSMbnNvvPHGoLclBf+fJem73/1u2N/3l20FAAAAAMMNNY6AESAzM1NVVVWqqqpSXl6esrKy1NbWZmb1FBUV6ZZbbulzGz/4wQ8kBev6LFy40Pa7Bx54QHfeeaeWLFmiffv2qaqqStdee62KioqUnp6u8+fPa9u2bfJ6vdq/f79thLJwfvGLX2jBggWqqqrS1q1bNXfu3B7tNYI0g+FyubRt2zYtXbpUNTU1amlpUU1NTb//F71Zv369Dh06pKqqKu3atcscSc3n82nr1q1qb2+PSbsBAAAAYKgQOAJGgI0bN+rWW29VTU2N6urqzNcXL16sr3/96z0yiIxMnE9+8pM9thWuC9miRYvC7uuxxx6TJGVkZOiOO+7Qj3/844iCMrNmzVJjY6Mef/xxbd261WxzQUGBCgsLwwZfjNpI0RSfXrJkiY4cOaKqqirV1dUpLy9PkydPltT93vsq5m10TTNkZWVp586deuaZZ7R9+3azSHZOTo6WLFlCfSMAAAAASSctEAgEEt2IZHH7Q7+VJO3+0ZcS3BIAAAAAAID4o8YRAAAAAAAAwiJwBAAAAAAAgLAIHAEAAAAAACAsAkcAAAAAAAAIi1HVopAzZXyimwAAAAAAADBkGFUNAAAAAAAAYdFVDQAAAAAAAGEROAIAAAAAAEBYBI4AAAAAAAAQFoEjAAAAAAAAhEXgCAAAAAAAAGEROAIAAAAAAEBYBI4AJJ3MzExlZmbGdR8HDhzQsWPH4roPAAAAABju0gKBQCDRjQCAaKSlpUmS4nX42rRpk771rW8pIyND586di8s+AAAAACAZkHEEYERasmSJ0tLS1Nzc3ON3V199tSQpJydnqJsFAAAAAMPKqEQ3AAASwe/3S5LeeeedHr+7884745bNBAAAAADJhIwjAAAAAAAAhEXgCBghlixZYhaU3rFjh+bMmaO0tDSlpaVpxYoVvRaCPnbsmFasWKHMzExz+YULF2rr1q09lt20aZPZ/au5udnsDmasc+DAgR7rLFy4sNcuY+Xl5UpLSwu7XjgHDhww32daWpoyMzN7vDdjm3V1dZKkefPmmW009tPc3Ky0tDQtWbKkxz7a2tpUXl6u3Nxcc705c+aovLxcbW1tPZbPzMzUwoULzfWMtuXm5mrTpk0RvS8AAAAASBS6qgEjhN/vV3t7u1asWKGqqirl5OSooKBABw8eVFVVlXbt2qXf//73ysrKMtfZsWOHvvKVr0gK1vuZO3eu2traVFdXp7q6Ou3bt08bN240lz9//rykYACpqqpKGRkZKigoUEtLi7mOx+PRrFmzerQvXJexaBgFrXNyclRUVKT09HTt2bNHVVVV2rp1q1577TVlZWXp5ptvVllZmZ5++ml5vV4VFRUpOztbkjR58mRbW4zubIZjx44pLy9P7e3t5nuTpLq6OjU2Nmr79u3auXOn7f+wvb1dbW1tWrhwoRobG5WXlydJamxs1Le+9S1J0vLlywf13gEAAAAgXsg4AkaYqqoqPfXUU2ppadHOnTv12muvKS8vT16vV88884y5XFtbm7761a9Kkm35Q4cOaf/+/crIyFBVVVXYbKCqqioVFRXptdde086dO9XS0qKioiJJ0po1a+Lyvpqbm1VWVqaWlhZ973vf0+rVq7Vz504tXrxY7e3t2r17tyTplltu0erVq5WbmytJ+od/+AetXr1aq1ev1vTp0/vcx4oVK9Te3m57bzt37pTX61VeXp4aGxtt/4eGxsZGeb1e7d+/X4cOHdKhQ4f01FNPSZJ++MMfxvh/AgAAAABih8ARMMJs2bLFluGSlZWl0tJSSdL27dvN13fv3q329nYVFBT0yIi55ZZbzEDQz3/+8x77KCoq0saNG22ZN+vXr5cUzM4J16VrsDZu3KjVq1f3eP3zn/+8JOn1118f1PaPHTumuro6ZWRkaP369bb3Nn36dPP/8Omnnw67fn19vW655RZzfvny5crIyJDX6x1UuwAAAAAgnggcxYBRvyVRjBoxQCSuuuqqHq/NmDFDUjAzxrBv3z5J0qJFi8Ju58tf/rIkha2NZHT9ssrKyjKHtz969GiUrY5cc3OzNm3apPLycpWXl2vPnj0x2e7BgwclSXfccYctaGS48847JanXQFC47nlz586VFP7/EAAAAACGg4TXOCovL9f27dvNG9a8vDw99NBDYYvSAoiPcF20jGDGZz/72ZjtJzc3N24ZNs3NzVqzZo1Z9DrWjIwlI4Mplk6ePNlvNzkAAAAASISEZhwtXLhQa9asUWNjowoKClRQUKDGxkYtXbq0x2hDxmhNjEIExF64jBeHwyFJ+sMf/hCz/bS0tMRsW6H+8R//UXV1dSorK5PX61UgEFAgEFBZWVlMtp+eni5Jevnll2OyPQAAAABIBgnLONqxY4fq6uqUk5NjG8mpra1NTzzxhDk6k8GYD30dQHTefvvtHq8Z3bCMUcIkacGCBdq2bZuam5vDbuc3v/mNJOnGG2/s8btw39Njx46Z2UbWWj99tSvSIE1zc7M5Ylm4OkexcNNNN0myd+ez2rFjhySZo6YBAAAAQCpIWMbRK6+8Ikn65je/aasXkpWVZY6IBCD2vvrVr2rr1q3m/LFjx/Sv//qvkqTCwkLz9dtvv12SzOHsrXbs2KHHHntMkvSNb3yjxz4ee+wxPfzww+Z8W1ub1q5dK0lmUW2DEXj68Y9/bBbNbmtr04oVK7Rt27aI3tMnP/lJScH6QtbC221tbbaC31ZGRtUbb7wR0T5mzZqlnJwceb1erVixwva75uZmPfDAA5Kkhx56KKLtAQAAAEAySHhx7P4K1x44cEBpaWnmEN5r1qxRWlqa0tLSVF5ebltuyZIlyszMVFpamjIzM7VixYqwXXAyMzO1cOFCtbW1qby83FwnNze3z65w5eXlys3NNbdfXl7e5+hQA22TUew6NzfXtuyOHTs0Z84c8/33ti2gLzk5OVq6dKlyc3O1cOFCMxiSl5dnqy02ffp0bdmyRZJsy+fm5uorX/mKpOAIbeFq8+Tl5emxxx4zP9fXXnuttm3bpoyMDH3729+2LfuNb3xDGRkZqqur0xe+8AVz+aqqqoizd6ZPn66CggK1t7frC1/4gsrLy/Xwww/r2muv7bWmksvlMt+b8b4OHDjQ535+8YtfKCMjQ1VVVeZ7mzNnjpxOp7xer4qKiqjPBgAAACC1BBLE6/UGJAUkBYqKigJnz57tdbmysrJAQUFBQFKgoKAgUFZWFigrKwvs378/EAgEAk899VRAUiAnJyewdu1a2/IZGRk9ti0pkJeXF8jLy+sxLSnw1FNP9WhHUVGR+fuCggLbusZrVoNtU0FBQSAjI8N8j1u2bDH3n5eXZ9tWTk5OIIF/SiQJ4zOzf//+QFlZmfm5ycnJCZSVlfX6Hdy/f39g8eLF5ucvIyMjsHjxYvOzaVVWVhaQFCgrKwv8+te/Nj/PGRkZgaKiooDX6w27D4/HY7ZPUmDx4sUBj8djfo9C95WRkRHIyMiwvXb27NlAUVFRICMjw3xfRUVFgf3795ttCrV27Vpz+by8PLN9Ho/HbEcor9dr24/xfd2yZUvY9xaurQbjPXs8nrC/BwAAAIBES2i0wRoMycjICKxdu7bXG0vrDWmooqKisK8bN7uhN3TWfVpvSK3BHivjxjMjI8N2g7d//37z5jE0cDSYNoXeRJ49e9bcj3U9r9drC3gBfbEGjuKlr+8pAAAAACD5JLSr2pIlS+TxeMwuJo899phycnJstVEisXHjxrA1kYxhs41htEPV19fbivQuX75cGRkZPbq2/PznP5ckff/739esWbPM12+55RbV19fHtE2//OUvbfuQpN27d6u9vV2LFy/u0ZVo586dysnJCbstAAAAAACAwUjYqGqGWbNmaefOnTp27Jgef/xxVVVV6bHHHlN7e7s2btwY1baam5v14osvmiM69Vc/KTRAI0lz585VXV2djh07ZtZuMeoIffazn41oG4NpU7jRpowgkxF0ssrKylJubm6vdVwAAAAAAAAGKuGBI8P06dO1ceNG3XrrrVq6dKmqqqq0fPnyfgMzUjA4s2bNGtXV1cWsPSdPnjQDR30VwB6KNoUb2hyIljGKmDECWTykp6fb/gUAAAAAJLeEj6oW6v+2d7+vTZ3/H8dfgc9dqafx5gTJiTfGhBY9rTDsYIM2oR3DgTNnFcZAsabuzmA2am/IkHYmMITdaFZBEGE2mRNENCQVJqy5YdtsGHDshj2lyNi9NHb+Af3e6PccPc3R+aNt6vZ8gKQ55zrXdZ3c88V1vS/bthWLxSRJd+/efaFnjhw5olKppHQ6LcdxtLxSu0npdHpN5hQOh1/6mbWcE/8Jx1rI5XJaXl5+oTD2VQ0MDGh5eVkDAwPrNgYAAAAAYONsmhVHT3NX+Gzfvv0f21arVVUqFVmWFVhTaC24KzV+//33hq1k1Wp13efkBke//fZbw71araa5ubnXHgMAAAAAAGC1pq04ikajymQyDdvAxsfHValUZBiG9u7d6113w5OFhQVfe3fbjeM4vr5qtZquXr26JnPdv3+/JOnUqVNevSNJKhQKev/99xvar/Wcuru7JUn5fF6FQsG7Xq1WFY/HqW8EAAAAAADWRVO3qqVSKW3btk3xeFzxeFzRaFTHjh2TtHIq2dNbxNzwJJvNqqOjQx0dHcpkMopEIt6pbHv37lUmk9Hw8LB27ty5ZoGKbduyLEv1el2maXpz7evrU2dnZ0P7tZ5TJBLR6dOnJUl9fX3e+7e3t3tzAgAAAAAAWGtNC46mp6eVTqdlWZZKpZJKpZIWFxeVTCZ1794937Hz0kp4MjExIdM0ValUVK/XtWvXLknSDz/8oGQyqcXFRaVSKeXzedm2rRs3bgSObRiGDMN47vxWFxAuFotKJpMyDMMreJ1Op1UsFgP7Wus5jYyMKJ1Oe+/vOI6SyaSmp6dlWdZz3wUAAAAAAOBVhJaXl5ebPQkAAAAAAABsPpvuVDUAAAAAAABsDgRHAAAAAAAACERwBAAAAAAAgEAERwAAAAAAAAhEcAQAAAAAAIBABEcAAAAAAAAIRHAEAAAAAACAQARHAAAAAAAACERwBAAAAAAAgEAERwAAAAAAAAhEcAQAAAAAAIBABEcAAAAAAAAIRHC0Sq1WU7lcVq1WW7cx5ufnVS6X161/AAAAAACAtdDU4Mi2bYVCoYZ/HR0dGhwc1Pz8/IbP6fjx4+rq6tLx48fXbQzLstTV1aXx8fF1GwMAAAAAAOB1NTU4evTokaSVICUWiykWi8myLFUqFWWzWZmmqeHh4Q2dk2mavs9XUa1WFQqFZNv2c8fYvn37K48BAAAAAACw3v7X7AlI0vnz57Vv3z7ve61W08WLF5VKpTQ6OipJGhkZ2ZC5jIyMvPZYjx8/lvQkGFttdnb2tfoHAAAAAADYCJuyxlE4HNbQ0JAmJiYkSaOjo03ZtgYAAAAAAPBftimDI5dt24rFYpKkixcvNtwvFAqKx+NebaRoNKpMJuNrk8lkFAqFGq6vvp/L5SRJ4+PjCoVCDfWHarWaMpmMOjo6fLWY3OdcoVBIXV1dkqRSqeS1jcfjvvcKhUKqVqsN8ymXy77aT62trbJtO7CYtjvXcrmscrns+y1s2yZsAwAAAAAAr2VTB0eS9Pnnn0uSfv31V9/14eFh9fX1aW5uTqdPn1Y6nZZhGEqlUr6Qxg2eLly4ENj/uXPnJEmdnZ2SpKWlJd+ntBIa7d27V6lUSqZpKp1O6/Tp03IcR59++qkvlEqn00omk5LktU2n0957SE+2sLlb2p5+p66uLuXzea/uU2trq/L5vLq6uhpCKneOV65cUVdXl2ZmZhSLxWQYhvL5vHp6etb1dDgAAAAAAPDvtilqHD3PW2+9JUmamZnxrpXLZY2OjsqyLBWLRYXDYUnS0NCQbNtWPp9XLpeTbdtqa2uTaZpyHEfValVtbW1eP4VCQfV6XYlEQpFI5JlzWFpakmEYunfvnu/5gwcPqr29XRcuXNDQ0JA3h3K5rGw2q2g06l3/J+47GYahGzdu+Go+jY+P69ixYxocHFR3d7f3vq5sNqtkMqmzZ88qHA57QZfjOLp9+/Yzi3QDAAAAAAA8z6ZfceSq1+ve31euXJEkff311w0hyhdffCFJun79unft6NGjkqQff/zR1/bmzZuSpP379z937EgkotnZWV9oJMn77jjOC7/Hs7jvdPLkSV9oJEkDAwOyLEv1el23b99ueDaRSGhsbMz7LcLhsE6cOCFJevjw4WvPDQAAAAAA/Ddt+hVHLvcIe+nJqWQ3b97U/fv3fe0WFhYk+U80O3DggFKplLLZrO/EtFwuJ8Mw1N3d/UJzqNVqmp6ebhhzLUxOTkp6srVutU8++USVSiUwCNq9e3fDtXfeeUfSk98DAAAAAADgZW364OjPP/+UJEWjUe9apVKRtLJF61m2bt3q/R2JRBSLxVQqlVQoFNTb2+ttU0smkw2rloJkMhmdO3fOt/JpLbmrllavanpdFMgGAAAAAACvatNvVbt06ZIk6eOPP/auWZYlSZqamtLy8nLgv9WFpN3i1O72NPezv7//H+dQKBS8wti3bt3yjbNWDMOQpMCT1gAAAAAAAJphUwdH5XJZpVJJknzbydxta3///fcL9+U+n8vlVKvVlMvlZJpmQz2hIJcvX5a0UlOpt7f3hcd8GT09PZKkP/74I/D+1atXJUm7du1al/EBAAAAAABW25TBUa1W0/j4uD766CNJK0fcP33qmVvM+syZM4HHzZfL5YYtWuFwWMlkUvV6XYcOHfJOU3sRra2tktRQ22j1qibXli1bJElzc3Mv1L/05J0GBwcbVh0NDw+rUqnINM11C64AAAAAAABW2xQ1jr788ktfnSF3lZG0EhqtPtLetm398ssvymaz2rlzp5LJpFpaWrS0tKR8Pi/HcTQ1NeULmyTpww8/VDab9fo/fPjwC82vv79f2WxWqVRKCwsL2rFjh37++WeVSiUZhtFQ96itrU2macpxHEWjUa8+U7FYfOYYT79Te3u7LMtSOBzWzMyM6vW6DMPQtWvXXmi+AAAAAAAAa6GpwZFbwNotdu2KxWLas2ePDh8+3BD+uMbGxvTee+/p0qVLGh0dlbRSJ6inp0ffffdd4Ba03t5eL9CJxWKBfbe0tPg+JWnfvn26deuWzpw54xXkjsViunXrli5fvqx8Pt/Qz7Vr13TkyBFVKhUtLi7q5MmTDe/trkxa/U7ffvut95uYpinbtvXVV181zDdorqs9XSQcAAAAAADgZYSW17LCMwAAAAAAAP41NmWNIwAAAAAAADQfwREAAAAAAAACERwBAAAAAAAgEMERAAAAAAAAAhEcAQAAAAAAIBDBEQAAAAAAAAIRHAEAAAAAACAQwREAAAAAAAACERwBAAAAAAAgEMERAAAAAAAAAhEcAQAAAAAAIBDBEQAAAAAAAAIRHAWoVqsKhUKybXtdx7FtW6FQSNVqdV3HAQAAAAAAeBUERwEeP34sSXr06NG6juP2744HAAAAAACwmRAcAQAAAAAAIBDBEQAAAAAAAAIRHAEAAAAAACBQU4OjarXqFYgOhUJqbW31ClJnMhmFQiFlMpnAZ937uVzO68ttPz8/7+vXtm2vAPXqMQcHB1Wr1Z45x1qtpsHBQbW2tioUCqmjo0OFQuGZ7XO5nDo6Orz+o9GoBgcHNT8//6o/EwAAAAAAQFOElpeXl5sx8Pz8vCzLkiQlk0m1tLRoYWFBk5OTmpubU7VaVXt7u0zT1NzcXMPz0WhUjuPIcRxFIhGVy2V1dXUpkUhocnJS9XpdsVhMMzMzqtfrMgxD33zzjY4dOybDMNTZ2endsyxLs7OzXt9uX6ZpanFx0eurVqupUqlIkr7//nsNDAz45tTR0eHdj8VikuQb/86dO2pra/Pax+NxlUolTU1Nad++fWv7AwMAAAAAALympq04+umnn1Sv1zU2NqaRkRENDQ1pbGzMC4na2tpkmqYcx1G5XPY9WygU5DiOEomEIpGI714+n/eeKxaLevDggUzTVL1e17Fjx5RIJPTgwQMVi0VVKhUZhqFKpeKtSHqa4zi+vmZnZzUxMSFJOnXqlG+lUiaTUaVSkWVZXnt3/GQyqXq9rlQqtdY/IwAAAAAAwLppeo2jhw8fPvPeiRMnJElXrlzxXb9586Ykaf/+/Q3PmKapYrHoBUrhcFhHjx6VJCUSCeVyOYXDYUlSJBLxtsbdvXs3sK/Z2VlfOGXbthdETU9Pe9cvXLggSTp//ryvfTgc1tmzZyVJpVKJLWsAAAAAAOCN0bTg6MCBAzIMQ6lUSvF4PLBu0IEDByTJq2PkyuVyMgxD3d3dDc9Eo1EvGHK9++67kqTdu3c3tN+xY4ckaWlpKbCvID09PZKk+/fvS1rZduc4jgzDCNxyFg6Hva1rf/31V2CfAAAAAAAAm03TgqNIJKJKpaJEIqFSqaS+vj5Fo1FfgBQOh5VIJFSv173wqFAoqF6vy7bthoBoo7hhk8sNgzo7O5sxHQAAAAAAgHXR1K1qkUhEuVxOjuMonU5rcXFRfX19vvDos88+kyRdv35d0pNtav39/Rs/4f+3sLDg+75lyxZJK4WwAQAAAAAA/i2aXuNIWgmQ3OLYknT58mXvXm9vrwzDUD6f1/z8vHK5nEzT3JBTyJ4ufv20yclJSU+2wLW1tckwDNXr9cAaRrVaTaVSSZL09ttvr9Ns9DDk+wAAAvFJREFUAQAAAAAA1tamCI5WM03T9z2ZTEqSt20tkUhsyDwqlYri8XjD6WnuaWtPh1duke1EIuFrX6vVdOjQIUkr79Gs7XUAAAAAAAAv63/NGjgej0uS9uzZo5aWFi0sLCibzcowDB08eNDX9uDBgxodHVWlUpEkHT58eEPmaFmWZmZmtG3bNsViMc3NzclxHEnSd99952t79uxZzc7OqlKpeO0leSuNLMvyTlcDAAAAAAB4EzRtxdEHH3ygWq2m0dFRpVIp5XI5JRIJ3blzR21tbb62bW1tXhBjWZbvuHuXW2do69atLzWPlpYW3+fTfR05ckR37tzxCng7jqNEIqGpqSn19vb6+gmHwyoWi0qn0zJNU6VSSaVSSZZlKZ1Oq1gsNqw2cufqjgcAAAAAALCZhJaXl5ebPYkXMTg4qGw2q4mJCW9bGAAAAAAAANbPGxEc1Wo1bdu2TYZh6MGDB9QJAgAAAAAA2ACbsjj2ahcvXpS0UoCa0AgAAAAAAGBjvBHB0dWrVyVJ/f39TZ4JAAAAAADAf8cbsVUNAAAAAAAAG++NWHEEAAAAAACAjUdwBAAAAAAAgEAERwAAAAAAAAhEcAQAAAAAAIBABEcAAAAAAAAIRHAEAAAAAACAQARHAAAAAAAACERwBAAAAAAAgEAERwAAAAAAAAhEcAQAAAAAAIBABEcAAAAAAAAIRHAEAAAAAACAQARHAAAAAAAACERwBAAAAAAAgEAERwAAAAAAAAhEcAQAAAAAAIBABEcAAAAAAAAIRHAEAAAAAACAQARHAAAAAAAACERwBAAAAAAAgEAERwAAAAAAAAhEcAQAAAAAAIBABEcAAAAAAAAIRHAEAAAAAACAQARHAAAAAAAACERwBAAAAAAAgEAERwAAAAAAAAhEcAQAAAAAAIBABEcAAAAAAAAIRHAEAAAAAACAQARHAAAAAAAACERwBAAAAAAAgEAERwAAAAAAAAhEcAQAAAAAAIBABEcAAAAAAAAI9H9evg4N84c94QAAAABJRU5ErkJggg==)\n",
        "\n",
        "Although this is useful to know, we can use code to calculate this for us using `std()`"
      ],
      "metadata": {
        "id": "KVdB8NT0GHET"
      }
    },
    {
      "cell_type": "code",
      "source": [
        "#Standard deviation of tips\n",
        "tips['tip'].std()"
      ],
      "metadata": {
        "colab": {
          "base_uri": "https://localhost:8080/"
        },
        "id": "xL_TYuneMYM7",
        "outputId": "68fcd94d-788e-49d2-fdf4-d07600402818"
      },
      "execution_count": null,
      "outputs": [
        {
          "output_type": "execute_result",
          "data": {
            "text/plain": [
              "1.3836381890011822"
            ]
          },
          "metadata": {},
          "execution_count": 15
        }
      ]
    },
    {
      "cell_type": "markdown",
      "source": [
        "We can use `describe()` to gain all these useful statistics and more on the whole of our dataset."
      ],
      "metadata": {
        "id": "jP_q88MXF-5v"
      }
    },
    {
      "cell_type": "code",
      "source": [
        "tips.describe()"
      ],
      "metadata": {
        "colab": {
          "base_uri": "https://localhost:8080/",
          "height": 300
        },
        "id": "7wmkedLEGONx",
        "outputId": "8daaeaa6-bfe4-4198-fc50-83126c66f876"
      },
      "execution_count": null,
      "outputs": [
        {
          "output_type": "execute_result",
          "data": {
            "text/plain": [
              "       total_bill         tip        size\n",
              "count  244.000000  244.000000  244.000000\n",
              "mean    19.785943    2.998279    2.569672\n",
              "std      8.902412    1.383638    0.951100\n",
              "min      3.070000    1.000000    1.000000\n",
              "25%     13.347500    2.000000    2.000000\n",
              "50%     17.795000    2.900000    2.000000\n",
              "75%     24.127500    3.562500    3.000000\n",
              "max     50.810000   10.000000    6.000000"
            ],
            "text/html": [
              "\n",
              "  <div id=\"df-540e3938-18bd-4098-a3a7-83699de851b4\">\n",
              "    <div class=\"colab-df-container\">\n",
              "      <div>\n",
              "<style scoped>\n",
              "    .dataframe tbody tr th:only-of-type {\n",
              "        vertical-align: middle;\n",
              "    }\n",
              "\n",
              "    .dataframe tbody tr th {\n",
              "        vertical-align: top;\n",
              "    }\n",
              "\n",
              "    .dataframe thead th {\n",
              "        text-align: right;\n",
              "    }\n",
              "</style>\n",
              "<table border=\"1\" class=\"dataframe\">\n",
              "  <thead>\n",
              "    <tr style=\"text-align: right;\">\n",
              "      <th></th>\n",
              "      <th>total_bill</th>\n",
              "      <th>tip</th>\n",
              "      <th>size</th>\n",
              "    </tr>\n",
              "  </thead>\n",
              "  <tbody>\n",
              "    <tr>\n",
              "      <th>count</th>\n",
              "      <td>244.000000</td>\n",
              "      <td>244.000000</td>\n",
              "      <td>244.000000</td>\n",
              "    </tr>\n",
              "    <tr>\n",
              "      <th>mean</th>\n",
              "      <td>19.785943</td>\n",
              "      <td>2.998279</td>\n",
              "      <td>2.569672</td>\n",
              "    </tr>\n",
              "    <tr>\n",
              "      <th>std</th>\n",
              "      <td>8.902412</td>\n",
              "      <td>1.383638</td>\n",
              "      <td>0.951100</td>\n",
              "    </tr>\n",
              "    <tr>\n",
              "      <th>min</th>\n",
              "      <td>3.070000</td>\n",
              "      <td>1.000000</td>\n",
              "      <td>1.000000</td>\n",
              "    </tr>\n",
              "    <tr>\n",
              "      <th>25%</th>\n",
              "      <td>13.347500</td>\n",
              "      <td>2.000000</td>\n",
              "      <td>2.000000</td>\n",
              "    </tr>\n",
              "    <tr>\n",
              "      <th>50%</th>\n",
              "      <td>17.795000</td>\n",
              "      <td>2.900000</td>\n",
              "      <td>2.000000</td>\n",
              "    </tr>\n",
              "    <tr>\n",
              "      <th>75%</th>\n",
              "      <td>24.127500</td>\n",
              "      <td>3.562500</td>\n",
              "      <td>3.000000</td>\n",
              "    </tr>\n",
              "    <tr>\n",
              "      <th>max</th>\n",
              "      <td>50.810000</td>\n",
              "      <td>10.000000</td>\n",
              "      <td>6.000000</td>\n",
              "    </tr>\n",
              "  </tbody>\n",
              "</table>\n",
              "</div>\n",
              "      <button class=\"colab-df-convert\" onclick=\"convertToInteractive('df-540e3938-18bd-4098-a3a7-83699de851b4')\"\n",
              "              title=\"Convert this dataframe to an interactive table.\"\n",
              "              style=\"display:none;\">\n",
              "        \n",
              "  <svg xmlns=\"http://www.w3.org/2000/svg\" height=\"24px\"viewBox=\"0 0 24 24\"\n",
              "       width=\"24px\">\n",
              "    <path d=\"M0 0h24v24H0V0z\" fill=\"none\"/>\n",
              "    <path d=\"M18.56 5.44l.94 2.06.94-2.06 2.06-.94-2.06-.94-.94-2.06-.94 2.06-2.06.94zm-11 1L8.5 8.5l.94-2.06 2.06-.94-2.06-.94L8.5 2.5l-.94 2.06-2.06.94zm10 10l.94 2.06.94-2.06 2.06-.94-2.06-.94-.94-2.06-.94 2.06-2.06.94z\"/><path d=\"M17.41 7.96l-1.37-1.37c-.4-.4-.92-.59-1.43-.59-.52 0-1.04.2-1.43.59L10.3 9.45l-7.72 7.72c-.78.78-.78 2.05 0 2.83L4 21.41c.39.39.9.59 1.41.59.51 0 1.02-.2 1.41-.59l7.78-7.78 2.81-2.81c.8-.78.8-2.07 0-2.86zM5.41 20L4 18.59l7.72-7.72 1.47 1.35L5.41 20z\"/>\n",
              "  </svg>\n",
              "      </button>\n",
              "      \n",
              "  <style>\n",
              "    .colab-df-container {\n",
              "      display:flex;\n",
              "      flex-wrap:wrap;\n",
              "      gap: 12px;\n",
              "    }\n",
              "\n",
              "    .colab-df-convert {\n",
              "      background-color: #E8F0FE;\n",
              "      border: none;\n",
              "      border-radius: 50%;\n",
              "      cursor: pointer;\n",
              "      display: none;\n",
              "      fill: #1967D2;\n",
              "      height: 32px;\n",
              "      padding: 0 0 0 0;\n",
              "      width: 32px;\n",
              "    }\n",
              "\n",
              "    .colab-df-convert:hover {\n",
              "      background-color: #E2EBFA;\n",
              "      box-shadow: 0px 1px 2px rgba(60, 64, 67, 0.3), 0px 1px 3px 1px rgba(60, 64, 67, 0.15);\n",
              "      fill: #174EA6;\n",
              "    }\n",
              "\n",
              "    [theme=dark] .colab-df-convert {\n",
              "      background-color: #3B4455;\n",
              "      fill: #D2E3FC;\n",
              "    }\n",
              "\n",
              "    [theme=dark] .colab-df-convert:hover {\n",
              "      background-color: #434B5C;\n",
              "      box-shadow: 0px 1px 3px 1px rgba(0, 0, 0, 0.15);\n",
              "      filter: drop-shadow(0px 1px 2px rgba(0, 0, 0, 0.3));\n",
              "      fill: #FFFFFF;\n",
              "    }\n",
              "  </style>\n",
              "\n",
              "      <script>\n",
              "        const buttonEl =\n",
              "          document.querySelector('#df-540e3938-18bd-4098-a3a7-83699de851b4 button.colab-df-convert');\n",
              "        buttonEl.style.display =\n",
              "          google.colab.kernel.accessAllowed ? 'block' : 'none';\n",
              "\n",
              "        async function convertToInteractive(key) {\n",
              "          const element = document.querySelector('#df-540e3938-18bd-4098-a3a7-83699de851b4');\n",
              "          const dataTable =\n",
              "            await google.colab.kernel.invokeFunction('convertToInteractive',\n",
              "                                                     [key], {});\n",
              "          if (!dataTable) return;\n",
              "\n",
              "          const docLinkHtml = 'Like what you see? Visit the ' +\n",
              "            '<a target=\"_blank\" href=https://colab.research.google.com/notebooks/data_table.ipynb>data table notebook</a>'\n",
              "            + ' to learn more about interactive tables.';\n",
              "          element.innerHTML = '';\n",
              "          dataTable['output_type'] = 'display_data';\n",
              "          await google.colab.output.renderOutput(dataTable, element);\n",
              "          const docLink = document.createElement('div');\n",
              "          docLink.innerHTML = docLinkHtml;\n",
              "          element.appendChild(docLink);\n",
              "        }\n",
              "      </script>\n",
              "    </div>\n",
              "  </div>\n",
              "  "
            ]
          },
          "metadata": {},
          "execution_count": 12
        }
      ]
    },
    {
      "cell_type": "markdown",
      "source": [
        "As we can see from the above, this performs calculations on the numerical data. It would not make sense to do the same on the categorical data."
      ],
      "metadata": {
        "id": "K2i2ooVrGRuX"
      }
    },
    {
      "cell_type": "markdown",
      "source": [
        "### Exercise 3\n",
        "Calculate the median sepal width."
      ],
      "metadata": {
        "id": "epVvAjADuLSc"
      }
    },
    {
      "cell_type": "code",
      "source": [
        "#Insert answer here\n"
      ],
      "metadata": {
        "id": "YgD7zB-RuVsR"
      },
      "execution_count": null,
      "outputs": []
    },
    {
      "cell_type": "code",
      "source": [
        "#@markdown Click here for answer\n",
        "\n",
        "iris['sepal_width'].median()"
      ],
      "metadata": {
        "cellView": "form",
        "id": "pJYeJ36cuVza"
      },
      "execution_count": null,
      "outputs": []
    },
    {
      "cell_type": "markdown",
      "source": [
        "### Exercise 4 \n",
        "Find the key stats such as maximum, mean and standard deviation for each of the fields."
      ],
      "metadata": {
        "id": "DP2Fcouat88C"
      }
    },
    {
      "cell_type": "code",
      "source": [
        "#Insert answer here\n"
      ],
      "metadata": {
        "id": "_eofJDPMunyt"
      },
      "execution_count": null,
      "outputs": []
    },
    {
      "cell_type": "code",
      "source": [
        "#@markdown Click here for answer\n",
        "\n",
        "iris.describe()"
      ],
      "metadata": {
        "cellView": "form",
        "id": "N18SpuMyun1N"
      },
      "execution_count": null,
      "outputs": []
    },
    {
      "cell_type": "markdown",
      "source": [
        "### Exercise 5\n",
        "Calculate the mean petal width for the 'setosa' species."
      ],
      "metadata": {
        "id": "iC3Qou3zu5Wa"
      }
    },
    {
      "cell_type": "code",
      "source": [
        "#Insert answer here\n"
      ],
      "metadata": {
        "id": "tyCFkdNgvJuu"
      },
      "execution_count": null,
      "outputs": []
    },
    {
      "cell_type": "code",
      "source": [
        "#@markdown Click here for answer\n",
        "iris[iris['species']=='setosa']['petal_width'].mean()"
      ],
      "metadata": {
        "cellView": "form",
        "id": "mKgzzm0vvLs4",
        "colab": {
          "base_uri": "https://localhost:8080/"
        },
        "outputId": "42adcd97-bc4f-494a-ff4b-ab1542a96f01",
        "collapsed": true
      },
      "execution_count": null,
      "outputs": [
        {
          "output_type": "execute_result",
          "data": {
            "text/plain": [
              "0.24599999999999997"
            ]
          },
          "metadata": {},
          "execution_count": 63
        }
      ]
    },
    {
      "cell_type": "markdown",
      "source": [
        "##Boxplots\n",
        "Boxplots are a great way of visualising the numerical data within a dataset as it provides a good indication of how the values in the data are spread out and can help identify outliers.\n",
        "\n",
        "It does this with five key values:\n",
        "\n",
        "*   Minimum\n",
        "*   25th percentile or the first quartile (Q1)\n",
        "*   Median\n",
        "*   75th percentile or the third quartile (Q3)\n",
        "*   Maximum\n",
        "\n",
        "Boxplots in python also show which data points are located outside the whiskers of the box plot. This is where the data points are outside 1.5 times the interquartile range above the upper quartile and below the lower quartile.\n",
        "\n",
        "![image.png](data:image/png;base64,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)"
      ],
      "metadata": {
        "id": "x0SUH77SNEd1"
      }
    },
    {
      "cell_type": "markdown",
      "source": [
        "We can use the following code to create box plots of all the numerical data in the dataset. This can be useful for a quick overview - perhaps to quickly identify fields we want to investigate further in outlier analysis. "
      ],
      "metadata": {
        "id": "qKOIPAN2oduM"
      }
    },
    {
      "cell_type": "code",
      "source": [
        "tips.plot(kind='box', figsize=(12, 8),title='Boxplot of all numerical fields');"
      ],
      "metadata": {
        "colab": {
          "base_uri": "https://localhost:8080/",
          "height": 500
        },
        "id": "WjpPAhWJe00U",
        "outputId": "74f38b86-64e1-43b1-cb19-2c078ddd61a9"
      },
      "execution_count": null,
      "outputs": [
        {
          "output_type": "display_data",
          "data": {
            "text/plain": [
              "<Figure size 864x576 with 1 Axes>"
            ],
            "image/png": "[encoded data removed]"
          },
          "metadata": {
            "needs_background": "light"
          }
        }
      ]
    },
    {
      "cell_type": "markdown",
      "source": [
        "Alternatively we can just show a box plot of one field to get a more detailed view of just one field."
      ],
      "metadata": {
        "id": "ECUytqIroq9s"
      }
    },
    {
      "cell_type": "code",
      "source": [
        "plt.figure(figsize=(25,5))\n",
        "plt.title('Boxplot of distribution of total bill', fontsize=16)\n",
        "sns.boxplot(x=tips[\"total_bill\"],color='#329ea8');"
      ],
      "metadata": {
        "colab": {
          "base_uri": "https://localhost:8080/",
          "height": 353
        },
        "id": "ljd4CYStfGdV",
        "outputId": "c46a8fe6-896b-4ed6-8b06-bf397d2da656"
      },
      "execution_count": null,
      "outputs": [
        {
          "output_type": "display_data",
          "data": {
            "text/plain": [
              "<Figure size 1800x360 with 1 Axes>"
            ],
            "image/png": "[encoded data removed]"
          },
          "metadata": {
            "needs_background": "light"
          }
        }
      ]
    },
    {
      "cell_type": "markdown",
      "source": [
        "The `plt.figure()` function creates a figure object elements are added on top of this space such as the plot, the axis, legends, titles etc. `plt.title()` is a function that adds a title to the plot figure."
      ],
      "metadata": {
        "id": "WE2cBU0KWPpb"
      }
    },
    {
      "cell_type": "markdown",
      "source": [
        "Finally, we can compare boxplots by different categories. Please note that the x field should be either a discrete or categorical field."
      ],
      "metadata": {
        "id": "i-UtMKn9qBj_"
      }
    },
    {
      "cell_type": "code",
      "source": [
        "plt.figure(figsize=(12, 8))\n",
        "plt.title('Boxplot of distribution of total bill for each party size', fontsize=14)\n",
        "sns.boxplot(x=tips['size'] , y = tips['total_bill']);"
      ],
      "metadata": {
        "colab": {
          "base_uri": "https://localhost:8080/",
          "height": 514
        },
        "id": "jsfMfUbUg3tR",
        "outputId": "fbfdfa2d-4634-40bd-c259-c02140a2f241"
      },
      "execution_count": null,
      "outputs": [
        {
          "output_type": "display_data",
          "data": {
            "text/plain": [
              "<Figure size 864x576 with 1 Axes>"
            ],
            "image/png": "[encoded data removed]"
          },
          "metadata": {
            "needs_background": "light"
          }
        }
      ]
    },
    {
      "cell_type": "code",
      "source": [
        "plt.figure(figsize=(12, 8))\n",
        "plt.title('Boxplot of distribution of tips by gender', fontsize=14)\n",
        "sns.boxplot(x=tips['sex'] , y = tips['tip']);"
      ],
      "metadata": {
        "colab": {
          "base_uri": "https://localhost:8080/",
          "height": 514
        },
        "id": "htOcAViipxpA",
        "outputId": "02b6c953-ab9b-4efe-f713-bfe9d2164c3c"
      },
      "execution_count": null,
      "outputs": [
        {
          "output_type": "display_data",
          "data": {
            "text/plain": [
              "<Figure size 864x576 with 1 Axes>"
            ],
            "image/png": "[encoded data removed]"
          },
          "metadata": {
            "needs_background": "light"
          }
        }
      ]
    },
    {
      "cell_type": "markdown",
      "source": [
        "### Exercise 6\n",
        "Create a boxplot for the field sepal_length."
      ],
      "metadata": {
        "id": "J1EhagP9vnwN"
      }
    },
    {
      "cell_type": "code",
      "source": [
        "#Insert answer here\n"
      ],
      "metadata": {
        "id": "BlgBhxcEvxLx"
      },
      "execution_count": null,
      "outputs": []
    },
    {
      "cell_type": "code",
      "source": [
        "#@markdown Click here for answer\n",
        "plt.title('Boxplot of distribution of sepal lengths')\n",
        "sns.boxplot(x=iris[\"sepal_length\"]);"
      ],
      "metadata": {
        "cellView": "form",
        "id": "k1KgdX31vyuH"
      },
      "execution_count": null,
      "outputs": []
    },
    {
      "cell_type": "markdown",
      "source": [
        "### Exercise 7 \n",
        "Create a boxplot for petal width by species."
      ],
      "metadata": {
        "id": "YHDZxDtxwK4t"
      }
    },
    {
      "cell_type": "code",
      "source": [
        "#Insert answer here\n"
      ],
      "metadata": {
        "id": "96X5S7vwwTKM"
      },
      "execution_count": null,
      "outputs": []
    },
    {
      "cell_type": "code",
      "source": [
        "#@markdown Click here for answer\n",
        "\n",
        "plt.figure(figsize=(12, 8))\n",
        "plt.title('Boxplot of distribution of petal width by species', fontsize=14)\n",
        "sns.boxplot(x=iris['species'] , y = iris['petal_width']);"
      ],
      "metadata": {
        "id": "gqTp2UTBwT43",
        "cellView": "form"
      },
      "execution_count": null,
      "outputs": []
    },
    {
      "cell_type": "markdown",
      "source": [
        "##Feature engineering\n",
        "\n",
        "Feature engineering is a technique where new variables (aka features) are created through transforming other variables within the dataset into a form which is easier to interpret. The general goal of this is to prepare the data for input into a model or algorithm as well as improve the performance of these algorithms. Below we will show some examples of feature engineering."
      ],
      "metadata": {
        "id": "q5BpUQMsfU60"
      }
    },
    {
      "cell_type": "markdown",
      "source": [
        "We can use the following code to create a new field which calculates what percentage of the bill the tip is. This would add more insight to the data as a £1 tip would be a very small tip on a £100 bill however would be quite significant on a £3 bill."
      ],
      "metadata": {
        "id": "hrFynGnoAS44"
      }
    },
    {
      "cell_type": "code",
      "source": [
        "tips['percentage'] = (tips['tip']/tips['total_bill'])*100\n",
        "\n",
        "#Review dataframe\n",
        "tips.head()"
      ],
      "metadata": {
        "colab": {
          "base_uri": "https://localhost:8080/",
          "height": 206
        },
        "id": "6Qc1zWptARVd",
        "outputId": "1733642d-2ad0-44e0-f921-c157c937941b"
      },
      "execution_count": null,
      "outputs": [
        {
          "output_type": "execute_result",
          "data": {
            "text/plain": [
              "   total_bill   tip     sex smoker  day    time  size  percentage\n",
              "0       16.99  1.01  Female     No  Sun  Dinner     2    5.944673\n",
              "1       10.34  1.66    Male     No  Sun  Dinner     3   16.054159\n",
              "2       21.01  3.50    Male     No  Sun  Dinner     3   16.658734\n",
              "3       23.68  3.31    Male     No  Sun  Dinner     2   13.978041\n",
              "4       24.59  3.61  Female     No  Sun  Dinner     4   14.680765"
            ],
            "text/html": [
              "\n",
              "  <div id=\"df-9258772a-5b79-4ed8-b065-3d74fd79feba\">\n",
              "    <div class=\"colab-df-container\">\n",
              "      <div>\n",
              "<style scoped>\n",
              "    .dataframe tbody tr th:only-of-type {\n",
              "        vertical-align: middle;\n",
              "    }\n",
              "\n",
              "    .dataframe tbody tr th {\n",
              "        vertical-align: top;\n",
              "    }\n",
              "\n",
              "    .dataframe thead th {\n",
              "        text-align: right;\n",
              "    }\n",
              "</style>\n",
              "<table border=\"1\" class=\"dataframe\">\n",
              "  <thead>\n",
              "    <tr style=\"text-align: right;\">\n",
              "      <th></th>\n",
              "      <th>total_bill</th>\n",
              "      <th>tip</th>\n",
              "      <th>sex</th>\n",
              "      <th>smoker</th>\n",
              "      <th>day</th>\n",
              "      <th>time</th>\n",
              "      <th>size</th>\n",
              "      <th>percentage</th>\n",
              "    </tr>\n",
              "  </thead>\n",
              "  <tbody>\n",
              "    <tr>\n",
              "      <th>0</th>\n",
              "      <td>16.99</td>\n",
              "      <td>1.01</td>\n",
              "      <td>Female</td>\n",
              "      <td>No</td>\n",
              "      <td>Sun</td>\n",
              "      <td>Dinner</td>\n",
              "      <td>2</td>\n",
              "      <td>5.944673</td>\n",
              "    </tr>\n",
              "    <tr>\n",
              "      <th>1</th>\n",
              "      <td>10.34</td>\n",
              "      <td>1.66</td>\n",
              "      <td>Male</td>\n",
              "      <td>No</td>\n",
              "      <td>Sun</td>\n",
              "      <td>Dinner</td>\n",
              "      <td>3</td>\n",
              "      <td>16.054159</td>\n",
              "    </tr>\n",
              "    <tr>\n",
              "      <th>2</th>\n",
              "      <td>21.01</td>\n",
              "      <td>3.50</td>\n",
              "      <td>Male</td>\n",
              "      <td>No</td>\n",
              "      <td>Sun</td>\n",
              "      <td>Dinner</td>\n",
              "      <td>3</td>\n",
              "      <td>16.658734</td>\n",
              "    </tr>\n",
              "    <tr>\n",
              "      <th>3</th>\n",
              "      <td>23.68</td>\n",
              "      <td>3.31</td>\n",
              "      <td>Male</td>\n",
              "      <td>No</td>\n",
              "      <td>Sun</td>\n",
              "      <td>Dinner</td>\n",
              "      <td>2</td>\n",
              "      <td>13.978041</td>\n",
              "    </tr>\n",
              "    <tr>\n",
              "      <th>4</th>\n",
              "      <td>24.59</td>\n",
              "      <td>3.61</td>\n",
              "      <td>Female</td>\n",
              "      <td>No</td>\n",
              "      <td>Sun</td>\n",
              "      <td>Dinner</td>\n",
              "      <td>4</td>\n",
              "      <td>14.680765</td>\n",
              "    </tr>\n",
              "  </tbody>\n",
              "</table>\n",
              "</div>\n",
              "      <button class=\"colab-df-convert\" onclick=\"convertToInteractive('df-9258772a-5b79-4ed8-b065-3d74fd79feba')\"\n",
              "              title=\"Convert this dataframe to an interactive table.\"\n",
              "              style=\"display:none;\">\n",
              "        \n",
              "  <svg xmlns=\"http://www.w3.org/2000/svg\" height=\"24px\"viewBox=\"0 0 24 24\"\n",
              "       width=\"24px\">\n",
              "    <path d=\"M0 0h24v24H0V0z\" fill=\"none\"/>\n",
              "    <path d=\"M18.56 5.44l.94 2.06.94-2.06 2.06-.94-2.06-.94-.94-2.06-.94 2.06-2.06.94zm-11 1L8.5 8.5l.94-2.06 2.06-.94-2.06-.94L8.5 2.5l-.94 2.06-2.06.94zm10 10l.94 2.06.94-2.06 2.06-.94-2.06-.94-.94-2.06-.94 2.06-2.06.94z\"/><path d=\"M17.41 7.96l-1.37-1.37c-.4-.4-.92-.59-1.43-.59-.52 0-1.04.2-1.43.59L10.3 9.45l-7.72 7.72c-.78.78-.78 2.05 0 2.83L4 21.41c.39.39.9.59 1.41.59.51 0 1.02-.2 1.41-.59l7.78-7.78 2.81-2.81c.8-.78.8-2.07 0-2.86zM5.41 20L4 18.59l7.72-7.72 1.47 1.35L5.41 20z\"/>\n",
              "  </svg>\n",
              "      </button>\n",
              "      \n",
              "  <style>\n",
              "    .colab-df-container {\n",
              "      display:flex;\n",
              "      flex-wrap:wrap;\n",
              "      gap: 12px;\n",
              "    }\n",
              "\n",
              "    .colab-df-convert {\n",
              "      background-color: #E8F0FE;\n",
              "      border: none;\n",
              "      border-radius: 50%;\n",
              "      cursor: pointer;\n",
              "      display: none;\n",
              "      fill: #1967D2;\n",
              "      height: 32px;\n",
              "      padding: 0 0 0 0;\n",
              "      width: 32px;\n",
              "    }\n",
              "\n",
              "    .colab-df-convert:hover {\n",
              "      background-color: #E2EBFA;\n",
              "      box-shadow: 0px 1px 2px rgba(60, 64, 67, 0.3), 0px 1px 3px 1px rgba(60, 64, 67, 0.15);\n",
              "      fill: #174EA6;\n",
              "    }\n",
              "\n",
              "    [theme=dark] .colab-df-convert {\n",
              "      background-color: #3B4455;\n",
              "      fill: #D2E3FC;\n",
              "    }\n",
              "\n",
              "    [theme=dark] .colab-df-convert:hover {\n",
              "      background-color: #434B5C;\n",
              "      box-shadow: 0px 1px 3px 1px rgba(0, 0, 0, 0.15);\n",
              "      filter: drop-shadow(0px 1px 2px rgba(0, 0, 0, 0.3));\n",
              "      fill: #FFFFFF;\n",
              "    }\n",
              "  </style>\n",
              "\n",
              "      <script>\n",
              "        const buttonEl =\n",
              "          document.querySelector('#df-9258772a-5b79-4ed8-b065-3d74fd79feba button.colab-df-convert');\n",
              "        buttonEl.style.display =\n",
              "          google.colab.kernel.accessAllowed ? 'block' : 'none';\n",
              "\n",
              "        async function convertToInteractive(key) {\n",
              "          const element = document.querySelector('#df-9258772a-5b79-4ed8-b065-3d74fd79feba');\n",
              "          const dataTable =\n",
              "            await google.colab.kernel.invokeFunction('convertToInteractive',\n",
              "                                                     [key], {});\n",
              "          if (!dataTable) return;\n",
              "\n",
              "          const docLinkHtml = 'Like what you see? Visit the ' +\n",
              "            '<a target=\"_blank\" href=https://colab.research.google.com/notebooks/data_table.ipynb>data table notebook</a>'\n",
              "            + ' to learn more about interactive tables.';\n",
              "          element.innerHTML = '';\n",
              "          dataTable['output_type'] = 'display_data';\n",
              "          await google.colab.output.renderOutput(dataTable, element);\n",
              "          const docLink = document.createElement('div');\n",
              "          docLink.innerHTML = docLinkHtml;\n",
              "          element.appendChild(docLink);\n",
              "        }\n",
              "      </script>\n",
              "    </div>\n",
              "  </div>\n",
              "  "
            ]
          },
          "metadata": {},
          "execution_count": 83
        }
      ]
    },
    {
      "cell_type": "markdown",
      "source": [
        "Another useful field may be to classify the days by weekend and weekday. We can utilise numpy to add these conditions. "
      ],
      "metadata": {
        "id": "gnvBmI_xBpce"
      }
    },
    {
      "cell_type": "code",
      "source": [
        "# create a list of our conditions\n",
        "conditions = [\n",
        "    (tips['day'] == 'Sun'),\n",
        "    (tips['day'] == 'Sat')\n",
        "    ]\n",
        "\n",
        "# create a list of the values we want to assign for each condition\n",
        "values = ['weekend', 'weekend']\n",
        "\n",
        "# create a new column and use np.select to assign values to it using our lists as arguments. The last arguement within the select statement is the default case where the other conditions are not met\n",
        "tips['weekend'] = np.select(conditions, values, 'weekday')\n",
        "\n",
        "# display updated DataFrame\n",
        "tips.head()"
      ],
      "metadata": {
        "colab": {
          "base_uri": "https://localhost:8080/",
          "height": 206
        },
        "id": "UvkjFlOFB2Hh",
        "outputId": "79445e75-747b-493a-e34f-04d2b4ec1c4d"
      },
      "execution_count": null,
      "outputs": [
        {
          "output_type": "execute_result",
          "data": {
            "text/plain": [
              "   total_bill   tip     sex smoker  day    time  size  percentage  weekend\n",
              "0       16.99  1.01  Female     No  Sun  Dinner     2    5.944673  weekend\n",
              "1       10.34  1.66    Male     No  Sun  Dinner     3   16.054159  weekend\n",
              "2       21.01  3.50    Male     No  Sun  Dinner     3   16.658734  weekend\n",
              "3       23.68  3.31    Male     No  Sun  Dinner     2   13.978041  weekend\n",
              "4       24.59  3.61  Female     No  Sun  Dinner     4   14.680765  weekend"
            ],
            "text/html": [
              "\n",
              "  <div id=\"df-97404399-1df8-494b-9315-b923732ba95f\">\n",
              "    <div class=\"colab-df-container\">\n",
              "      <div>\n",
              "<style scoped>\n",
              "    .dataframe tbody tr th:only-of-type {\n",
              "        vertical-align: middle;\n",
              "    }\n",
              "\n",
              "    .dataframe tbody tr th {\n",
              "        vertical-align: top;\n",
              "    }\n",
              "\n",
              "    .dataframe thead th {\n",
              "        text-align: right;\n",
              "    }\n",
              "</style>\n",
              "<table border=\"1\" class=\"dataframe\">\n",
              "  <thead>\n",
              "    <tr style=\"text-align: right;\">\n",
              "      <th></th>\n",
              "      <th>total_bill</th>\n",
              "      <th>tip</th>\n",
              "      <th>sex</th>\n",
              "      <th>smoker</th>\n",
              "      <th>day</th>\n",
              "      <th>time</th>\n",
              "      <th>size</th>\n",
              "      <th>percentage</th>\n",
              "      <th>weekend</th>\n",
              "    </tr>\n",
              "  </thead>\n",
              "  <tbody>\n",
              "    <tr>\n",
              "      <th>0</th>\n",
              "      <td>16.99</td>\n",
              "      <td>1.01</td>\n",
              "      <td>Female</td>\n",
              "      <td>No</td>\n",
              "      <td>Sun</td>\n",
              "      <td>Dinner</td>\n",
              "      <td>2</td>\n",
              "      <td>5.944673</td>\n",
              "      <td>weekend</td>\n",
              "    </tr>\n",
              "    <tr>\n",
              "      <th>1</th>\n",
              "      <td>10.34</td>\n",
              "      <td>1.66</td>\n",
              "      <td>Male</td>\n",
              "      <td>No</td>\n",
              "      <td>Sun</td>\n",
              "      <td>Dinner</td>\n",
              "      <td>3</td>\n",
              "      <td>16.054159</td>\n",
              "      <td>weekend</td>\n",
              "    </tr>\n",
              "    <tr>\n",
              "      <th>2</th>\n",
              "      <td>21.01</td>\n",
              "      <td>3.50</td>\n",
              "      <td>Male</td>\n",
              "      <td>No</td>\n",
              "      <td>Sun</td>\n",
              "      <td>Dinner</td>\n",
              "      <td>3</td>\n",
              "      <td>16.658734</td>\n",
              "      <td>weekend</td>\n",
              "    </tr>\n",
              "    <tr>\n",
              "      <th>3</th>\n",
              "      <td>23.68</td>\n",
              "      <td>3.31</td>\n",
              "      <td>Male</td>\n",
              "      <td>No</td>\n",
              "      <td>Sun</td>\n",
              "      <td>Dinner</td>\n",
              "      <td>2</td>\n",
              "      <td>13.978041</td>\n",
              "      <td>weekend</td>\n",
              "    </tr>\n",
              "    <tr>\n",
              "      <th>4</th>\n",
              "      <td>24.59</td>\n",
              "      <td>3.61</td>\n",
              "      <td>Female</td>\n",
              "      <td>No</td>\n",
              "      <td>Sun</td>\n",
              "      <td>Dinner</td>\n",
              "      <td>4</td>\n",
              "      <td>14.680765</td>\n",
              "      <td>weekend</td>\n",
              "    </tr>\n",
              "  </tbody>\n",
              "</table>\n",
              "</div>\n",
              "      <button class=\"colab-df-convert\" onclick=\"convertToInteractive('df-97404399-1df8-494b-9315-b923732ba95f')\"\n",
              "              title=\"Convert this dataframe to an interactive table.\"\n",
              "              style=\"display:none;\">\n",
              "        \n",
              "  <svg xmlns=\"http://www.w3.org/2000/svg\" height=\"24px\"viewBox=\"0 0 24 24\"\n",
              "       width=\"24px\">\n",
              "    <path d=\"M0 0h24v24H0V0z\" fill=\"none\"/>\n",
              "    <path d=\"M18.56 5.44l.94 2.06.94-2.06 2.06-.94-2.06-.94-.94-2.06-.94 2.06-2.06.94zm-11 1L8.5 8.5l.94-2.06 2.06-.94-2.06-.94L8.5 2.5l-.94 2.06-2.06.94zm10 10l.94 2.06.94-2.06 2.06-.94-2.06-.94-.94-2.06-.94 2.06-2.06.94z\"/><path d=\"M17.41 7.96l-1.37-1.37c-.4-.4-.92-.59-1.43-.59-.52 0-1.04.2-1.43.59L10.3 9.45l-7.72 7.72c-.78.78-.78 2.05 0 2.83L4 21.41c.39.39.9.59 1.41.59.51 0 1.02-.2 1.41-.59l7.78-7.78 2.81-2.81c.8-.78.8-2.07 0-2.86zM5.41 20L4 18.59l7.72-7.72 1.47 1.35L5.41 20z\"/>\n",
              "  </svg>\n",
              "      </button>\n",
              "      \n",
              "  <style>\n",
              "    .colab-df-container {\n",
              "      display:flex;\n",
              "      flex-wrap:wrap;\n",
              "      gap: 12px;\n",
              "    }\n",
              "\n",
              "    .colab-df-convert {\n",
              "      background-color: #E8F0FE;\n",
              "      border: none;\n",
              "      border-radius: 50%;\n",
              "      cursor: pointer;\n",
              "      display: none;\n",
              "      fill: #1967D2;\n",
              "      height: 32px;\n",
              "      padding: 0 0 0 0;\n",
              "      width: 32px;\n",
              "    }\n",
              "\n",
              "    .colab-df-convert:hover {\n",
              "      background-color: #E2EBFA;\n",
              "      box-shadow: 0px 1px 2px rgba(60, 64, 67, 0.3), 0px 1px 3px 1px rgba(60, 64, 67, 0.15);\n",
              "      fill: #174EA6;\n",
              "    }\n",
              "\n",
              "    [theme=dark] .colab-df-convert {\n",
              "      background-color: #3B4455;\n",
              "      fill: #D2E3FC;\n",
              "    }\n",
              "\n",
              "    [theme=dark] .colab-df-convert:hover {\n",
              "      background-color: #434B5C;\n",
              "      box-shadow: 0px 1px 3px 1px rgba(0, 0, 0, 0.15);\n",
              "      filter: drop-shadow(0px 1px 2px rgba(0, 0, 0, 0.3));\n",
              "      fill: #FFFFFF;\n",
              "    }\n",
              "  </style>\n",
              "\n",
              "      <script>\n",
              "        const buttonEl =\n",
              "          document.querySelector('#df-97404399-1df8-494b-9315-b923732ba95f button.colab-df-convert');\n",
              "        buttonEl.style.display =\n",
              "          google.colab.kernel.accessAllowed ? 'block' : 'none';\n",
              "\n",
              "        async function convertToInteractive(key) {\n",
              "          const element = document.querySelector('#df-97404399-1df8-494b-9315-b923732ba95f');\n",
              "          const dataTable =\n",
              "            await google.colab.kernel.invokeFunction('convertToInteractive',\n",
              "                                                     [key], {});\n",
              "          if (!dataTable) return;\n",
              "\n",
              "          const docLinkHtml = 'Like what you see? Visit the ' +\n",
              "            '<a target=\"_blank\" href=https://colab.research.google.com/notebooks/data_table.ipynb>data table notebook</a>'\n",
              "            + ' to learn more about interactive tables.';\n",
              "          element.innerHTML = '';\n",
              "          dataTable['output_type'] = 'display_data';\n",
              "          await google.colab.output.renderOutput(dataTable, element);\n",
              "          const docLink = document.createElement('div');\n",
              "          docLink.innerHTML = docLinkHtml;\n",
              "          element.appendChild(docLink);\n",
              "        }\n",
              "      </script>\n",
              "    </div>\n",
              "  </div>\n",
              "  "
            ]
          },
          "metadata": {},
          "execution_count": 84
        }
      ]
    },
    {
      "cell_type": "markdown",
      "source": [
        "Another aspect of feature engineering is encoding categorical data. Models cannot understand catoegorical data so encoding it into numerical data is essential. Some popular methods are Label encoding, One-Hot encoding (OHE) and Ordinal encoding. We will focus on Label encoding here but please look up the other methodologies to help develop your understanding."
      ],
      "metadata": {
        "id": "1JNhyaKyOCBQ"
      }
    },
    {
      "cell_type": "markdown",
      "source": [
        "We will encode the smoker field using `LabelEncoder()`."
      ],
      "metadata": {
        "id": "9S51eBuNQkOT"
      }
    },
    {
      "cell_type": "code",
      "source": [
        "label_encoder = preprocessing.LabelEncoder()\n",
        "\n",
        "#Apply the encoder to the field within the dataframe\n",
        "tips['smoker'] = label_encoder.fit_transform(tips['smoker'])\n",
        "\n",
        "#Review dataframe\n",
        "tips.head()"
      ],
      "metadata": {
        "colab": {
          "base_uri": "https://localhost:8080/",
          "height": 206
        },
        "id": "McUg5_fXQIQ8",
        "outputId": "b0b660e7-8114-46df-c74c-aaa716a786d4"
      },
      "execution_count": null,
      "outputs": [
        {
          "output_type": "execute_result",
          "data": {
            "text/plain": [
              "   total_bill   tip     sex  smoker  day    time  size  percentage  weekend\n",
              "0       16.99  1.01  Female       0  Sun  Dinner     2    5.944673  weekend\n",
              "1       10.34  1.66    Male       0  Sun  Dinner     3   16.054159  weekend\n",
              "2       21.01  3.50    Male       0  Sun  Dinner     3   16.658734  weekend\n",
              "3       23.68  3.31    Male       0  Sun  Dinner     2   13.978041  weekend\n",
              "4       24.59  3.61  Female       0  Sun  Dinner     4   14.680765  weekend"
            ],
            "text/html": [
              "\n",
              "  <div id=\"df-e56e15fd-f9ab-4c3a-b646-848f6f18cd27\">\n",
              "    <div class=\"colab-df-container\">\n",
              "      <div>\n",
              "<style scoped>\n",
              "    .dataframe tbody tr th:only-of-type {\n",
              "        vertical-align: middle;\n",
              "    }\n",
              "\n",
              "    .dataframe tbody tr th {\n",
              "        vertical-align: top;\n",
              "    }\n",
              "\n",
              "    .dataframe thead th {\n",
              "        text-align: right;\n",
              "    }\n",
              "</style>\n",
              "<table border=\"1\" class=\"dataframe\">\n",
              "  <thead>\n",
              "    <tr style=\"text-align: right;\">\n",
              "      <th></th>\n",
              "      <th>total_bill</th>\n",
              "      <th>tip</th>\n",
              "      <th>sex</th>\n",
              "      <th>smoker</th>\n",
              "      <th>day</th>\n",
              "      <th>time</th>\n",
              "      <th>size</th>\n",
              "      <th>percentage</th>\n",
              "      <th>weekend</th>\n",
              "    </tr>\n",
              "  </thead>\n",
              "  <tbody>\n",
              "    <tr>\n",
              "      <th>0</th>\n",
              "      <td>16.99</td>\n",
              "      <td>1.01</td>\n",
              "      <td>Female</td>\n",
              "      <td>0</td>\n",
              "      <td>Sun</td>\n",
              "      <td>Dinner</td>\n",
              "      <td>2</td>\n",
              "      <td>5.944673</td>\n",
              "      <td>weekend</td>\n",
              "    </tr>\n",
              "    <tr>\n",
              "      <th>1</th>\n",
              "      <td>10.34</td>\n",
              "      <td>1.66</td>\n",
              "      <td>Male</td>\n",
              "      <td>0</td>\n",
              "      <td>Sun</td>\n",
              "      <td>Dinner</td>\n",
              "      <td>3</td>\n",
              "      <td>16.054159</td>\n",
              "      <td>weekend</td>\n",
              "    </tr>\n",
              "    <tr>\n",
              "      <th>2</th>\n",
              "      <td>21.01</td>\n",
              "      <td>3.50</td>\n",
              "      <td>Male</td>\n",
              "      <td>0</td>\n",
              "      <td>Sun</td>\n",
              "      <td>Dinner</td>\n",
              "      <td>3</td>\n",
              "      <td>16.658734</td>\n",
              "      <td>weekend</td>\n",
              "    </tr>\n",
              "    <tr>\n",
              "      <th>3</th>\n",
              "      <td>23.68</td>\n",
              "      <td>3.31</td>\n",
              "      <td>Male</td>\n",
              "      <td>0</td>\n",
              "      <td>Sun</td>\n",
              "      <td>Dinner</td>\n",
              "      <td>2</td>\n",
              "      <td>13.978041</td>\n",
              "      <td>weekend</td>\n",
              "    </tr>\n",
              "    <tr>\n",
              "      <th>4</th>\n",
              "      <td>24.59</td>\n",
              "      <td>3.61</td>\n",
              "      <td>Female</td>\n",
              "      <td>0</td>\n",
              "      <td>Sun</td>\n",
              "      <td>Dinner</td>\n",
              "      <td>4</td>\n",
              "      <td>14.680765</td>\n",
              "      <td>weekend</td>\n",
              "    </tr>\n",
              "  </tbody>\n",
              "</table>\n",
              "</div>\n",
              "      <button class=\"colab-df-convert\" onclick=\"convertToInteractive('df-e56e15fd-f9ab-4c3a-b646-848f6f18cd27')\"\n",
              "              title=\"Convert this dataframe to an interactive table.\"\n",
              "              style=\"display:none;\">\n",
              "        \n",
              "  <svg xmlns=\"http://www.w3.org/2000/svg\" height=\"24px\"viewBox=\"0 0 24 24\"\n",
              "       width=\"24px\">\n",
              "    <path d=\"M0 0h24v24H0V0z\" fill=\"none\"/>\n",
              "    <path d=\"M18.56 5.44l.94 2.06.94-2.06 2.06-.94-2.06-.94-.94-2.06-.94 2.06-2.06.94zm-11 1L8.5 8.5l.94-2.06 2.06-.94-2.06-.94L8.5 2.5l-.94 2.06-2.06.94zm10 10l.94 2.06.94-2.06 2.06-.94-2.06-.94-.94-2.06-.94 2.06-2.06.94z\"/><path d=\"M17.41 7.96l-1.37-1.37c-.4-.4-.92-.59-1.43-.59-.52 0-1.04.2-1.43.59L10.3 9.45l-7.72 7.72c-.78.78-.78 2.05 0 2.83L4 21.41c.39.39.9.59 1.41.59.51 0 1.02-.2 1.41-.59l7.78-7.78 2.81-2.81c.8-.78.8-2.07 0-2.86zM5.41 20L4 18.59l7.72-7.72 1.47 1.35L5.41 20z\"/>\n",
              "  </svg>\n",
              "      </button>\n",
              "      \n",
              "  <style>\n",
              "    .colab-df-container {\n",
              "      display:flex;\n",
              "      flex-wrap:wrap;\n",
              "      gap: 12px;\n",
              "    }\n",
              "\n",
              "    .colab-df-convert {\n",
              "      background-color: #E8F0FE;\n",
              "      border: none;\n",
              "      border-radius: 50%;\n",
              "      cursor: pointer;\n",
              "      display: none;\n",
              "      fill: #1967D2;\n",
              "      height: 32px;\n",
              "      padding: 0 0 0 0;\n",
              "      width: 32px;\n",
              "    }\n",
              "\n",
              "    .colab-df-convert:hover {\n",
              "      background-color: #E2EBFA;\n",
              "      box-shadow: 0px 1px 2px rgba(60, 64, 67, 0.3), 0px 1px 3px 1px rgba(60, 64, 67, 0.15);\n",
              "      fill: #174EA6;\n",
              "    }\n",
              "\n",
              "    [theme=dark] .colab-df-convert {\n",
              "      background-color: #3B4455;\n",
              "      fill: #D2E3FC;\n",
              "    }\n",
              "\n",
              "    [theme=dark] .colab-df-convert:hover {\n",
              "      background-color: #434B5C;\n",
              "      box-shadow: 0px 1px 3px 1px rgba(0, 0, 0, 0.15);\n",
              "      filter: drop-shadow(0px 1px 2px rgba(0, 0, 0, 0.3));\n",
              "      fill: #FFFFFF;\n",
              "    }\n",
              "  </style>\n",
              "\n",
              "      <script>\n",
              "        const buttonEl =\n",
              "          document.querySelector('#df-e56e15fd-f9ab-4c3a-b646-848f6f18cd27 button.colab-df-convert');\n",
              "        buttonEl.style.display =\n",
              "          google.colab.kernel.accessAllowed ? 'block' : 'none';\n",
              "\n",
              "        async function convertToInteractive(key) {\n",
              "          const element = document.querySelector('#df-e56e15fd-f9ab-4c3a-b646-848f6f18cd27');\n",
              "          const dataTable =\n",
              "            await google.colab.kernel.invokeFunction('convertToInteractive',\n",
              "                                                     [key], {});\n",
              "          if (!dataTable) return;\n",
              "\n",
              "          const docLinkHtml = 'Like what you see? Visit the ' +\n",
              "            '<a target=\"_blank\" href=https://colab.research.google.com/notebooks/data_table.ipynb>data table notebook</a>'\n",
              "            + ' to learn more about interactive tables.';\n",
              "          element.innerHTML = '';\n",
              "          dataTable['output_type'] = 'display_data';\n",
              "          await google.colab.output.renderOutput(dataTable, element);\n",
              "          const docLink = document.createElement('div');\n",
              "          docLink.innerHTML = docLinkHtml;\n",
              "          element.appendChild(docLink);\n",
              "        }\n",
              "      </script>\n",
              "    </div>\n",
              "  </div>\n",
              "  "
            ]
          },
          "metadata": {},
          "execution_count": 85
        }
      ]
    },
    {
      "cell_type": "markdown",
      "source": [
        "You can see above that rather than creating a new column for this, we have replaced the current column with the encoded data."
      ],
      "metadata": {
        "id": "gb1EhEvBVk1d"
      }
    },
    {
      "cell_type": "markdown",
      "source": [
        "If we require to do all the categorical data in the dataframe, we can do it as so:"
      ],
      "metadata": {
        "id": "y52LzTwgWCTq"
      }
    },
    {
      "cell_type": "code",
      "source": [
        "label_encoder = preprocessing.LabelEncoder()\n",
        "\n",
        "#Select the columns we want to encode\n",
        "cols = ['sex', 'day', 'time','weekend']\n",
        "\n",
        "# Encode labels of multiple columns at once\n",
        "tips[cols] = tips[cols].apply(label_encoder.fit_transform)\n",
        "\n",
        "# Print head\n",
        "tips.head()"
      ],
      "metadata": {
        "colab": {
          "base_uri": "https://localhost:8080/",
          "height": 206
        },
        "id": "FWDqy7qsVgxH",
        "outputId": "1022f6e0-659a-4224-c443-9d8d6bc2039c"
      },
      "execution_count": null,
      "outputs": [
        {
          "output_type": "execute_result",
          "data": {
            "text/plain": [
              "   total_bill   tip  sex  smoker  day  time  size  percentage  weekend\n",
              "0       16.99  1.01    0       0    2     0     2    5.944673        1\n",
              "1       10.34  1.66    1       0    2     0     3   16.054159        1\n",
              "2       21.01  3.50    1       0    2     0     3   16.658734        1\n",
              "3       23.68  3.31    1       0    2     0     2   13.978041        1\n",
              "4       24.59  3.61    0       0    2     0     4   14.680765        1"
            ],
            "text/html": [
              "\n",
              "  <div id=\"df-3ef31f6d-b574-4371-995a-db0636e59692\">\n",
              "    <div class=\"colab-df-container\">\n",
              "      <div>\n",
              "<style scoped>\n",
              "    .dataframe tbody tr th:only-of-type {\n",
              "        vertical-align: middle;\n",
              "    }\n",
              "\n",
              "    .dataframe tbody tr th {\n",
              "        vertical-align: top;\n",
              "    }\n",
              "\n",
              "    .dataframe thead th {\n",
              "        text-align: right;\n",
              "    }\n",
              "</style>\n",
              "<table border=\"1\" class=\"dataframe\">\n",
              "  <thead>\n",
              "    <tr style=\"text-align: right;\">\n",
              "      <th></th>\n",
              "      <th>total_bill</th>\n",
              "      <th>tip</th>\n",
              "      <th>sex</th>\n",
              "      <th>smoker</th>\n",
              "      <th>day</th>\n",
              "      <th>time</th>\n",
              "      <th>size</th>\n",
              "      <th>percentage</th>\n",
              "      <th>weekend</th>\n",
              "    </tr>\n",
              "  </thead>\n",
              "  <tbody>\n",
              "    <tr>\n",
              "      <th>0</th>\n",
              "      <td>16.99</td>\n",
              "      <td>1.01</td>\n",
              "      <td>0</td>\n",
              "      <td>0</td>\n",
              "      <td>2</td>\n",
              "      <td>0</td>\n",
              "      <td>2</td>\n",
              "      <td>5.944673</td>\n",
              "      <td>1</td>\n",
              "    </tr>\n",
              "    <tr>\n",
              "      <th>1</th>\n",
              "      <td>10.34</td>\n",
              "      <td>1.66</td>\n",
              "      <td>1</td>\n",
              "      <td>0</td>\n",
              "      <td>2</td>\n",
              "      <td>0</td>\n",
              "      <td>3</td>\n",
              "      <td>16.054159</td>\n",
              "      <td>1</td>\n",
              "    </tr>\n",
              "    <tr>\n",
              "      <th>2</th>\n",
              "      <td>21.01</td>\n",
              "      <td>3.50</td>\n",
              "      <td>1</td>\n",
              "      <td>0</td>\n",
              "      <td>2</td>\n",
              "      <td>0</td>\n",
              "      <td>3</td>\n",
              "      <td>16.658734</td>\n",
              "      <td>1</td>\n",
              "    </tr>\n",
              "    <tr>\n",
              "      <th>3</th>\n",
              "      <td>23.68</td>\n",
              "      <td>3.31</td>\n",
              "      <td>1</td>\n",
              "      <td>0</td>\n",
              "      <td>2</td>\n",
              "      <td>0</td>\n",
              "      <td>2</td>\n",
              "      <td>13.978041</td>\n",
              "      <td>1</td>\n",
              "    </tr>\n",
              "    <tr>\n",
              "      <th>4</th>\n",
              "      <td>24.59</td>\n",
              "      <td>3.61</td>\n",
              "      <td>0</td>\n",
              "      <td>0</td>\n",
              "      <td>2</td>\n",
              "      <td>0</td>\n",
              "      <td>4</td>\n",
              "      <td>14.680765</td>\n",
              "      <td>1</td>\n",
              "    </tr>\n",
              "  </tbody>\n",
              "</table>\n",
              "</div>\n",
              "      <button class=\"colab-df-convert\" onclick=\"convertToInteractive('df-3ef31f6d-b574-4371-995a-db0636e59692')\"\n",
              "              title=\"Convert this dataframe to an interactive table.\"\n",
              "              style=\"display:none;\">\n",
              "        \n",
              "  <svg xmlns=\"http://www.w3.org/2000/svg\" height=\"24px\"viewBox=\"0 0 24 24\"\n",
              "       width=\"24px\">\n",
              "    <path d=\"M0 0h24v24H0V0z\" fill=\"none\"/>\n",
              "    <path d=\"M18.56 5.44l.94 2.06.94-2.06 2.06-.94-2.06-.94-.94-2.06-.94 2.06-2.06.94zm-11 1L8.5 8.5l.94-2.06 2.06-.94-2.06-.94L8.5 2.5l-.94 2.06-2.06.94zm10 10l.94 2.06.94-2.06 2.06-.94-2.06-.94-.94-2.06-.94 2.06-2.06.94z\"/><path d=\"M17.41 7.96l-1.37-1.37c-.4-.4-.92-.59-1.43-.59-.52 0-1.04.2-1.43.59L10.3 9.45l-7.72 7.72c-.78.78-.78 2.05 0 2.83L4 21.41c.39.39.9.59 1.41.59.51 0 1.02-.2 1.41-.59l7.78-7.78 2.81-2.81c.8-.78.8-2.07 0-2.86zM5.41 20L4 18.59l7.72-7.72 1.47 1.35L5.41 20z\"/>\n",
              "  </svg>\n",
              "      </button>\n",
              "      \n",
              "  <style>\n",
              "    .colab-df-container {\n",
              "      display:flex;\n",
              "      flex-wrap:wrap;\n",
              "      gap: 12px;\n",
              "    }\n",
              "\n",
              "    .colab-df-convert {\n",
              "      background-color: #E8F0FE;\n",
              "      border: none;\n",
              "      border-radius: 50%;\n",
              "      cursor: pointer;\n",
              "      display: none;\n",
              "      fill: #1967D2;\n",
              "      height: 32px;\n",
              "      padding: 0 0 0 0;\n",
              "      width: 32px;\n",
              "    }\n",
              "\n",
              "    .colab-df-convert:hover {\n",
              "      background-color: #E2EBFA;\n",
              "      box-shadow: 0px 1px 2px rgba(60, 64, 67, 0.3), 0px 1px 3px 1px rgba(60, 64, 67, 0.15);\n",
              "      fill: #174EA6;\n",
              "    }\n",
              "\n",
              "    [theme=dark] .colab-df-convert {\n",
              "      background-color: #3B4455;\n",
              "      fill: #D2E3FC;\n",
              "    }\n",
              "\n",
              "    [theme=dark] .colab-df-convert:hover {\n",
              "      background-color: #434B5C;\n",
              "      box-shadow: 0px 1px 3px 1px rgba(0, 0, 0, 0.15);\n",
              "      filter: drop-shadow(0px 1px 2px rgba(0, 0, 0, 0.3));\n",
              "      fill: #FFFFFF;\n",
              "    }\n",
              "  </style>\n",
              "\n",
              "      <script>\n",
              "        const buttonEl =\n",
              "          document.querySelector('#df-3ef31f6d-b574-4371-995a-db0636e59692 button.colab-df-convert');\n",
              "        buttonEl.style.display =\n",
              "          google.colab.kernel.accessAllowed ? 'block' : 'none';\n",
              "\n",
              "        async function convertToInteractive(key) {\n",
              "          const element = document.querySelector('#df-3ef31f6d-b574-4371-995a-db0636e59692');\n",
              "          const dataTable =\n",
              "            await google.colab.kernel.invokeFunction('convertToInteractive',\n",
              "                                                     [key], {});\n",
              "          if (!dataTable) return;\n",
              "\n",
              "          const docLinkHtml = 'Like what you see? Visit the ' +\n",
              "            '<a target=\"_blank\" href=https://colab.research.google.com/notebooks/data_table.ipynb>data table notebook</a>'\n",
              "            + ' to learn more about interactive tables.';\n",
              "          element.innerHTML = '';\n",
              "          dataTable['output_type'] = 'display_data';\n",
              "          await google.colab.output.renderOutput(dataTable, element);\n",
              "          const docLink = document.createElement('div');\n",
              "          docLink.innerHTML = docLinkHtml;\n",
              "          element.appendChild(docLink);\n",
              "        }\n",
              "      </script>\n",
              "    </div>\n",
              "  </div>\n",
              "  "
            ]
          },
          "metadata": {},
          "execution_count": 99
        }
      ]
    },
    {
      "cell_type": "code",
      "source": [
        "tips.info()"
      ],
      "metadata": {
        "colab": {
          "base_uri": "https://localhost:8080/"
        },
        "id": "rBOIaSF2XzMj",
        "outputId": "aea462cd-b21b-4005-de90-023aa19b2649"
      },
      "execution_count": null,
      "outputs": [
        {
          "output_type": "stream",
          "name": "stdout",
          "text": [
            "<class 'pandas.core.frame.DataFrame'>\n",
            "RangeIndex: 244 entries, 0 to 243\n",
            "Data columns (total 9 columns):\n",
            " #   Column      Non-Null Count  Dtype   \n",
            "---  ------      --------------  -----   \n",
            " 0   total_bill  244 non-null    float64 \n",
            " 1   tip         244 non-null    float64 \n",
            " 2   sex         244 non-null    category\n",
            " 3   smoker      244 non-null    int64   \n",
            " 4   day         244 non-null    category\n",
            " 5   time        244 non-null    category\n",
            " 6   size        244 non-null    int64   \n",
            " 7   percentage  244 non-null    float64 \n",
            " 8   weekend     244 non-null    object  \n",
            "dtypes: category(3), float64(3), int64(2), object(1)\n",
            "memory usage: 12.7+ KB\n"
          ]
        }
      ]
    },
    {
      "cell_type": "markdown",
      "source": [
        "### Exercise 8\n",
        "Create a new field where petal lengths larger than the mean are categorised as small and those larger than and including the mean are categorised as large."
      ],
      "metadata": {
        "id": "6uUXNEgtZHMG"
      }
    },
    {
      "cell_type": "code",
      "source": [
        "#@markdown Click here for answer\n",
        "# create a list of our conditions\n",
        "conditions = [\n",
        "    (iris['petal_length'] < iris['petal_length'].mean()),\n",
        "    (iris['petal_length'] >= iris['petal_length'].mean())\n",
        "    ]\n",
        "\n",
        "# create a list of the values we want to assign for each condition\n",
        "values = ['small', 'large']\n",
        "\n",
        "# create a new column and use np.select to assign values to it using our lists as arguments. \n",
        "iris['petal_length_category'] = np.select(conditions, values)\n",
        "\n",
        "# display updated DataFrame\n",
        "iris"
      ],
      "metadata": {
        "colab": {
          "base_uri": "https://localhost:8080/",
          "height": 424
        },
        "collapsed": true,
        "cellView": "form",
        "id": "l73jQcfIZKcG",
        "outputId": "0faa6328-74f4-4ec5-80a0-4d8ebfac89ab"
      },
      "execution_count": null,
      "outputs": [
        {
          "output_type": "execute_result",
          "data": {
            "text/plain": [
              "     sepal_length  sepal_width  petal_length  petal_width    species  \\\n",
              "0             5.1          3.5           1.4          0.2     setosa   \n",
              "1             4.9          3.0           1.4          0.2     setosa   \n",
              "2             4.7          3.2           1.3          0.2     setosa   \n",
              "3             4.6          3.1           1.5          0.2     setosa   \n",
              "4             5.0          3.6           1.4          0.2     setosa   \n",
              "..            ...          ...           ...          ...        ...   \n",
              "145           6.7          3.0           5.2          2.3  virginica   \n",
              "146           6.3          2.5           5.0          1.9  virginica   \n",
              "147           6.5          3.0           5.2          2.0  virginica   \n",
              "148           6.2          3.4           5.4          2.3  virginica   \n",
              "149           5.9          3.0           5.1          1.8  virginica   \n",
              "\n",
              "    petal_length_category  \n",
              "0                   small  \n",
              "1                   small  \n",
              "2                   small  \n",
              "3                   small  \n",
              "4                   small  \n",
              "..                    ...  \n",
              "145                 large  \n",
              "146                 large  \n",
              "147                 large  \n",
              "148                 large  \n",
              "149                 large  \n",
              "\n",
              "[150 rows x 6 columns]"
            ],
            "text/html": [
              "\n",
              "  <div id=\"df-8a73b029-f7c4-436f-8936-1d0f3580e11e\">\n",
              "    <div class=\"colab-df-container\">\n",
              "      <div>\n",
              "<style scoped>\n",
              "    .dataframe tbody tr th:only-of-type {\n",
              "        vertical-align: middle;\n",
              "    }\n",
              "\n",
              "    .dataframe tbody tr th {\n",
              "        vertical-align: top;\n",
              "    }\n",
              "\n",
              "    .dataframe thead th {\n",
              "        text-align: right;\n",
              "    }\n",
              "</style>\n",
              "<table border=\"1\" class=\"dataframe\">\n",
              "  <thead>\n",
              "    <tr style=\"text-align: right;\">\n",
              "      <th></th>\n",
              "      <th>sepal_length</th>\n",
              "      <th>sepal_width</th>\n",
              "      <th>petal_length</th>\n",
              "      <th>petal_width</th>\n",
              "      <th>species</th>\n",
              "      <th>petal_length_category</th>\n",
              "    </tr>\n",
              "  </thead>\n",
              "  <tbody>\n",
              "    <tr>\n",
              "      <th>0</th>\n",
              "      <td>5.1</td>\n",
              "      <td>3.5</td>\n",
              "      <td>1.4</td>\n",
              "      <td>0.2</td>\n",
              "      <td>setosa</td>\n",
              "      <td>small</td>\n",
              "    </tr>\n",
              "    <tr>\n",
              "      <th>1</th>\n",
              "      <td>4.9</td>\n",
              "      <td>3.0</td>\n",
              "      <td>1.4</td>\n",
              "      <td>0.2</td>\n",
              "      <td>setosa</td>\n",
              "      <td>small</td>\n",
              "    </tr>\n",
              "    <tr>\n",
              "      <th>2</th>\n",
              "      <td>4.7</td>\n",
              "      <td>3.2</td>\n",
              "      <td>1.3</td>\n",
              "      <td>0.2</td>\n",
              "      <td>setosa</td>\n",
              "      <td>small</td>\n",
              "    </tr>\n",
              "    <tr>\n",
              "      <th>3</th>\n",
              "      <td>4.6</td>\n",
              "      <td>3.1</td>\n",
              "      <td>1.5</td>\n",
              "      <td>0.2</td>\n",
              "      <td>setosa</td>\n",
              "      <td>small</td>\n",
              "    </tr>\n",
              "    <tr>\n",
              "      <th>4</th>\n",
              "      <td>5.0</td>\n",
              "      <td>3.6</td>\n",
              "      <td>1.4</td>\n",
              "      <td>0.2</td>\n",
              "      <td>setosa</td>\n",
              "      <td>small</td>\n",
              "    </tr>\n",
              "    <tr>\n",
              "      <th>...</th>\n",
              "      <td>...</td>\n",
              "      <td>...</td>\n",
              "      <td>...</td>\n",
              "      <td>...</td>\n",
              "      <td>...</td>\n",
              "      <td>...</td>\n",
              "    </tr>\n",
              "    <tr>\n",
              "      <th>145</th>\n",
              "      <td>6.7</td>\n",
              "      <td>3.0</td>\n",
              "      <td>5.2</td>\n",
              "      <td>2.3</td>\n",
              "      <td>virginica</td>\n",
              "      <td>large</td>\n",
              "    </tr>\n",
              "    <tr>\n",
              "      <th>146</th>\n",
              "      <td>6.3</td>\n",
              "      <td>2.5</td>\n",
              "      <td>5.0</td>\n",
              "      <td>1.9</td>\n",
              "      <td>virginica</td>\n",
              "      <td>large</td>\n",
              "    </tr>\n",
              "    <tr>\n",
              "      <th>147</th>\n",
              "      <td>6.5</td>\n",
              "      <td>3.0</td>\n",
              "      <td>5.2</td>\n",
              "      <td>2.0</td>\n",
              "      <td>virginica</td>\n",
              "      <td>large</td>\n",
              "    </tr>\n",
              "    <tr>\n",
              "      <th>148</th>\n",
              "      <td>6.2</td>\n",
              "      <td>3.4</td>\n",
              "      <td>5.4</td>\n",
              "      <td>2.3</td>\n",
              "      <td>virginica</td>\n",
              "      <td>large</td>\n",
              "    </tr>\n",
              "    <tr>\n",
              "      <th>149</th>\n",
              "      <td>5.9</td>\n",
              "      <td>3.0</td>\n",
              "      <td>5.1</td>\n",
              "      <td>1.8</td>\n",
              "      <td>virginica</td>\n",
              "      <td>large</td>\n",
              "    </tr>\n",
              "  </tbody>\n",
              "</table>\n",
              "<p>150 rows × 6 columns</p>\n",
              "</div>\n",
              "      <button class=\"colab-df-convert\" onclick=\"convertToInteractive('df-8a73b029-f7c4-436f-8936-1d0f3580e11e')\"\n",
              "              title=\"Convert this dataframe to an interactive table.\"\n",
              "              style=\"display:none;\">\n",
              "        \n",
              "  <svg xmlns=\"http://www.w3.org/2000/svg\" height=\"24px\"viewBox=\"0 0 24 24\"\n",
              "       width=\"24px\">\n",
              "    <path d=\"M0 0h24v24H0V0z\" fill=\"none\"/>\n",
              "    <path d=\"M18.56 5.44l.94 2.06.94-2.06 2.06-.94-2.06-.94-.94-2.06-.94 2.06-2.06.94zm-11 1L8.5 8.5l.94-2.06 2.06-.94-2.06-.94L8.5 2.5l-.94 2.06-2.06.94zm10 10l.94 2.06.94-2.06 2.06-.94-2.06-.94-.94-2.06-.94 2.06-2.06.94z\"/><path d=\"M17.41 7.96l-1.37-1.37c-.4-.4-.92-.59-1.43-.59-.52 0-1.04.2-1.43.59L10.3 9.45l-7.72 7.72c-.78.78-.78 2.05 0 2.83L4 21.41c.39.39.9.59 1.41.59.51 0 1.02-.2 1.41-.59l7.78-7.78 2.81-2.81c.8-.78.8-2.07 0-2.86zM5.41 20L4 18.59l7.72-7.72 1.47 1.35L5.41 20z\"/>\n",
              "  </svg>\n",
              "      </button>\n",
              "      \n",
              "  <style>\n",
              "    .colab-df-container {\n",
              "      display:flex;\n",
              "      flex-wrap:wrap;\n",
              "      gap: 12px;\n",
              "    }\n",
              "\n",
              "    .colab-df-convert {\n",
              "      background-color: #E8F0FE;\n",
              "      border: none;\n",
              "      border-radius: 50%;\n",
              "      cursor: pointer;\n",
              "      display: none;\n",
              "      fill: #1967D2;\n",
              "      height: 32px;\n",
              "      padding: 0 0 0 0;\n",
              "      width: 32px;\n",
              "    }\n",
              "\n",
              "    .colab-df-convert:hover {\n",
              "      background-color: #E2EBFA;\n",
              "      box-shadow: 0px 1px 2px rgba(60, 64, 67, 0.3), 0px 1px 3px 1px rgba(60, 64, 67, 0.15);\n",
              "      fill: #174EA6;\n",
              "    }\n",
              "\n",
              "    [theme=dark] .colab-df-convert {\n",
              "      background-color: #3B4455;\n",
              "      fill: #D2E3FC;\n",
              "    }\n",
              "\n",
              "    [theme=dark] .colab-df-convert:hover {\n",
              "      background-color: #434B5C;\n",
              "      box-shadow: 0px 1px 3px 1px rgba(0, 0, 0, 0.15);\n",
              "      filter: drop-shadow(0px 1px 2px rgba(0, 0, 0, 0.3));\n",
              "      fill: #FFFFFF;\n",
              "    }\n",
              "  </style>\n",
              "\n",
              "      <script>\n",
              "        const buttonEl =\n",
              "          document.querySelector('#df-8a73b029-f7c4-436f-8936-1d0f3580e11e button.colab-df-convert');\n",
              "        buttonEl.style.display =\n",
              "          google.colab.kernel.accessAllowed ? 'block' : 'none';\n",
              "\n",
              "        async function convertToInteractive(key) {\n",
              "          const element = document.querySelector('#df-8a73b029-f7c4-436f-8936-1d0f3580e11e');\n",
              "          const dataTable =\n",
              "            await google.colab.kernel.invokeFunction('convertToInteractive',\n",
              "                                                     [key], {});\n",
              "          if (!dataTable) return;\n",
              "\n",
              "          const docLinkHtml = 'Like what you see? Visit the ' +\n",
              "            '<a target=\"_blank\" href=https://colab.research.google.com/notebooks/data_table.ipynb>data table notebook</a>'\n",
              "            + ' to learn more about interactive tables.';\n",
              "          element.innerHTML = '';\n",
              "          dataTable['output_type'] = 'display_data';\n",
              "          await google.colab.output.renderOutput(dataTable, element);\n",
              "          const docLink = document.createElement('div');\n",
              "          docLink.innerHTML = docLinkHtml;\n",
              "          element.appendChild(docLink);\n",
              "        }\n",
              "      </script>\n",
              "    </div>\n",
              "  </div>\n",
              "  "
            ]
          },
          "metadata": {},
          "execution_count": 104
        }
      ]
    },
    {
      "cell_type": "markdown",
      "source": [
        "# **Feedback**\n",
        "\n",
        "Please complete the below anonymous feedback."
      ],
      "metadata": {
        "id": "u8pgeI3HBlaS"
      }
    },
    {
      "cell_type": "code",
      "source": [
        "#@title\n",
        "%%html\n",
        "\n",
        "<iframe src=\"https://docs.google.com/forms/d/e/1FAIpQLSdRje17rg051-gtkG8MTDLyQGzY52iyG7NJZ0GVLd4pBM2t-Q/viewform?embedded=true\" width=\"673\" height=\"559\" frameborder=\"0\" marginheight=\"0\" marginwidth=\"0\">Loading…</iframe>"
      ],
      "metadata": {
        "colab": {
          "base_uri": "https://localhost:8080/",
          "height": 580
        },
        "cellView": "form",
        "id": "nVbdqhQbBrZx",
        "outputId": "62e595c5-4e9e-47ce-e979-8fc1335dbe26"
      },
      "execution_count": null,
      "outputs": [
        {
          "output_type": "display_data",
          "data": {
            "text/plain": [
              "<IPython.core.display.HTML object>"
            ],
            "text/html": [
              "\n",
              "<iframe src=\"https://docs.google.com/forms/d/e/1FAIpQLSdRje17rg051-gtkG8MTDLyQGzY52iyG7NJZ0GVLd4pBM2t-Q/viewform?embedded=true\" width=\"673\" height=\"559\" frameborder=\"0\" marginheight=\"0\" marginwidth=\"0\">Loading…</iframe>"
            ]
          },
          "metadata": {}
        }
      ]
    }
  ]
}